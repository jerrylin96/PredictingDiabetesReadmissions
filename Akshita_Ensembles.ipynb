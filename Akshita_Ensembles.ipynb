{
 "cells": [
  {
   "cell_type": "code",
   "execution_count": 1,
   "id": "7d0f9d9b",
   "metadata": {},
   "outputs": [
    {
     "name": "stdout",
     "output_type": "stream",
     "text": [
      "/Users/akshitasingh/Downloads/273A_ML/1_MLProject\n"
     ]
    }
   ],
   "source": [
    "cd /Users/akshitasingh/Downloads/273A_ML/1_MLProject"
   ]
  },
  {
   "cell_type": "code",
   "execution_count": 2,
   "id": "0932c2e3",
   "metadata": {},
   "outputs": [],
   "source": [
    "%matplotlib inline\n",
    "import matplotlib.pyplot as plt\n",
    "import numpy as np\n",
    "import pandas as pd\n",
    "np.random.seed(0)\n",
    "\n",
    "from collections import defaultdict\n",
    "\n",
    "np.random.seed(100)"
   ]
  },
  {
   "cell_type": "code",
   "execution_count": 3,
   "id": "b23fbf90",
   "metadata": {},
   "outputs": [],
   "source": [
    "# sklearn imports\n",
    "from sklearn import preprocessing\n",
    "from sklearn.feature_selection import VarianceThreshold\n",
    "from sklearn.preprocessing import StandardScaler\n",
    "from sklearn.model_selection import train_test_split\n",
    "from sklearn.pipeline import Pipeline\n",
    "from sklearn.linear_model import Lasso\n",
    "from sklearn.decomposition import PCA\n",
    "from sklearn.preprocessing import OneHotEncoder\n",
    "\n",
    "from sklearn.linear_model import LogisticRegression\n",
    "from sklearn.ensemble import RandomForestClassifier\n",
    "from sklearn import svm\n",
    "from sklearn.tree import DecisionTreeClassifier\n",
    "from sklearn.ensemble import GradientBoostingClassifier\n",
    "\n",
    "from imblearn.over_sampling import SMOTE\n",
    "from imblearn.over_sampling import RandomOverSampler\n",
    "from imblearn.under_sampling import ClusterCentroids\n",
    "from imblearn.under_sampling import RandomUnderSampler\n",
    "\n",
    "from sklearn import metrics\n",
    "from sklearn.model_selection import cross_val_score\n",
    "from sklearn.metrics import accuracy_score\n",
    "from sklearn.metrics import balanced_accuracy_score\n",
    "from sklearn.model_selection import GridSearchCV\n",
    "from imblearn.pipeline import Pipeline\n",
    "from sklearn import datasets\n",
    "from sklearn import metrics\n",
    "from sklearn.metrics import roc_curve, auc\n",
    "from sklearn.metrics import accuracy_score, roc_auc_score, recall_score\n",
    "from sklearn.metrics import confusion_matrix\n",
    "\n",
    "# other stats/math imports\n",
    "import math\n",
    "from scipy.stats import chi2_contingency"
   ]
  },
  {
   "cell_type": "code",
   "execution_count": 4,
   "id": "1a5bae21",
   "metadata": {},
   "outputs": [],
   "source": [
    "train_data = pd.read_csv(\"/Users/akshitasingh/Downloads/273A_ML/1_MLProject/dataset_diabetes/train_data.csv\", delimiter=None) \n",
    "test_data = pd.read_csv(\"/Users/akshitasingh/Downloads/273A_ML/1_MLProject/dataset_diabetes/test_data.csv\", delimiter=None) \n",
    "\n",
    "train_data = pd.DataFrame(train_data)\n",
    "test_data = pd.DataFrame(test_data)\n",
    "\n",
    "train_data = train_data.drop(['Unnamed: 0'], axis = 1)\n",
    "test_data = test_data.drop(['Unnamed: 0'], axis = 1)\n",
    "\n",
    "Xtr = train_data.iloc[:, :-1]\n",
    "Ytr = train_data.iloc[:, -1]\n",
    "\n",
    "Xte = test_data.iloc[:, :-1]\n",
    "Yte = test_data.iloc[:, -1]"
   ]
  },
  {
   "cell_type": "markdown",
   "id": "1309c99e",
   "metadata": {},
   "source": [
    "# Training Ensembles"
   ]
  },
  {
   "cell_type": "markdown",
   "id": "ca1c8184",
   "metadata": {},
   "source": [
    "### Ensembles Pipeline, Grid"
   ]
  },
  {
   "cell_type": "code",
   "execution_count": 5,
   "id": "b87ac2c8",
   "metadata": {},
   "outputs": [],
   "source": [
    "scoring = ['balanced_accuracy', 'accuracy', 'roc_auc', 'recall', 'precision']\n",
    "\n",
    "lr = np.linspace(.01, .2, num= 4)\n",
    "min_split = np.linspace(0.1, 0.5, 4)\n",
    "min_leaf = np.linspace(0.1, 0.5, 4)\n",
    "max_depth = np.linspace(2, 9, num= 4)\n",
    "max_features = [\"log2\",\"sqrt\"]\n",
    "subs = np.linspace(.5, 1, num= 2)\n",
    "n_est = [10]\n",
    "scoring = ['recall', 'accuracy']\n",
    "\n",
    "\n",
    "parameters = {\n",
    "    \"loss\":[\"deviance\"],\n",
    "    \"learning_rate\": lr,\n",
    "    \"min_samples_split\": min_split,\n",
    "    \"min_samples_leaf\": min_leaf,\n",
    "    \"max_depth\": max_depth,\n",
    "#     \"max_features\": max_features,\n",
    "#     \"criterion\": [\"friedman_mse\",  \"mae\"],\n",
    "#     \"subsample\": subs,\n",
    "#     \"n_estimators\": n_est\n",
    "    }\n",
    "\n",
    "\n",
    "#passing the scoring function in the GridSearchCV\n",
    "grid = GridSearchCV(GradientBoostingClassifier(), parameters, refit=False,cv=2)\n"
   ]
  },
  {
   "cell_type": "code",
   "execution_count": 6,
   "id": "f63f504e",
   "metadata": {},
   "outputs": [],
   "source": [
    "chosen_model = grid.fit(Xtr,Ytr)"
   ]
  },
  {
   "cell_type": "code",
   "execution_count": 7,
   "id": "d6871fd8",
   "metadata": {},
   "outputs": [
    {
     "data": {
      "text/plain": [
       "GridSearchCV(cv=2, estimator=GradientBoostingClassifier(),\n",
       "             param_grid={'learning_rate': array([0.01      , 0.07333333, 0.13666667, 0.2       ]),\n",
       "                         'loss': ['deviance'],\n",
       "                         'max_depth': array([2.        , 4.33333333, 6.66666667, 9.        ]),\n",
       "                         'min_samples_leaf': array([0.1       , 0.23333333, 0.36666667, 0.5       ]),\n",
       "                         'min_samples_split': array([0.1       , 0.23333333, 0.36666667, 0.5       ])},\n",
       "             refit=False)"
      ]
     },
     "execution_count": 7,
     "metadata": {},
     "output_type": "execute_result"
    }
   ],
   "source": [
    "chosen_model"
   ]
  },
  {
   "cell_type": "code",
   "execution_count": 8,
   "id": "65660454",
   "metadata": {},
   "outputs": [
    {
     "name": "stdout",
     "output_type": "stream",
     "text": [
      "{'learning_rate': 0.2, 'loss': 'deviance', 'max_depth': 6.666666666666667, 'min_samples_leaf': 0.1, 'min_samples_split': 0.3666666666666667}\n"
     ]
    }
   ],
   "source": [
    "print(chosen_model.best_params_)"
   ]
  },
  {
   "cell_type": "code",
   "execution_count": 9,
   "id": "b27531eb",
   "metadata": {},
   "outputs": [],
   "source": [
    "clf = GradientBoostingClassifier(learning_rate = 0.2, loss = 'deviance', n_estimators=100, \n",
    "                                  min_samples_leaf = .1, min_samples_split = .366,\n",
    "                                 max_depth= 6, random_state= 100).fit(Xtr, Ytr)"
   ]
  },
  {
   "cell_type": "code",
   "execution_count": 10,
   "id": "58185d74",
   "metadata": {},
   "outputs": [
    {
     "data": {
      "text/plain": [
       "Text(0.5, 0, 'False Positive Rate')"
      ]
     },
     "execution_count": 10,
     "metadata": {},
     "output_type": "execute_result"
    },
    {
     "data": {
      "image/png": "[encoded data removed]",
      "text/plain": [
       "<Figure size 432x288 with 1 Axes>"
      ]
     },
     "metadata": {
      "needs_background": "light"
     },
     "output_type": "display_data"
    }
   ],
   "source": [
    "YteH = clf.predict(Xte)\n",
    "fpr, tpr, threshold = metrics.roc_curve(Yte, YteH)\n",
    "roc_auc = metrics.auc(fpr, tpr)\n",
    "\n",
    "plt.plot(fpr, tpr, 'b' , label = 'AUC = %0.6f' % roc_auc)\n",
    "plt.plot([0, 1], [0, 1],'r--')\n",
    "\n",
    "plt.title('ROC Curves for different SVM models')\n",
    "plt.legend(loc = 'lower right')\n",
    "plt.xlim([0, 1])\n",
    "plt.ylim([0, 1])\n",
    "plt.ylabel('True Positive Rate')\n",
    "plt.xlabel('False Positive Rate')"
   ]
  },
  {
   "cell_type": "code",
   "execution_count": 11,
   "id": "c610c1e1",
   "metadata": {},
   "outputs": [
    {
     "name": "stderr",
     "output_type": "stream",
     "text": [
      "/Users/akshitasingh/opt/anaconda3/lib/python3.8/site-packages/sklearn/utils/deprecation.py:87: FutureWarning: Function plot_roc_curve is deprecated; Function `plot_roc_curve` is deprecated in 1.0 and will be removed in 1.2. Use one of the class methods: RocCurveDisplay.from_predictions or RocCurveDisplay.from_estimator.\n",
      "  warnings.warn(msg, category=FutureWarning)\n"
     ]
    },
    {
     "data": {
      "text/plain": [
       "<sklearn.metrics._plot.roc_curve.RocCurveDisplay at 0x7f8da3679b50>"
      ]
     },
     "execution_count": 11,
     "metadata": {},
     "output_type": "execute_result"
    },
    {
     "data": {
      "image/png": "[encoded data removed]",
      "text/plain": [
       "<Figure size 432x288 with 1 Axes>"
      ]
     },
     "metadata": {
      "needs_background": "light"
     },
     "output_type": "display_data"
    }
   ],
   "source": [
    "metrics.plot_roc_curve(clf, Xtr, Ytr)"
   ]
  },
  {
   "cell_type": "code",
   "execution_count": 12,
   "id": "adfc85d8",
   "metadata": {},
   "outputs": [
    {
     "data": {
      "text/plain": [
       "0.617629802965669"
      ]
     },
     "execution_count": 12,
     "metadata": {},
     "output_type": "execute_result"
    }
   ],
   "source": [
    "cross_val_score(clf, Xtr, Ytr, cv = 4).mean()"
   ]
  },
  {
   "cell_type": "code",
   "execution_count": 13,
   "id": "1c7b1d0d",
   "metadata": {},
   "outputs": [
    {
     "data": {
      "text/plain": [
       "6.408312432125975e-05"
      ]
     },
     "execution_count": 13,
     "metadata": {},
     "output_type": "execute_result"
    }
   ],
   "source": [
    "cross_val_score(clf, Xtr, Ytr, cv = 4).var()"
   ]
  },
  {
   "cell_type": "code",
   "execution_count": 14,
   "id": "bd0ba506",
   "metadata": {},
   "outputs": [],
   "source": [
    "# # get false and true positive rates\n",
    "# fpr, tpr, thresholds = roc_curve(Yte, probas[:,0], pos_label=0)\n",
    "\n",
    "# # get area under the curve\n",
    "# roc_auc = auc(fpr, tpr)\n",
    "\n",
    "# # PLOT ROC curve\n",
    "# plt.figure(dpi=150)\n",
    "# plt.plot(fpr, tpr, lw=1, color='green', label=f'AUC = {roc_auc:.3f}')\n",
    "# plt.title('ROC Curve for RF classifier')\n",
    "# plt.xlabel('False Positive Rate')\n",
    "# plt.ylabel('True Positive Rate (Recall)')\n",
    "# plt.xlim([-0.05, 1.05])\n",
    "# plt.ylim([-0.05, 1.05])\n",
    "# plt.legend()\n",
    "# plt.show()"
   ]
  },
  {
   "cell_type": "code",
   "execution_count": 15,
   "id": "41ffe895",
   "metadata": {},
   "outputs": [
    {
     "data": {
      "text/plain": [
       "0.6153344208809135"
      ]
     },
     "execution_count": 15,
     "metadata": {},
     "output_type": "execute_result"
    }
   ],
   "source": [
    "YteH = clf.predict(Xte)\n",
    "accuracy_score(YteH, Yte)"
   ]
  },
  {
   "cell_type": "code",
   "execution_count": null,
   "id": "b35dd2d0",
   "metadata": {},
   "outputs": [],
   "source": []
  }
 ],
 "metadata": {
  "kernelspec": {
   "display_name": "Python 3 (ipykernel)",
   "language": "python",
   "name": "python3"
  },
  "language_info": {
   "codemirror_mode": {
    "name": "ipython",
    "version": 3
   },
   "file_extension": ".py",
   "mimetype": "text/x-python",
   "name": "python",
   "nbconvert_exporter": "python",
   "pygments_lexer": "ipython3",
   "version": "3.8.8"
  }
 },
 "nbformat": 4,
 "nbformat_minor": 5
}
