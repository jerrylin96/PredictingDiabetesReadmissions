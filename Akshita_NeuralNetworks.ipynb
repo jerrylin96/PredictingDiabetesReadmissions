{
 "cells": [
  {
   "cell_type": "code",
   "execution_count": 1,
   "id": "7d0f9d9b",
   "metadata": {},
   "outputs": [
    {
     "name": "stdout",
     "output_type": "stream",
     "text": [
      "/Users/akshitasingh/Downloads/273A_ML/1_MLProject\n"
     ]
    }
   ],
   "source": [
    "cd /Users/akshitasingh/Downloads/273A_ML/1_MLProject"
   ]
  },
  {
   "cell_type": "code",
   "execution_count": 2,
   "id": "0932c2e3",
   "metadata": {},
   "outputs": [],
   "source": [
    "%matplotlib inline\n",
    "import matplotlib.pyplot as plt\n",
    "import numpy as np\n",
    "import pandas as pd\n",
    "np.random.seed(0)\n",
    "\n",
    "from collections import defaultdict\n",
    "\n",
    "np.random.seed(100)"
   ]
  },
  {
   "cell_type": "code",
   "execution_count": 3,
   "id": "b23fbf90",
   "metadata": {},
   "outputs": [],
   "source": [
    "# sklearn imports\n",
    "from sklearn import preprocessing\n",
    "from sklearn.feature_selection import VarianceThreshold\n",
    "from sklearn.preprocessing import StandardScaler\n",
    "from sklearn.model_selection import train_test_split\n",
    "from sklearn.pipeline import Pipeline\n",
    "from sklearn.linear_model import Lasso\n",
    "from sklearn.decomposition import PCA\n",
    "from sklearn.preprocessing import OneHotEncoder\n",
    "\n",
    "from sklearn.linear_model import LogisticRegression\n",
    "from sklearn.ensemble import RandomForestClassifier\n",
    "from sklearn import svm\n",
    "from sklearn.tree import DecisionTreeClassifier\n",
    "from sklearn.ensemble import GradientBoostingClassifier\n",
    "from sklearn.neural_network import MLPClassifier\n",
    "\n",
    "from imblearn.over_sampling import SMOTE\n",
    "from imblearn.over_sampling import RandomOverSampler\n",
    "from imblearn.under_sampling import ClusterCentroids\n",
    "from imblearn.under_sampling import RandomUnderSampler\n",
    "\n",
    "from sklearn import metrics\n",
    "from sklearn.model_selection import cross_val_score\n",
    "from sklearn.metrics import accuracy_score\n",
    "from sklearn.metrics import balanced_accuracy_score\n",
    "from sklearn.model_selection import GridSearchCV\n",
    "from imblearn.pipeline import Pipeline\n",
    "from sklearn import datasets\n",
    "from sklearn import metrics\n",
    "from sklearn.metrics import roc_curve, auc\n",
    "from sklearn.metrics import accuracy_score, roc_auc_score, recall_score\n",
    "from sklearn.metrics import confusion_matrix\n",
    "from sklearn.metrics import classification_report\n",
    "\n",
    "# other stats/math imports\n",
    "import math\n",
    "from scipy.stats import chi2_contingency"
   ]
  },
  {
   "cell_type": "code",
   "execution_count": 4,
   "id": "1a5bae21",
   "metadata": {},
   "outputs": [],
   "source": [
    "train_data = pd.read_csv(\"/Users/akshitasingh/Downloads/273A_ML/1_MLProject/dataset_diabetes/train_data.csv\", delimiter=None) \n",
    "test_data = pd.read_csv(\"/Users/akshitasingh/Downloads/273A_ML/1_MLProject/dataset_diabetes/test_data.csv\", delimiter=None) \n",
    "\n",
    "train_data = pd.DataFrame(train_data)\n",
    "test_data = pd.DataFrame(test_data)\n",
    "\n",
    "train_data = train_data.drop(['Unnamed: 0'], axis = 1)\n",
    "test_data = test_data.drop(['Unnamed: 0'], axis = 1)\n",
    "\n",
    "Xtr = train_data.iloc[:, :-1]\n",
    "Ytr = train_data.iloc[:, -1]\n",
    "\n",
    "Xte = test_data.iloc[:, :-1]\n",
    "Yte = test_data.iloc[:, -1]"
   ]
  },
  {
   "cell_type": "markdown",
   "id": "02331548",
   "metadata": {},
   "source": [
    "## Model 4: Neural Networks"
   ]
  },
  {
   "cell_type": "code",
   "execution_count": 5,
   "id": "4b551242",
   "metadata": {},
   "outputs": [
    {
     "name": "stdout",
     "output_type": "stream",
     "text": [
      "Fitting 3 folds for each of 54 candidates, totalling 162 fits\n"
     ]
    },
    {
     "name": "stderr",
     "output_type": "stream",
     "text": [
      "/Users/akshitasingh/opt/anaconda3/lib/python3.8/site-packages/sklearn/neural_network/_multilayer_perceptron.py:692: ConvergenceWarning: Stochastic Optimizer: Maximum iterations (200) reached and the optimization hasn't converged yet.\n",
      "  warnings.warn(\n"
     ]
    },
    {
     "name": "stdout",
     "output_type": "stream",
     "text": [
      "[CV 1/3] END model__activation=relu, model__alpha=0.1, model__hidden_layer_sizes=(30, 10), model__learning_rate=constant;, score=(train=0.714, test=0.607) total time=  23.5s\n",
      "[CV 2/3] END model__activation=relu, model__alpha=0.1, model__hidden_layer_sizes=(30, 10), model__learning_rate=constant;, score=(train=0.708, test=0.617) total time=  19.8s\n",
      "[CV 3/3] END model__activation=relu, model__alpha=0.1, model__hidden_layer_sizes=(30, 10), model__learning_rate=constant;, score=(train=0.706, test=0.620) total time=  23.1s\n"
     ]
    },
    {
     "name": "stderr",
     "output_type": "stream",
     "text": [
      "/Users/akshitasingh/opt/anaconda3/lib/python3.8/site-packages/sklearn/neural_network/_multilayer_perceptron.py:692: ConvergenceWarning: Stochastic Optimizer: Maximum iterations (200) reached and the optimization hasn't converged yet.\n",
      "  warnings.warn(\n"
     ]
    },
    {
     "name": "stdout",
     "output_type": "stream",
     "text": [
      "[CV 1/3] END model__activation=relu, model__alpha=0.1, model__hidden_layer_sizes=(30, 10), model__learning_rate=invscaling;, score=(train=0.714, test=0.607) total time=  27.1s\n",
      "[CV 2/3] END model__activation=relu, model__alpha=0.1, model__hidden_layer_sizes=(30, 10), model__learning_rate=invscaling;, score=(train=0.708, test=0.617) total time=  21.1s\n",
      "[CV 3/3] END model__activation=relu, model__alpha=0.1, model__hidden_layer_sizes=(30, 10), model__learning_rate=invscaling;, score=(train=0.706, test=0.620) total time=  26.7s\n"
     ]
    },
    {
     "name": "stderr",
     "output_type": "stream",
     "text": [
      "/Users/akshitasingh/opt/anaconda3/lib/python3.8/site-packages/sklearn/neural_network/_multilayer_perceptron.py:692: ConvergenceWarning: Stochastic Optimizer: Maximum iterations (200) reached and the optimization hasn't converged yet.\n",
      "  warnings.warn(\n"
     ]
    },
    {
     "name": "stdout",
     "output_type": "stream",
     "text": [
      "[CV 1/3] END model__activation=relu, model__alpha=0.1, model__hidden_layer_sizes=(30, 10), model__learning_rate=adaptive;, score=(train=0.714, test=0.607) total time=  29.1s\n",
      "[CV 2/3] END model__activation=relu, model__alpha=0.1, model__hidden_layer_sizes=(30, 10), model__learning_rate=adaptive;, score=(train=0.708, test=0.617) total time=  25.5s\n",
      "[CV 3/3] END model__activation=relu, model__alpha=0.1, model__hidden_layer_sizes=(30, 10), model__learning_rate=adaptive;, score=(train=0.706, test=0.620) total time=  18.9s\n"
     ]
    },
    {
     "name": "stderr",
     "output_type": "stream",
     "text": [
      "/Users/akshitasingh/opt/anaconda3/lib/python3.8/site-packages/sklearn/neural_network/_multilayer_perceptron.py:692: ConvergenceWarning: Stochastic Optimizer: Maximum iterations (200) reached and the optimization hasn't converged yet.\n",
      "  warnings.warn(\n"
     ]
    },
    {
     "name": "stdout",
     "output_type": "stream",
     "text": [
      "[CV 1/3] END model__activation=relu, model__alpha=0.1, model__hidden_layer_sizes=(20, 20, 20), model__learning_rate=constant;, score=(train=0.711, test=0.610) total time=  24.0s\n"
     ]
    },
    {
     "name": "stderr",
     "output_type": "stream",
     "text": [
      "/Users/akshitasingh/opt/anaconda3/lib/python3.8/site-packages/sklearn/neural_network/_multilayer_perceptron.py:692: ConvergenceWarning: Stochastic Optimizer: Maximum iterations (200) reached and the optimization hasn't converged yet.\n",
      "  warnings.warn(\n"
     ]
    },
    {
     "name": "stdout",
     "output_type": "stream",
     "text": [
      "[CV 2/3] END model__activation=relu, model__alpha=0.1, model__hidden_layer_sizes=(20, 20, 20), model__learning_rate=constant;, score=(train=0.705, test=0.620) total time=  24.2s\n"
     ]
    },
    {
     "name": "stderr",
     "output_type": "stream",
     "text": [
      "/Users/akshitasingh/opt/anaconda3/lib/python3.8/site-packages/sklearn/neural_network/_multilayer_perceptron.py:692: ConvergenceWarning: Stochastic Optimizer: Maximum iterations (200) reached and the optimization hasn't converged yet.\n",
      "  warnings.warn(\n"
     ]
    },
    {
     "name": "stdout",
     "output_type": "stream",
     "text": [
      "[CV 3/3] END model__activation=relu, model__alpha=0.1, model__hidden_layer_sizes=(20, 20, 20), model__learning_rate=constant;, score=(train=0.705, test=0.620) total time=  24.4s\n"
     ]
    },
    {
     "name": "stderr",
     "output_type": "stream",
     "text": [
      "/Users/akshitasingh/opt/anaconda3/lib/python3.8/site-packages/sklearn/neural_network/_multilayer_perceptron.py:692: ConvergenceWarning: Stochastic Optimizer: Maximum iterations (200) reached and the optimization hasn't converged yet.\n",
      "  warnings.warn(\n"
     ]
    },
    {
     "name": "stdout",
     "output_type": "stream",
     "text": [
      "[CV 1/3] END model__activation=relu, model__alpha=0.1, model__hidden_layer_sizes=(20, 20, 20), model__learning_rate=invscaling;, score=(train=0.711, test=0.610) total time=  24.1s\n"
     ]
    },
    {
     "name": "stderr",
     "output_type": "stream",
     "text": [
      "/Users/akshitasingh/opt/anaconda3/lib/python3.8/site-packages/sklearn/neural_network/_multilayer_perceptron.py:692: ConvergenceWarning: Stochastic Optimizer: Maximum iterations (200) reached and the optimization hasn't converged yet.\n",
      "  warnings.warn(\n"
     ]
    },
    {
     "name": "stdout",
     "output_type": "stream",
     "text": [
      "[CV 2/3] END model__activation=relu, model__alpha=0.1, model__hidden_layer_sizes=(20, 20, 20), model__learning_rate=invscaling;, score=(train=0.705, test=0.620) total time=  24.5s\n"
     ]
    },
    {
     "name": "stderr",
     "output_type": "stream",
     "text": [
      "/Users/akshitasingh/opt/anaconda3/lib/python3.8/site-packages/sklearn/neural_network/_multilayer_perceptron.py:692: ConvergenceWarning: Stochastic Optimizer: Maximum iterations (200) reached and the optimization hasn't converged yet.\n",
      "  warnings.warn(\n"
     ]
    },
    {
     "name": "stdout",
     "output_type": "stream",
     "text": [
      "[CV 3/3] END model__activation=relu, model__alpha=0.1, model__hidden_layer_sizes=(20, 20, 20), model__learning_rate=invscaling;, score=(train=0.705, test=0.620) total time=  26.4s\n"
     ]
    },
    {
     "name": "stderr",
     "output_type": "stream",
     "text": [
      "/Users/akshitasingh/opt/anaconda3/lib/python3.8/site-packages/sklearn/neural_network/_multilayer_perceptron.py:692: ConvergenceWarning: Stochastic Optimizer: Maximum iterations (200) reached and the optimization hasn't converged yet.\n",
      "  warnings.warn(\n"
     ]
    },
    {
     "name": "stdout",
     "output_type": "stream",
     "text": [
      "[CV 1/3] END model__activation=relu, model__alpha=0.1, model__hidden_layer_sizes=(20, 20, 20), model__learning_rate=adaptive;, score=(train=0.711, test=0.610) total time=  26.0s\n"
     ]
    },
    {
     "name": "stderr",
     "output_type": "stream",
     "text": [
      "/Users/akshitasingh/opt/anaconda3/lib/python3.8/site-packages/sklearn/neural_network/_multilayer_perceptron.py:692: ConvergenceWarning: Stochastic Optimizer: Maximum iterations (200) reached and the optimization hasn't converged yet.\n",
      "  warnings.warn(\n"
     ]
    },
    {
     "name": "stdout",
     "output_type": "stream",
     "text": [
      "[CV 2/3] END model__activation=relu, model__alpha=0.1, model__hidden_layer_sizes=(20, 20, 20), model__learning_rate=adaptive;, score=(train=0.705, test=0.620) total time=  22.7s\n"
     ]
    },
    {
     "name": "stderr",
     "output_type": "stream",
     "text": [
      "/Users/akshitasingh/opt/anaconda3/lib/python3.8/site-packages/sklearn/neural_network/_multilayer_perceptron.py:692: ConvergenceWarning: Stochastic Optimizer: Maximum iterations (200) reached and the optimization hasn't converged yet.\n",
      "  warnings.warn(\n"
     ]
    },
    {
     "name": "stdout",
     "output_type": "stream",
     "text": [
      "[CV 3/3] END model__activation=relu, model__alpha=0.1, model__hidden_layer_sizes=(20, 20, 20), model__learning_rate=adaptive;, score=(train=0.705, test=0.620) total time=  19.5s\n",
      "[CV 1/3] END model__activation=relu, model__alpha=0.1, model__hidden_layer_sizes=(20, 20, 15), model__learning_rate=constant;, score=(train=0.711, test=0.607) total time=  18.5s\n"
     ]
    },
    {
     "name": "stderr",
     "output_type": "stream",
     "text": [
      "/Users/akshitasingh/opt/anaconda3/lib/python3.8/site-packages/sklearn/neural_network/_multilayer_perceptron.py:692: ConvergenceWarning: Stochastic Optimizer: Maximum iterations (200) reached and the optimization hasn't converged yet.\n",
      "  warnings.warn(\n"
     ]
    },
    {
     "name": "stdout",
     "output_type": "stream",
     "text": [
      "[CV 2/3] END model__activation=relu, model__alpha=0.1, model__hidden_layer_sizes=(20, 20, 15), model__learning_rate=constant;, score=(train=0.698, test=0.622) total time=  23.6s\n"
     ]
    },
    {
     "name": "stderr",
     "output_type": "stream",
     "text": [
      "/Users/akshitasingh/opt/anaconda3/lib/python3.8/site-packages/sklearn/neural_network/_multilayer_perceptron.py:692: ConvergenceWarning: Stochastic Optimizer: Maximum iterations (200) reached and the optimization hasn't converged yet.\n",
      "  warnings.warn(\n"
     ]
    },
    {
     "name": "stdout",
     "output_type": "stream",
     "text": [
      "[CV 3/3] END model__activation=relu, model__alpha=0.1, model__hidden_layer_sizes=(20, 20, 15), model__learning_rate=constant;, score=(train=0.697, test=0.625) total time=  25.9s\n",
      "[CV 1/3] END model__activation=relu, model__alpha=0.1, model__hidden_layer_sizes=(20, 20, 15), model__learning_rate=invscaling;, score=(train=0.711, test=0.607) total time=  21.8s\n"
     ]
    },
    {
     "name": "stderr",
     "output_type": "stream",
     "text": [
      "/Users/akshitasingh/opt/anaconda3/lib/python3.8/site-packages/sklearn/neural_network/_multilayer_perceptron.py:692: ConvergenceWarning: Stochastic Optimizer: Maximum iterations (200) reached and the optimization hasn't converged yet.\n",
      "  warnings.warn(\n"
     ]
    },
    {
     "name": "stdout",
     "output_type": "stream",
     "text": [
      "[CV 2/3] END model__activation=relu, model__alpha=0.1, model__hidden_layer_sizes=(20, 20, 15), model__learning_rate=invscaling;, score=(train=0.698, test=0.622) total time=  20.0s\n"
     ]
    },
    {
     "name": "stderr",
     "output_type": "stream",
     "text": [
      "/Users/akshitasingh/opt/anaconda3/lib/python3.8/site-packages/sklearn/neural_network/_multilayer_perceptron.py:692: ConvergenceWarning: Stochastic Optimizer: Maximum iterations (200) reached and the optimization hasn't converged yet.\n",
      "  warnings.warn(\n"
     ]
    },
    {
     "name": "stdout",
     "output_type": "stream",
     "text": [
      "[CV 3/3] END model__activation=relu, model__alpha=0.1, model__hidden_layer_sizes=(20, 20, 15), model__learning_rate=invscaling;, score=(train=0.697, test=0.625) total time=  20.4s\n",
      "[CV 1/3] END model__activation=relu, model__alpha=0.1, model__hidden_layer_sizes=(20, 20, 15), model__learning_rate=adaptive;, score=(train=0.711, test=0.607) total time=  20.4s\n"
     ]
    },
    {
     "name": "stderr",
     "output_type": "stream",
     "text": [
      "/Users/akshitasingh/opt/anaconda3/lib/python3.8/site-packages/sklearn/neural_network/_multilayer_perceptron.py:692: ConvergenceWarning: Stochastic Optimizer: Maximum iterations (200) reached and the optimization hasn't converged yet.\n",
      "  warnings.warn(\n"
     ]
    },
    {
     "name": "stdout",
     "output_type": "stream",
     "text": [
      "[CV 2/3] END model__activation=relu, model__alpha=0.1, model__hidden_layer_sizes=(20, 20, 15), model__learning_rate=adaptive;, score=(train=0.698, test=0.622) total time=  21.8s\n"
     ]
    },
    {
     "name": "stderr",
     "output_type": "stream",
     "text": [
      "/Users/akshitasingh/opt/anaconda3/lib/python3.8/site-packages/sklearn/neural_network/_multilayer_perceptron.py:692: ConvergenceWarning: Stochastic Optimizer: Maximum iterations (200) reached and the optimization hasn't converged yet.\n",
      "  warnings.warn(\n"
     ]
    },
    {
     "name": "stdout",
     "output_type": "stream",
     "text": [
      "[CV 3/3] END model__activation=relu, model__alpha=0.1, model__hidden_layer_sizes=(20, 20, 15), model__learning_rate=adaptive;, score=(train=0.697, test=0.625) total time=  21.0s\n",
      "[CV 1/3] END model__activation=relu, model__alpha=0.2, model__hidden_layer_sizes=(30, 10), model__learning_rate=constant;, score=(train=0.693, test=0.614) total time=  11.4s\n"
     ]
    },
    {
     "name": "stderr",
     "output_type": "stream",
     "text": [
      "/Users/akshitasingh/opt/anaconda3/lib/python3.8/site-packages/sklearn/neural_network/_multilayer_perceptron.py:692: ConvergenceWarning: Stochastic Optimizer: Maximum iterations (200) reached and the optimization hasn't converged yet.\n",
      "  warnings.warn(\n"
     ]
    },
    {
     "name": "stdout",
     "output_type": "stream",
     "text": [
      "[CV 2/3] END model__activation=relu, model__alpha=0.2, model__hidden_layer_sizes=(30, 10), model__learning_rate=constant;, score=(train=0.699, test=0.617) total time=  16.6s\n",
      "[CV 3/3] END model__activation=relu, model__alpha=0.2, model__hidden_layer_sizes=(30, 10), model__learning_rate=constant;, score=(train=0.693, test=0.627) total time=  13.0s\n",
      "[CV 1/3] END model__activation=relu, model__alpha=0.2, model__hidden_layer_sizes=(30, 10), model__learning_rate=invscaling;, score=(train=0.693, test=0.614) total time=   9.9s\n"
     ]
    },
    {
     "name": "stderr",
     "output_type": "stream",
     "text": [
      "/Users/akshitasingh/opt/anaconda3/lib/python3.8/site-packages/sklearn/neural_network/_multilayer_perceptron.py:692: ConvergenceWarning: Stochastic Optimizer: Maximum iterations (200) reached and the optimization hasn't converged yet.\n",
      "  warnings.warn(\n"
     ]
    },
    {
     "name": "stdout",
     "output_type": "stream",
     "text": [
      "[CV 2/3] END model__activation=relu, model__alpha=0.2, model__hidden_layer_sizes=(30, 10), model__learning_rate=invscaling;, score=(train=0.699, test=0.617) total time=  10.9s\n",
      "[CV 3/3] END model__activation=relu, model__alpha=0.2, model__hidden_layer_sizes=(30, 10), model__learning_rate=invscaling;, score=(train=0.693, test=0.627) total time=   9.2s\n",
      "[CV 1/3] END model__activation=relu, model__alpha=0.2, model__hidden_layer_sizes=(30, 10), model__learning_rate=adaptive;, score=(train=0.693, test=0.614) total time=   7.5s\n"
     ]
    },
    {
     "name": "stderr",
     "output_type": "stream",
     "text": [
      "/Users/akshitasingh/opt/anaconda3/lib/python3.8/site-packages/sklearn/neural_network/_multilayer_perceptron.py:692: ConvergenceWarning: Stochastic Optimizer: Maximum iterations (200) reached and the optimization hasn't converged yet.\n",
      "  warnings.warn(\n"
     ]
    },
    {
     "name": "stdout",
     "output_type": "stream",
     "text": [
      "[CV 2/3] END model__activation=relu, model__alpha=0.2, model__hidden_layer_sizes=(30, 10), model__learning_rate=adaptive;, score=(train=0.699, test=0.617) total time=  10.8s\n",
      "[CV 3/3] END model__activation=relu, model__alpha=0.2, model__hidden_layer_sizes=(30, 10), model__learning_rate=adaptive;, score=(train=0.693, test=0.627) total time=   9.9s\n",
      "[CV 1/3] END model__activation=relu, model__alpha=0.2, model__hidden_layer_sizes=(20, 20, 20), model__learning_rate=constant;, score=(train=0.699, test=0.620) total time=  13.2s\n",
      "[CV 2/3] END model__activation=relu, model__alpha=0.2, model__hidden_layer_sizes=(20, 20, 20), model__learning_rate=constant;, score=(train=0.698, test=0.621) total time=  12.6s\n",
      "[CV 3/3] END model__activation=relu, model__alpha=0.2, model__hidden_layer_sizes=(20, 20, 20), model__learning_rate=constant;, score=(train=0.686, test=0.626) total time=  11.1s\n",
      "[CV 1/3] END model__activation=relu, model__alpha=0.2, model__hidden_layer_sizes=(20, 20, 20), model__learning_rate=invscaling;, score=(train=0.699, test=0.620) total time=  12.6s\n",
      "[CV 2/3] END model__activation=relu, model__alpha=0.2, model__hidden_layer_sizes=(20, 20, 20), model__learning_rate=invscaling;, score=(train=0.698, test=0.621) total time=  11.7s\n",
      "[CV 3/3] END model__activation=relu, model__alpha=0.2, model__hidden_layer_sizes=(20, 20, 20), model__learning_rate=invscaling;, score=(train=0.686, test=0.626) total time=  10.1s\n",
      "[CV 1/3] END model__activation=relu, model__alpha=0.2, model__hidden_layer_sizes=(20, 20, 20), model__learning_rate=adaptive;, score=(train=0.699, test=0.620) total time=  12.7s\n",
      "[CV 2/3] END model__activation=relu, model__alpha=0.2, model__hidden_layer_sizes=(20, 20, 20), model__learning_rate=adaptive;, score=(train=0.698, test=0.621) total time=  12.3s\n",
      "[CV 3/3] END model__activation=relu, model__alpha=0.2, model__hidden_layer_sizes=(20, 20, 20), model__learning_rate=adaptive;, score=(train=0.686, test=0.626) total time=   9.8s\n"
     ]
    },
    {
     "name": "stderr",
     "output_type": "stream",
     "text": [
      "/Users/akshitasingh/opt/anaconda3/lib/python3.8/site-packages/sklearn/neural_network/_multilayer_perceptron.py:692: ConvergenceWarning: Stochastic Optimizer: Maximum iterations (200) reached and the optimization hasn't converged yet.\n",
      "  warnings.warn(\n"
     ]
    },
    {
     "name": "stdout",
     "output_type": "stream",
     "text": [
      "[CV 1/3] END model__activation=relu, model__alpha=0.2, model__hidden_layer_sizes=(20, 20, 15), model__learning_rate=constant;, score=(train=0.696, test=0.613) total time=  14.2s\n",
      "[CV 2/3] END model__activation=relu, model__alpha=0.2, model__hidden_layer_sizes=(20, 20, 15), model__learning_rate=constant;, score=(train=0.687, test=0.631) total time=  10.9s\n",
      "[CV 3/3] END model__activation=relu, model__alpha=0.2, model__hidden_layer_sizes=(20, 20, 15), model__learning_rate=constant;, score=(train=0.674, test=0.637) total time=   9.7s\n"
     ]
    },
    {
     "name": "stderr",
     "output_type": "stream",
     "text": [
      "/Users/akshitasingh/opt/anaconda3/lib/python3.8/site-packages/sklearn/neural_network/_multilayer_perceptron.py:692: ConvergenceWarning: Stochastic Optimizer: Maximum iterations (200) reached and the optimization hasn't converged yet.\n",
      "  warnings.warn(\n"
     ]
    },
    {
     "name": "stdout",
     "output_type": "stream",
     "text": [
      "[CV 1/3] END model__activation=relu, model__alpha=0.2, model__hidden_layer_sizes=(20, 20, 15), model__learning_rate=invscaling;, score=(train=0.696, test=0.613) total time=  14.5s\n",
      "[CV 2/3] END model__activation=relu, model__alpha=0.2, model__hidden_layer_sizes=(20, 20, 15), model__learning_rate=invscaling;, score=(train=0.687, test=0.631) total time=  11.0s\n",
      "[CV 3/3] END model__activation=relu, model__alpha=0.2, model__hidden_layer_sizes=(20, 20, 15), model__learning_rate=invscaling;, score=(train=0.674, test=0.637) total time=   9.4s\n"
     ]
    },
    {
     "name": "stderr",
     "output_type": "stream",
     "text": [
      "/Users/akshitasingh/opt/anaconda3/lib/python3.8/site-packages/sklearn/neural_network/_multilayer_perceptron.py:692: ConvergenceWarning: Stochastic Optimizer: Maximum iterations (200) reached and the optimization hasn't converged yet.\n",
      "  warnings.warn(\n"
     ]
    },
    {
     "name": "stdout",
     "output_type": "stream",
     "text": [
      "[CV 1/3] END model__activation=relu, model__alpha=0.2, model__hidden_layer_sizes=(20, 20, 15), model__learning_rate=adaptive;, score=(train=0.696, test=0.613) total time=  14.3s\n",
      "[CV 2/3] END model__activation=relu, model__alpha=0.2, model__hidden_layer_sizes=(20, 20, 15), model__learning_rate=adaptive;, score=(train=0.687, test=0.631) total time=  10.5s\n",
      "[CV 3/3] END model__activation=relu, model__alpha=0.2, model__hidden_layer_sizes=(20, 20, 15), model__learning_rate=adaptive;, score=(train=0.674, test=0.637) total time=   9.9s\n",
      "[CV 1/3] END model__activation=relu, model__alpha=0.5, model__hidden_layer_sizes=(30, 10), model__learning_rate=constant;, score=(train=0.674, test=0.630) total time=   8.0s\n",
      "[CV 2/3] END model__activation=relu, model__alpha=0.5, model__hidden_layer_sizes=(30, 10), model__learning_rate=constant;, score=(train=0.666, test=0.632) total time=   5.0s\n",
      "[CV 3/3] END model__activation=relu, model__alpha=0.5, model__hidden_layer_sizes=(30, 10), model__learning_rate=constant;, score=(train=0.666, test=0.639) total time=   6.4s\n",
      "[CV 1/3] END model__activation=relu, model__alpha=0.5, model__hidden_layer_sizes=(30, 10), model__learning_rate=invscaling;, score=(train=0.674, test=0.630) total time=   7.7s\n",
      "[CV 2/3] END model__activation=relu, model__alpha=0.5, model__hidden_layer_sizes=(30, 10), model__learning_rate=invscaling;, score=(train=0.666, test=0.632) total time=   4.9s\n",
      "[CV 3/3] END model__activation=relu, model__alpha=0.5, model__hidden_layer_sizes=(30, 10), model__learning_rate=invscaling;, score=(train=0.666, test=0.639) total time=   6.5s\n",
      "[CV 1/3] END model__activation=relu, model__alpha=0.5, model__hidden_layer_sizes=(30, 10), model__learning_rate=adaptive;, score=(train=0.674, test=0.630) total time=   7.8s\n",
      "[CV 2/3] END model__activation=relu, model__alpha=0.5, model__hidden_layer_sizes=(30, 10), model__learning_rate=adaptive;, score=(train=0.666, test=0.632) total time=   4.8s\n",
      "[CV 3/3] END model__activation=relu, model__alpha=0.5, model__hidden_layer_sizes=(30, 10), model__learning_rate=adaptive;, score=(train=0.666, test=0.639) total time=   7.1s\n",
      "[CV 1/3] END model__activation=relu, model__alpha=0.5, model__hidden_layer_sizes=(20, 20, 20), model__learning_rate=constant;, score=(train=0.673, test=0.630) total time=   9.2s\n",
      "[CV 2/3] END model__activation=relu, model__alpha=0.5, model__hidden_layer_sizes=(20, 20, 20), model__learning_rate=constant;, score=(train=0.670, test=0.630) total time=  11.2s\n",
      "[CV 3/3] END model__activation=relu, model__alpha=0.5, model__hidden_layer_sizes=(20, 20, 20), model__learning_rate=constant;, score=(train=0.657, test=0.637) total time=   7.1s\n",
      "[CV 1/3] END model__activation=relu, model__alpha=0.5, model__hidden_layer_sizes=(20, 20, 20), model__learning_rate=invscaling;, score=(train=0.673, test=0.630) total time=   8.1s\n",
      "[CV 2/3] END model__activation=relu, model__alpha=0.5, model__hidden_layer_sizes=(20, 20, 20), model__learning_rate=invscaling;, score=(train=0.670, test=0.630) total time=  10.3s\n",
      "[CV 3/3] END model__activation=relu, model__alpha=0.5, model__hidden_layer_sizes=(20, 20, 20), model__learning_rate=invscaling;, score=(train=0.657, test=0.637) total time=   7.6s\n",
      "[CV 1/3] END model__activation=relu, model__alpha=0.5, model__hidden_layer_sizes=(20, 20, 20), model__learning_rate=adaptive;, score=(train=0.673, test=0.630) total time=   8.8s\n",
      "[CV 2/3] END model__activation=relu, model__alpha=0.5, model__hidden_layer_sizes=(20, 20, 20), model__learning_rate=adaptive;, score=(train=0.670, test=0.630) total time=  11.3s\n",
      "[CV 3/3] END model__activation=relu, model__alpha=0.5, model__hidden_layer_sizes=(20, 20, 20), model__learning_rate=adaptive;, score=(train=0.657, test=0.637) total time=   7.1s\n",
      "[CV 1/3] END model__activation=relu, model__alpha=0.5, model__hidden_layer_sizes=(20, 20, 15), model__learning_rate=constant;, score=(train=0.670, test=0.628) total time=   6.4s\n",
      "[CV 2/3] END model__activation=relu, model__alpha=0.5, model__hidden_layer_sizes=(20, 20, 15), model__learning_rate=constant;, score=(train=0.670, test=0.636) total time=  11.2s\n",
      "[CV 3/3] END model__activation=relu, model__alpha=0.5, model__hidden_layer_sizes=(20, 20, 15), model__learning_rate=constant;, score=(train=0.664, test=0.640) total time=   6.0s\n",
      "[CV 1/3] END model__activation=relu, model__alpha=0.5, model__hidden_layer_sizes=(20, 20, 15), model__learning_rate=invscaling;, score=(train=0.670, test=0.628) total time=   6.0s\n",
      "[CV 2/3] END model__activation=relu, model__alpha=0.5, model__hidden_layer_sizes=(20, 20, 15), model__learning_rate=invscaling;, score=(train=0.670, test=0.636) total time=  11.4s\n",
      "[CV 3/3] END model__activation=relu, model__alpha=0.5, model__hidden_layer_sizes=(20, 20, 15), model__learning_rate=invscaling;, score=(train=0.664, test=0.640) total time=   6.1s\n",
      "[CV 1/3] END model__activation=relu, model__alpha=0.5, model__hidden_layer_sizes=(20, 20, 15), model__learning_rate=adaptive;, score=(train=0.670, test=0.628) total time=   6.6s\n",
      "[CV 2/3] END model__activation=relu, model__alpha=0.5, model__hidden_layer_sizes=(20, 20, 15), model__learning_rate=adaptive;, score=(train=0.670, test=0.636) total time=  10.8s\n",
      "[CV 3/3] END model__activation=relu, model__alpha=0.5, model__hidden_layer_sizes=(20, 20, 15), model__learning_rate=adaptive;, score=(train=0.664, test=0.640) total time=   6.6s\n"
     ]
    },
    {
     "name": "stderr",
     "output_type": "stream",
     "text": [
      "/Users/akshitasingh/opt/anaconda3/lib/python3.8/site-packages/sklearn/neural_network/_multilayer_perceptron.py:692: ConvergenceWarning: Stochastic Optimizer: Maximum iterations (200) reached and the optimization hasn't converged yet.\n",
      "  warnings.warn(\n"
     ]
    },
    {
     "name": "stdout",
     "output_type": "stream",
     "text": [
      "[CV 1/3] END model__activation=tanh, model__alpha=0.1, model__hidden_layer_sizes=(30, 10), model__learning_rate=constant;, score=(train=0.686, test=0.615) total time=  14.5s\n"
     ]
    },
    {
     "name": "stderr",
     "output_type": "stream",
     "text": [
      "/Users/akshitasingh/opt/anaconda3/lib/python3.8/site-packages/sklearn/neural_network/_multilayer_perceptron.py:692: ConvergenceWarning: Stochastic Optimizer: Maximum iterations (200) reached and the optimization hasn't converged yet.\n",
      "  warnings.warn(\n"
     ]
    },
    {
     "name": "stdout",
     "output_type": "stream",
     "text": [
      "[CV 2/3] END model__activation=tanh, model__alpha=0.1, model__hidden_layer_sizes=(30, 10), model__learning_rate=constant;, score=(train=0.681, test=0.620) total time=  13.5s\n",
      "[CV 3/3] END model__activation=tanh, model__alpha=0.1, model__hidden_layer_sizes=(30, 10), model__learning_rate=constant;, score=(train=0.679, test=0.627) total time=  13.0s\n"
     ]
    },
    {
     "name": "stderr",
     "output_type": "stream",
     "text": [
      "/Users/akshitasingh/opt/anaconda3/lib/python3.8/site-packages/sklearn/neural_network/_multilayer_perceptron.py:692: ConvergenceWarning: Stochastic Optimizer: Maximum iterations (200) reached and the optimization hasn't converged yet.\n",
      "  warnings.warn(\n"
     ]
    },
    {
     "name": "stdout",
     "output_type": "stream",
     "text": [
      "[CV 1/3] END model__activation=tanh, model__alpha=0.1, model__hidden_layer_sizes=(30, 10), model__learning_rate=invscaling;, score=(train=0.686, test=0.615) total time=  13.1s\n"
     ]
    },
    {
     "name": "stderr",
     "output_type": "stream",
     "text": [
      "/Users/akshitasingh/opt/anaconda3/lib/python3.8/site-packages/sklearn/neural_network/_multilayer_perceptron.py:692: ConvergenceWarning: Stochastic Optimizer: Maximum iterations (200) reached and the optimization hasn't converged yet.\n",
      "  warnings.warn(\n"
     ]
    },
    {
     "name": "stdout",
     "output_type": "stream",
     "text": [
      "[CV 2/3] END model__activation=tanh, model__alpha=0.1, model__hidden_layer_sizes=(30, 10), model__learning_rate=invscaling;, score=(train=0.681, test=0.620) total time=  12.9s\n",
      "[CV 3/3] END model__activation=tanh, model__alpha=0.1, model__hidden_layer_sizes=(30, 10), model__learning_rate=invscaling;, score=(train=0.679, test=0.627) total time=  14.7s\n"
     ]
    },
    {
     "name": "stderr",
     "output_type": "stream",
     "text": [
      "/Users/akshitasingh/opt/anaconda3/lib/python3.8/site-packages/sklearn/neural_network/_multilayer_perceptron.py:692: ConvergenceWarning: Stochastic Optimizer: Maximum iterations (200) reached and the optimization hasn't converged yet.\n",
      "  warnings.warn(\n"
     ]
    },
    {
     "name": "stdout",
     "output_type": "stream",
     "text": [
      "[CV 1/3] END model__activation=tanh, model__alpha=0.1, model__hidden_layer_sizes=(30, 10), model__learning_rate=adaptive;, score=(train=0.686, test=0.615) total time=  13.8s\n"
     ]
    },
    {
     "name": "stderr",
     "output_type": "stream",
     "text": [
      "/Users/akshitasingh/opt/anaconda3/lib/python3.8/site-packages/sklearn/neural_network/_multilayer_perceptron.py:692: ConvergenceWarning: Stochastic Optimizer: Maximum iterations (200) reached and the optimization hasn't converged yet.\n",
      "  warnings.warn(\n"
     ]
    },
    {
     "name": "stdout",
     "output_type": "stream",
     "text": [
      "[CV 2/3] END model__activation=tanh, model__alpha=0.1, model__hidden_layer_sizes=(30, 10), model__learning_rate=adaptive;, score=(train=0.681, test=0.620) total time=  14.6s\n",
      "[CV 3/3] END model__activation=tanh, model__alpha=0.1, model__hidden_layer_sizes=(30, 10), model__learning_rate=adaptive;, score=(train=0.679, test=0.627) total time=  13.9s\n",
      "[CV 1/3] END model__activation=tanh, model__alpha=0.1, model__hidden_layer_sizes=(20, 20, 20), model__learning_rate=constant;, score=(train=0.674, test=0.628) total time=  12.7s\n",
      "[CV 2/3] END model__activation=tanh, model__alpha=0.1, model__hidden_layer_sizes=(20, 20, 20), model__learning_rate=constant;, score=(train=0.655, test=0.621) total time=  11.2s\n",
      "[CV 3/3] END model__activation=tanh, model__alpha=0.1, model__hidden_layer_sizes=(20, 20, 20), model__learning_rate=constant;, score=(train=0.661, test=0.631) total time=   8.8s\n",
      "[CV 1/3] END model__activation=tanh, model__alpha=0.1, model__hidden_layer_sizes=(20, 20, 20), model__learning_rate=invscaling;, score=(train=0.674, test=0.628) total time=  13.8s\n",
      "[CV 2/3] END model__activation=tanh, model__alpha=0.1, model__hidden_layer_sizes=(20, 20, 20), model__learning_rate=invscaling;, score=(train=0.655, test=0.621) total time=  11.5s\n",
      "[CV 3/3] END model__activation=tanh, model__alpha=0.1, model__hidden_layer_sizes=(20, 20, 20), model__learning_rate=invscaling;, score=(train=0.661, test=0.631) total time=   9.1s\n",
      "[CV 1/3] END model__activation=tanh, model__alpha=0.1, model__hidden_layer_sizes=(20, 20, 20), model__learning_rate=adaptive;, score=(train=0.674, test=0.628) total time=  13.0s\n",
      "[CV 2/3] END model__activation=tanh, model__alpha=0.1, model__hidden_layer_sizes=(20, 20, 20), model__learning_rate=adaptive;, score=(train=0.655, test=0.621) total time=  11.4s\n",
      "[CV 3/3] END model__activation=tanh, model__alpha=0.1, model__hidden_layer_sizes=(20, 20, 20), model__learning_rate=adaptive;, score=(train=0.661, test=0.631) total time=   8.9s\n",
      "[CV 1/3] END model__activation=tanh, model__alpha=0.1, model__hidden_layer_sizes=(20, 20, 15), model__learning_rate=constant;, score=(train=0.677, test=0.620) total time=  16.1s\n",
      "[CV 2/3] END model__activation=tanh, model__alpha=0.1, model__hidden_layer_sizes=(20, 20, 15), model__learning_rate=constant;, score=(train=0.681, test=0.627) total time=  17.2s\n"
     ]
    },
    {
     "name": "stderr",
     "output_type": "stream",
     "text": [
      "/Users/akshitasingh/opt/anaconda3/lib/python3.8/site-packages/sklearn/neural_network/_multilayer_perceptron.py:692: ConvergenceWarning: Stochastic Optimizer: Maximum iterations (200) reached and the optimization hasn't converged yet.\n",
      "  warnings.warn(\n"
     ]
    },
    {
     "name": "stdout",
     "output_type": "stream",
     "text": [
      "[CV 3/3] END model__activation=tanh, model__alpha=0.1, model__hidden_layer_sizes=(20, 20, 15), model__learning_rate=constant;, score=(train=0.673, test=0.627) total time=  19.8s\n",
      "[CV 1/3] END model__activation=tanh, model__alpha=0.1, model__hidden_layer_sizes=(20, 20, 15), model__learning_rate=invscaling;, score=(train=0.677, test=0.620) total time=  17.3s\n",
      "[CV 2/3] END model__activation=tanh, model__alpha=0.1, model__hidden_layer_sizes=(20, 20, 15), model__learning_rate=invscaling;, score=(train=0.681, test=0.627) total time=  18.2s\n"
     ]
    },
    {
     "name": "stderr",
     "output_type": "stream",
     "text": [
      "/Users/akshitasingh/opt/anaconda3/lib/python3.8/site-packages/sklearn/neural_network/_multilayer_perceptron.py:692: ConvergenceWarning: Stochastic Optimizer: Maximum iterations (200) reached and the optimization hasn't converged yet.\n",
      "  warnings.warn(\n"
     ]
    },
    {
     "name": "stdout",
     "output_type": "stream",
     "text": [
      "[CV 3/3] END model__activation=tanh, model__alpha=0.1, model__hidden_layer_sizes=(20, 20, 15), model__learning_rate=invscaling;, score=(train=0.673, test=0.627) total time=  20.3s\n",
      "[CV 1/3] END model__activation=tanh, model__alpha=0.1, model__hidden_layer_sizes=(20, 20, 15), model__learning_rate=adaptive;, score=(train=0.677, test=0.620) total time=  17.4s\n",
      "[CV 2/3] END model__activation=tanh, model__alpha=0.1, model__hidden_layer_sizes=(20, 20, 15), model__learning_rate=adaptive;, score=(train=0.681, test=0.627) total time=  17.5s\n"
     ]
    },
    {
     "name": "stderr",
     "output_type": "stream",
     "text": [
      "/Users/akshitasingh/opt/anaconda3/lib/python3.8/site-packages/sklearn/neural_network/_multilayer_perceptron.py:692: ConvergenceWarning: Stochastic Optimizer: Maximum iterations (200) reached and the optimization hasn't converged yet.\n",
      "  warnings.warn(\n"
     ]
    },
    {
     "name": "stdout",
     "output_type": "stream",
     "text": [
      "[CV 3/3] END model__activation=tanh, model__alpha=0.1, model__hidden_layer_sizes=(20, 20, 15), model__learning_rate=adaptive;, score=(train=0.673, test=0.627) total time=  18.8s\n",
      "[CV 1/3] END model__activation=tanh, model__alpha=0.2, model__hidden_layer_sizes=(30, 10), model__learning_rate=constant;, score=(train=0.669, test=0.625) total time=  11.8s\n",
      "[CV 2/3] END model__activation=tanh, model__alpha=0.2, model__hidden_layer_sizes=(30, 10), model__learning_rate=constant;, score=(train=0.664, test=0.632) total time=  14.6s\n",
      "[CV 3/3] END model__activation=tanh, model__alpha=0.2, model__hidden_layer_sizes=(30, 10), model__learning_rate=constant;, score=(train=0.664, test=0.639) total time=  17.7s\n",
      "[CV 1/3] END model__activation=tanh, model__alpha=0.2, model__hidden_layer_sizes=(30, 10), model__learning_rate=invscaling;, score=(train=0.669, test=0.625) total time=  13.4s\n",
      "[CV 2/3] END model__activation=tanh, model__alpha=0.2, model__hidden_layer_sizes=(30, 10), model__learning_rate=invscaling;, score=(train=0.664, test=0.632) total time=  14.8s\n",
      "[CV 3/3] END model__activation=tanh, model__alpha=0.2, model__hidden_layer_sizes=(30, 10), model__learning_rate=invscaling;, score=(train=0.664, test=0.639) total time=  15.4s\n",
      "[CV 1/3] END model__activation=tanh, model__alpha=0.2, model__hidden_layer_sizes=(30, 10), model__learning_rate=adaptive;, score=(train=0.669, test=0.625) total time=  12.5s\n",
      "[CV 2/3] END model__activation=tanh, model__alpha=0.2, model__hidden_layer_sizes=(30, 10), model__learning_rate=adaptive;, score=(train=0.664, test=0.632) total time=  14.0s\n",
      "[CV 3/3] END model__activation=tanh, model__alpha=0.2, model__hidden_layer_sizes=(30, 10), model__learning_rate=adaptive;, score=(train=0.664, test=0.639) total time=  15.7s\n",
      "[CV 1/3] END model__activation=tanh, model__alpha=0.2, model__hidden_layer_sizes=(20, 20, 20), model__learning_rate=constant;, score=(train=0.665, test=0.632) total time=  13.6s\n",
      "[CV 2/3] END model__activation=tanh, model__alpha=0.2, model__hidden_layer_sizes=(20, 20, 20), model__learning_rate=constant;, score=(train=0.651, test=0.626) total time=  12.2s\n",
      "[CV 3/3] END model__activation=tanh, model__alpha=0.2, model__hidden_layer_sizes=(20, 20, 20), model__learning_rate=constant;, score=(train=0.652, test=0.635) total time=   9.2s\n",
      "[CV 1/3] END model__activation=tanh, model__alpha=0.2, model__hidden_layer_sizes=(20, 20, 20), model__learning_rate=invscaling;, score=(train=0.665, test=0.632) total time=  13.4s\n",
      "[CV 2/3] END model__activation=tanh, model__alpha=0.2, model__hidden_layer_sizes=(20, 20, 20), model__learning_rate=invscaling;, score=(train=0.651, test=0.626) total time=  12.1s\n",
      "[CV 3/3] END model__activation=tanh, model__alpha=0.2, model__hidden_layer_sizes=(20, 20, 20), model__learning_rate=invscaling;, score=(train=0.652, test=0.635) total time=   9.1s\n",
      "[CV 1/3] END model__activation=tanh, model__alpha=0.2, model__hidden_layer_sizes=(20, 20, 20), model__learning_rate=adaptive;, score=(train=0.665, test=0.632) total time=  13.0s\n",
      "[CV 2/3] END model__activation=tanh, model__alpha=0.2, model__hidden_layer_sizes=(20, 20, 20), model__learning_rate=adaptive;, score=(train=0.651, test=0.626) total time=  11.8s\n",
      "[CV 3/3] END model__activation=tanh, model__alpha=0.2, model__hidden_layer_sizes=(20, 20, 20), model__learning_rate=adaptive;, score=(train=0.652, test=0.635) total time=   8.9s\n"
     ]
    },
    {
     "name": "stderr",
     "output_type": "stream",
     "text": [
      "/Users/akshitasingh/opt/anaconda3/lib/python3.8/site-packages/sklearn/neural_network/_multilayer_perceptron.py:692: ConvergenceWarning: Stochastic Optimizer: Maximum iterations (200) reached and the optimization hasn't converged yet.\n",
      "  warnings.warn(\n"
     ]
    },
    {
     "name": "stdout",
     "output_type": "stream",
     "text": [
      "[CV 1/3] END model__activation=tanh, model__alpha=0.2, model__hidden_layer_sizes=(20, 20, 15), model__learning_rate=constant;, score=(train=0.665, test=0.626) total time=  18.1s\n",
      "[CV 2/3] END model__activation=tanh, model__alpha=0.2, model__hidden_layer_sizes=(20, 20, 15), model__learning_rate=constant;, score=(train=0.665, test=0.634) total time=  13.0s\n",
      "[CV 3/3] END model__activation=tanh, model__alpha=0.2, model__hidden_layer_sizes=(20, 20, 15), model__learning_rate=constant;, score=(train=0.657, test=0.643) total time=  12.5s\n"
     ]
    },
    {
     "name": "stderr",
     "output_type": "stream",
     "text": [
      "/Users/akshitasingh/opt/anaconda3/lib/python3.8/site-packages/sklearn/neural_network/_multilayer_perceptron.py:692: ConvergenceWarning: Stochastic Optimizer: Maximum iterations (200) reached and the optimization hasn't converged yet.\n",
      "  warnings.warn(\n"
     ]
    },
    {
     "name": "stdout",
     "output_type": "stream",
     "text": [
      "[CV 1/3] END model__activation=tanh, model__alpha=0.2, model__hidden_layer_sizes=(20, 20, 15), model__learning_rate=invscaling;, score=(train=0.665, test=0.626) total time=  18.0s\n",
      "[CV 2/3] END model__activation=tanh, model__alpha=0.2, model__hidden_layer_sizes=(20, 20, 15), model__learning_rate=invscaling;, score=(train=0.665, test=0.634) total time=  12.8s\n",
      "[CV 3/3] END model__activation=tanh, model__alpha=0.2, model__hidden_layer_sizes=(20, 20, 15), model__learning_rate=invscaling;, score=(train=0.657, test=0.643) total time=  12.6s\n"
     ]
    },
    {
     "name": "stderr",
     "output_type": "stream",
     "text": [
      "/Users/akshitasingh/opt/anaconda3/lib/python3.8/site-packages/sklearn/neural_network/_multilayer_perceptron.py:692: ConvergenceWarning: Stochastic Optimizer: Maximum iterations (200) reached and the optimization hasn't converged yet.\n",
      "  warnings.warn(\n"
     ]
    },
    {
     "name": "stdout",
     "output_type": "stream",
     "text": [
      "[CV 1/3] END model__activation=tanh, model__alpha=0.2, model__hidden_layer_sizes=(20, 20, 15), model__learning_rate=adaptive;, score=(train=0.665, test=0.626) total time=  18.4s\n",
      "[CV 2/3] END model__activation=tanh, model__alpha=0.2, model__hidden_layer_sizes=(20, 20, 15), model__learning_rate=adaptive;, score=(train=0.665, test=0.634) total time=  12.8s\n",
      "[CV 3/3] END model__activation=tanh, model__alpha=0.2, model__hidden_layer_sizes=(20, 20, 15), model__learning_rate=adaptive;, score=(train=0.657, test=0.643) total time=  12.4s\n",
      "[CV 1/3] END model__activation=tanh, model__alpha=0.5, model__hidden_layer_sizes=(30, 10), model__learning_rate=constant;, score=(train=0.646, test=0.633) total time=   5.9s\n",
      "[CV 2/3] END model__activation=tanh, model__alpha=0.5, model__hidden_layer_sizes=(30, 10), model__learning_rate=constant;, score=(train=0.645, test=0.632) total time=   5.5s\n",
      "[CV 3/3] END model__activation=tanh, model__alpha=0.5, model__hidden_layer_sizes=(30, 10), model__learning_rate=constant;, score=(train=0.641, test=0.641) total time=   8.1s\n",
      "[CV 1/3] END model__activation=tanh, model__alpha=0.5, model__hidden_layer_sizes=(30, 10), model__learning_rate=invscaling;, score=(train=0.646, test=0.633) total time=   5.3s\n",
      "[CV 2/3] END model__activation=tanh, model__alpha=0.5, model__hidden_layer_sizes=(30, 10), model__learning_rate=invscaling;, score=(train=0.645, test=0.632) total time=   4.8s\n",
      "[CV 3/3] END model__activation=tanh, model__alpha=0.5, model__hidden_layer_sizes=(30, 10), model__learning_rate=invscaling;, score=(train=0.641, test=0.641) total time=   6.2s\n",
      "[CV 1/3] END model__activation=tanh, model__alpha=0.5, model__hidden_layer_sizes=(30, 10), model__learning_rate=adaptive;, score=(train=0.646, test=0.633) total time=   4.8s\n",
      "[CV 2/3] END model__activation=tanh, model__alpha=0.5, model__hidden_layer_sizes=(30, 10), model__learning_rate=adaptive;, score=(train=0.645, test=0.632) total time=   4.5s\n",
      "[CV 3/3] END model__activation=tanh, model__alpha=0.5, model__hidden_layer_sizes=(30, 10), model__learning_rate=adaptive;, score=(train=0.641, test=0.641) total time=   6.1s\n",
      "[CV 1/3] END model__activation=tanh, model__alpha=0.5, model__hidden_layer_sizes=(20, 20, 20), model__learning_rate=constant;, score=(train=0.653, test=0.633) total time=   8.7s\n",
      "[CV 2/3] END model__activation=tanh, model__alpha=0.5, model__hidden_layer_sizes=(20, 20, 20), model__learning_rate=constant;, score=(train=0.644, test=0.629) total time=   7.9s\n",
      "[CV 3/3] END model__activation=tanh, model__alpha=0.5, model__hidden_layer_sizes=(20, 20, 20), model__learning_rate=constant;, score=(train=0.640, test=0.641) total time=   6.1s\n",
      "[CV 1/3] END model__activation=tanh, model__alpha=0.5, model__hidden_layer_sizes=(20, 20, 20), model__learning_rate=invscaling;, score=(train=0.653, test=0.633) total time=   8.5s\n",
      "[CV 2/3] END model__activation=tanh, model__alpha=0.5, model__hidden_layer_sizes=(20, 20, 20), model__learning_rate=invscaling;, score=(train=0.644, test=0.629) total time=   7.8s\n",
      "[CV 3/3] END model__activation=tanh, model__alpha=0.5, model__hidden_layer_sizes=(20, 20, 20), model__learning_rate=invscaling;, score=(train=0.640, test=0.641) total time=   5.9s\n",
      "[CV 1/3] END model__activation=tanh, model__alpha=0.5, model__hidden_layer_sizes=(20, 20, 20), model__learning_rate=adaptive;, score=(train=0.653, test=0.633) total time=   8.4s\n",
      "[CV 2/3] END model__activation=tanh, model__alpha=0.5, model__hidden_layer_sizes=(20, 20, 20), model__learning_rate=adaptive;, score=(train=0.644, test=0.629) total time=   7.7s\n",
      "[CV 3/3] END model__activation=tanh, model__alpha=0.5, model__hidden_layer_sizes=(20, 20, 20), model__learning_rate=adaptive;, score=(train=0.640, test=0.641) total time=   5.8s\n",
      "[CV 1/3] END model__activation=tanh, model__alpha=0.5, model__hidden_layer_sizes=(20, 20, 15), model__learning_rate=constant;, score=(train=0.651, test=0.632) total time=   8.5s\n",
      "[CV 2/3] END model__activation=tanh, model__alpha=0.5, model__hidden_layer_sizes=(20, 20, 15), model__learning_rate=constant;, score=(train=0.649, test=0.638) total time=   6.4s\n",
      "[CV 3/3] END model__activation=tanh, model__alpha=0.5, model__hidden_layer_sizes=(20, 20, 15), model__learning_rate=constant;, score=(train=0.634, test=0.635) total time=   6.8s\n",
      "[CV 1/3] END model__activation=tanh, model__alpha=0.5, model__hidden_layer_sizes=(20, 20, 15), model__learning_rate=invscaling;, score=(train=0.651, test=0.632) total time=   8.5s\n",
      "[CV 2/3] END model__activation=tanh, model__alpha=0.5, model__hidden_layer_sizes=(20, 20, 15), model__learning_rate=invscaling;, score=(train=0.649, test=0.638) total time=   6.3s\n",
      "[CV 3/3] END model__activation=tanh, model__alpha=0.5, model__hidden_layer_sizes=(20, 20, 15), model__learning_rate=invscaling;, score=(train=0.634, test=0.635) total time=   6.6s\n",
      "[CV 1/3] END model__activation=tanh, model__alpha=0.5, model__hidden_layer_sizes=(20, 20, 15), model__learning_rate=adaptive;, score=(train=0.651, test=0.632) total time=   8.5s\n",
      "[CV 2/3] END model__activation=tanh, model__alpha=0.5, model__hidden_layer_sizes=(20, 20, 15), model__learning_rate=adaptive;, score=(train=0.649, test=0.638) total time=   6.3s\n",
      "[CV 3/3] END model__activation=tanh, model__alpha=0.5, model__hidden_layer_sizes=(20, 20, 15), model__learning_rate=adaptive;, score=(train=0.634, test=0.635) total time=   6.7s\n"
     ]
    }
   ],
   "source": [
    "pipe = Pipeline([\n",
    "        ('model', MLPClassifier(random_state= 100))\n",
    "    ])\n",
    "\n",
    "# alpha = [.01, .1, .15, .2, .3, .5]\n",
    "alpha =  [.1, .2, .5]\n",
    "hidden_layers = [(30, 10), (20, 20, 20), (20, 20, 15)]\n",
    "lr = [\"constant\", \"invscaling\", \"adaptive\"]\n",
    "act_f = [\"relu\", \"tanh\"]\n",
    "scoring = ['recall', 'accuracy']\n",
    "\n",
    "param_grid={\n",
    "'model__learning_rate': lr,\n",
    "'model__hidden_layer_sizes': hidden_layers ,\n",
    "'model__alpha': alpha, \n",
    "'model__activation': act_f\n",
    "}\n",
    "\n",
    "# scoring = ['balanced_accuracy', 'accuracy', 'roc_auc', 'recall', 'precision']\n",
    "\n",
    "grid = GridSearchCV(pipe, param_grid, cv=3, verbose=5, refit= True, return_train_score=True)\n",
    "chosen_model = grid.fit(Xtr, Ytr)"
   ]
  },
  {
   "cell_type": "code",
   "execution_count": 6,
   "id": "dc7065ef",
   "metadata": {},
   "outputs": [
    {
     "data": {
      "text/plain": [
       "{'model__activation': 'tanh',\n",
       " 'model__alpha': 0.5,\n",
       " 'model__hidden_layer_sizes': (30, 10),\n",
       " 'model__learning_rate': 'constant'}"
      ]
     },
     "execution_count": 6,
     "metadata": {},
     "output_type": "execute_result"
    }
   ],
   "source": [
    "chosen_model.best_params_"
   ]
  },
  {
   "cell_type": "code",
   "execution_count": 7,
   "id": "fd106f6d",
   "metadata": {},
   "outputs": [
    {
     "name": "stderr",
     "output_type": "stream",
     "text": [
      "/Users/akshitasingh/opt/anaconda3/lib/python3.8/site-packages/sklearn/neural_network/_multilayer_perceptron.py:549: ConvergenceWarning: lbfgs failed to converge (status=1):\n",
      "STOP: TOTAL NO. of ITERATIONS REACHED LIMIT.\n",
      "\n",
      "Increase the number of iterations (max_iter) or scale the data as shown in:\n",
      "    https://scikit-learn.org/stable/modules/preprocessing.html\n",
      "  self.n_iter_ = _check_optimize_result(\"lbfgs\", opt_res, self.max_iter)\n",
      "/Users/akshitasingh/opt/anaconda3/lib/python3.8/site-packages/sklearn/neural_network/_multilayer_perceptron.py:549: ConvergenceWarning: lbfgs failed to converge (status=1):\n",
      "STOP: TOTAL NO. of ITERATIONS REACHED LIMIT.\n",
      "\n",
      "Increase the number of iterations (max_iter) or scale the data as shown in:\n",
      "    https://scikit-learn.org/stable/modules/preprocessing.html\n",
      "  self.n_iter_ = _check_optimize_result(\"lbfgs\", opt_res, self.max_iter)\n"
     ]
    }
   ],
   "source": [
    "clf_tanh = MLPClassifier(alpha= .5, hidden_layer_sizes=(20, 20, 15), random_state=100,\n",
    "              solver='lbfgs', learning_rate = 'constant', activation = 'tanh').fit(Xtr, Ytr)\n",
    "clf_relu = MLPClassifier(alpha= .5, hidden_layer_sizes=(20, 20, 15), random_state=100,\n",
    "              solver='lbfgs', learning_rate = 'constant', activation = 'relu').fit(Xtr, Ytr)"
   ]
  },
  {
   "cell_type": "code",
   "execution_count": 8,
   "id": "fcf6786d",
   "metadata": {},
   "outputs": [
    {
     "name": "stderr",
     "output_type": "stream",
     "text": [
      "/Users/akshitasingh/opt/anaconda3/lib/python3.8/site-packages/sklearn/neural_network/_multilayer_perceptron.py:549: ConvergenceWarning: lbfgs failed to converge (status=1):\n",
      "STOP: TOTAL NO. of ITERATIONS REACHED LIMIT.\n",
      "\n",
      "Increase the number of iterations (max_iter) or scale the data as shown in:\n",
      "    https://scikit-learn.org/stable/modules/preprocessing.html\n",
      "  self.n_iter_ = _check_optimize_result(\"lbfgs\", opt_res, self.max_iter)\n",
      "/Users/akshitasingh/opt/anaconda3/lib/python3.8/site-packages/sklearn/utils/deprecation.py:87: FutureWarning: Function plot_roc_curve is deprecated; Function `plot_roc_curve` is deprecated in 1.0 and will be removed in 1.2. Use one of the class methods: RocCurveDisplay.from_predictions or RocCurveDisplay.from_estimator.\n",
      "  warnings.warn(msg, category=FutureWarning)\n"
     ]
    },
    {
     "data": {
      "text/plain": [
       "<sklearn.metrics._plot.roc_curve.RocCurveDisplay at 0x7faf2916dfd0>"
      ]
     },
     "execution_count": 8,
     "metadata": {},
     "output_type": "execute_result"
    },
    {
     "data": {
      "image/png": "[encoded data removed]",
      "text/plain": [
       "<Figure size 432x288 with 1 Axes>"
      ]
     },
     "metadata": {
      "needs_background": "light"
     },
     "output_type": "display_data"
    }
   ],
   "source": [
    "metrics.plot_roc_curve(clf_tanh.fit(Xtr, Ytr), Xtr, Ytr) "
   ]
  },
  {
   "cell_type": "code",
   "execution_count": 9,
   "id": "88530bfa",
   "metadata": {},
   "outputs": [
    {
     "name": "stderr",
     "output_type": "stream",
     "text": [
      "/Users/akshitasingh/opt/anaconda3/lib/python3.8/site-packages/sklearn/neural_network/_multilayer_perceptron.py:549: ConvergenceWarning: lbfgs failed to converge (status=1):\n",
      "STOP: TOTAL NO. of ITERATIONS REACHED LIMIT.\n",
      "\n",
      "Increase the number of iterations (max_iter) or scale the data as shown in:\n",
      "    https://scikit-learn.org/stable/modules/preprocessing.html\n",
      "  self.n_iter_ = _check_optimize_result(\"lbfgs\", opt_res, self.max_iter)\n",
      "/Users/akshitasingh/opt/anaconda3/lib/python3.8/site-packages/sklearn/utils/deprecation.py:87: FutureWarning: Function plot_roc_curve is deprecated; Function `plot_roc_curve` is deprecated in 1.0 and will be removed in 1.2. Use one of the class methods: RocCurveDisplay.from_predictions or RocCurveDisplay.from_estimator.\n",
      "  warnings.warn(msg, category=FutureWarning)\n"
     ]
    },
    {
     "data": {
      "text/plain": [
       "<sklearn.metrics._plot.roc_curve.RocCurveDisplay at 0x7faf3ae85fa0>"
      ]
     },
     "execution_count": 9,
     "metadata": {},
     "output_type": "execute_result"
    },
    {
     "data": {
      "image/png": "[encoded data removed]",
      "text/plain": [
       "<Figure size 432x288 with 1 Axes>"
      ]
     },
     "metadata": {
      "needs_background": "light"
     },
     "output_type": "display_data"
    }
   ],
   "source": [
    "metrics.plot_roc_curve(clf_relu.fit(Xtr, Ytr), Xtr, Ytr) "
   ]
  },
  {
   "cell_type": "code",
   "execution_count": 10,
   "id": "ec26c3d3",
   "metadata": {},
   "outputs": [
    {
     "name": "stderr",
     "output_type": "stream",
     "text": [
      "/Users/akshitasingh/opt/anaconda3/lib/python3.8/site-packages/sklearn/neural_network/_multilayer_perceptron.py:549: ConvergenceWarning: lbfgs failed to converge (status=1):\n",
      "STOP: TOTAL NO. of ITERATIONS REACHED LIMIT.\n",
      "\n",
      "Increase the number of iterations (max_iter) or scale the data as shown in:\n",
      "    https://scikit-learn.org/stable/modules/preprocessing.html\n",
      "  self.n_iter_ = _check_optimize_result(\"lbfgs\", opt_res, self.max_iter)\n",
      "/Users/akshitasingh/opt/anaconda3/lib/python3.8/site-packages/sklearn/neural_network/_multilayer_perceptron.py:549: ConvergenceWarning: lbfgs failed to converge (status=1):\n",
      "STOP: TOTAL NO. of ITERATIONS REACHED LIMIT.\n",
      "\n",
      "Increase the number of iterations (max_iter) or scale the data as shown in:\n",
      "    https://scikit-learn.org/stable/modules/preprocessing.html\n",
      "  self.n_iter_ = _check_optimize_result(\"lbfgs\", opt_res, self.max_iter)\n",
      "/Users/akshitasingh/opt/anaconda3/lib/python3.8/site-packages/sklearn/neural_network/_multilayer_perceptron.py:549: ConvergenceWarning: lbfgs failed to converge (status=1):\n",
      "STOP: TOTAL NO. of ITERATIONS REACHED LIMIT.\n",
      "\n",
      "Increase the number of iterations (max_iter) or scale the data as shown in:\n",
      "    https://scikit-learn.org/stable/modules/preprocessing.html\n",
      "  self.n_iter_ = _check_optimize_result(\"lbfgs\", opt_res, self.max_iter)\n",
      "/Users/akshitasingh/opt/anaconda3/lib/python3.8/site-packages/sklearn/neural_network/_multilayer_perceptron.py:549: ConvergenceWarning: lbfgs failed to converge (status=1):\n",
      "STOP: TOTAL NO. of ITERATIONS REACHED LIMIT.\n",
      "\n",
      "Increase the number of iterations (max_iter) or scale the data as shown in:\n",
      "    https://scikit-learn.org/stable/modules/preprocessing.html\n",
      "  self.n_iter_ = _check_optimize_result(\"lbfgs\", opt_res, self.max_iter)\n"
     ]
    },
    {
     "data": {
      "text/plain": [
       "0.6081644643829832"
      ]
     },
     "execution_count": 10,
     "metadata": {},
     "output_type": "execute_result"
    }
   ],
   "source": [
    "cross_val_score(clf_tanh, Xtr, Ytr, cv = 4).mean()"
   ]
  },
  {
   "cell_type": "code",
   "execution_count": 11,
   "id": "c5518ee2",
   "metadata": {},
   "outputs": [
    {
     "name": "stderr",
     "output_type": "stream",
     "text": [
      "/Users/akshitasingh/opt/anaconda3/lib/python3.8/site-packages/sklearn/neural_network/_multilayer_perceptron.py:549: ConvergenceWarning: lbfgs failed to converge (status=1):\n",
      "STOP: TOTAL NO. of ITERATIONS REACHED LIMIT.\n",
      "\n",
      "Increase the number of iterations (max_iter) or scale the data as shown in:\n",
      "    https://scikit-learn.org/stable/modules/preprocessing.html\n",
      "  self.n_iter_ = _check_optimize_result(\"lbfgs\", opt_res, self.max_iter)\n",
      "/Users/akshitasingh/opt/anaconda3/lib/python3.8/site-packages/sklearn/neural_network/_multilayer_perceptron.py:549: ConvergenceWarning: lbfgs failed to converge (status=1):\n",
      "STOP: TOTAL NO. of ITERATIONS REACHED LIMIT.\n",
      "\n",
      "Increase the number of iterations (max_iter) or scale the data as shown in:\n",
      "    https://scikit-learn.org/stable/modules/preprocessing.html\n",
      "  self.n_iter_ = _check_optimize_result(\"lbfgs\", opt_res, self.max_iter)\n",
      "/Users/akshitasingh/opt/anaconda3/lib/python3.8/site-packages/sklearn/neural_network/_multilayer_perceptron.py:549: ConvergenceWarning: lbfgs failed to converge (status=1):\n",
      "STOP: TOTAL NO. of ITERATIONS REACHED LIMIT.\n",
      "\n",
      "Increase the number of iterations (max_iter) or scale the data as shown in:\n",
      "    https://scikit-learn.org/stable/modules/preprocessing.html\n",
      "  self.n_iter_ = _check_optimize_result(\"lbfgs\", opt_res, self.max_iter)\n",
      "/Users/akshitasingh/opt/anaconda3/lib/python3.8/site-packages/sklearn/neural_network/_multilayer_perceptron.py:549: ConvergenceWarning: lbfgs failed to converge (status=1):\n",
      "STOP: TOTAL NO. of ITERATIONS REACHED LIMIT.\n",
      "\n",
      "Increase the number of iterations (max_iter) or scale the data as shown in:\n",
      "    https://scikit-learn.org/stable/modules/preprocessing.html\n",
      "  self.n_iter_ = _check_optimize_result(\"lbfgs\", opt_res, self.max_iter)\n"
     ]
    },
    {
     "data": {
      "text/plain": [
       "2.206580279342712e-07"
      ]
     },
     "execution_count": 11,
     "metadata": {},
     "output_type": "execute_result"
    }
   ],
   "source": [
    "cross_val_score(clf_tanh, Xtr, Ytr, cv = 4).var()"
   ]
  },
  {
   "cell_type": "code",
   "execution_count": 12,
   "id": "96520026",
   "metadata": {},
   "outputs": [
    {
     "name": "stderr",
     "output_type": "stream",
     "text": [
      "/Users/akshitasingh/opt/anaconda3/lib/python3.8/site-packages/sklearn/neural_network/_multilayer_perceptron.py:549: ConvergenceWarning: lbfgs failed to converge (status=1):\n",
      "STOP: TOTAL NO. of ITERATIONS REACHED LIMIT.\n",
      "\n",
      "Increase the number of iterations (max_iter) or scale the data as shown in:\n",
      "    https://scikit-learn.org/stable/modules/preprocessing.html\n",
      "  self.n_iter_ = _check_optimize_result(\"lbfgs\", opt_res, self.max_iter)\n",
      "/Users/akshitasingh/opt/anaconda3/lib/python3.8/site-packages/sklearn/neural_network/_multilayer_perceptron.py:549: ConvergenceWarning: lbfgs failed to converge (status=1):\n",
      "STOP: TOTAL NO. of ITERATIONS REACHED LIMIT.\n",
      "\n",
      "Increase the number of iterations (max_iter) or scale the data as shown in:\n",
      "    https://scikit-learn.org/stable/modules/preprocessing.html\n",
      "  self.n_iter_ = _check_optimize_result(\"lbfgs\", opt_res, self.max_iter)\n",
      "/Users/akshitasingh/opt/anaconda3/lib/python3.8/site-packages/sklearn/neural_network/_multilayer_perceptron.py:549: ConvergenceWarning: lbfgs failed to converge (status=1):\n",
      "STOP: TOTAL NO. of ITERATIONS REACHED LIMIT.\n",
      "\n",
      "Increase the number of iterations (max_iter) or scale the data as shown in:\n",
      "    https://scikit-learn.org/stable/modules/preprocessing.html\n",
      "  self.n_iter_ = _check_optimize_result(\"lbfgs\", opt_res, self.max_iter)\n",
      "/Users/akshitasingh/opt/anaconda3/lib/python3.8/site-packages/sklearn/neural_network/_multilayer_perceptron.py:549: ConvergenceWarning: lbfgs failed to converge (status=1):\n",
      "STOP: TOTAL NO. of ITERATIONS REACHED LIMIT.\n",
      "\n",
      "Increase the number of iterations (max_iter) or scale the data as shown in:\n",
      "    https://scikit-learn.org/stable/modules/preprocessing.html\n",
      "  self.n_iter_ = _check_optimize_result(\"lbfgs\", opt_res, self.max_iter)\n"
     ]
    },
    {
     "data": {
      "text/plain": [
       "0.6192149367301303"
      ]
     },
     "execution_count": 12,
     "metadata": {},
     "output_type": "execute_result"
    }
   ],
   "source": [
    "cross_val_score(clf_relu, Xtr, Ytr, cv = 4).mean()"
   ]
  },
  {
   "cell_type": "code",
   "execution_count": 13,
   "id": "07987ccb",
   "metadata": {},
   "outputs": [
    {
     "name": "stderr",
     "output_type": "stream",
     "text": [
      "/Users/akshitasingh/opt/anaconda3/lib/python3.8/site-packages/sklearn/neural_network/_multilayer_perceptron.py:549: ConvergenceWarning: lbfgs failed to converge (status=1):\n",
      "STOP: TOTAL NO. of ITERATIONS REACHED LIMIT.\n",
      "\n",
      "Increase the number of iterations (max_iter) or scale the data as shown in:\n",
      "    https://scikit-learn.org/stable/modules/preprocessing.html\n",
      "  self.n_iter_ = _check_optimize_result(\"lbfgs\", opt_res, self.max_iter)\n",
      "/Users/akshitasingh/opt/anaconda3/lib/python3.8/site-packages/sklearn/neural_network/_multilayer_perceptron.py:549: ConvergenceWarning: lbfgs failed to converge (status=1):\n",
      "STOP: TOTAL NO. of ITERATIONS REACHED LIMIT.\n",
      "\n",
      "Increase the number of iterations (max_iter) or scale the data as shown in:\n",
      "    https://scikit-learn.org/stable/modules/preprocessing.html\n",
      "  self.n_iter_ = _check_optimize_result(\"lbfgs\", opt_res, self.max_iter)\n",
      "/Users/akshitasingh/opt/anaconda3/lib/python3.8/site-packages/sklearn/neural_network/_multilayer_perceptron.py:549: ConvergenceWarning: lbfgs failed to converge (status=1):\n",
      "STOP: TOTAL NO. of ITERATIONS REACHED LIMIT.\n",
      "\n",
      "Increase the number of iterations (max_iter) or scale the data as shown in:\n",
      "    https://scikit-learn.org/stable/modules/preprocessing.html\n",
      "  self.n_iter_ = _check_optimize_result(\"lbfgs\", opt_res, self.max_iter)\n",
      "/Users/akshitasingh/opt/anaconda3/lib/python3.8/site-packages/sklearn/neural_network/_multilayer_perceptron.py:549: ConvergenceWarning: lbfgs failed to converge (status=1):\n",
      "STOP: TOTAL NO. of ITERATIONS REACHED LIMIT.\n",
      "\n",
      "Increase the number of iterations (max_iter) or scale the data as shown in:\n",
      "    https://scikit-learn.org/stable/modules/preprocessing.html\n",
      "  self.n_iter_ = _check_optimize_result(\"lbfgs\", opt_res, self.max_iter)\n"
     ]
    },
    {
     "data": {
      "text/plain": [
       "9.32505635909886e-05"
      ]
     },
     "execution_count": 13,
     "metadata": {},
     "output_type": "execute_result"
    }
   ],
   "source": [
    "cross_val_score(clf_relu, Xtr, Ytr, cv = 4).var()"
   ]
  },
  {
   "cell_type": "code",
   "execution_count": 17,
   "id": "5210487f",
   "metadata": {},
   "outputs": [],
   "source": [
    "# grid_YteH = grid.predict(Xte)\n",
    "# print(confusion_matrix(Yte, grid_YteH))\n",
    "# print(classification_report(Yte, grid_YteH))"
   ]
  },
  {
   "cell_type": "code",
   "execution_count": null,
   "id": "29da126c",
   "metadata": {},
   "outputs": [],
   "source": []
  }
 ],
 "metadata": {
  "kernelspec": {
   "display_name": "Python 3 (ipykernel)",
   "language": "python",
   "name": "python3"
  },
  "language_info": {
   "codemirror_mode": {
    "name": "ipython",
    "version": 3
   },
   "file_extension": ".py",
   "mimetype": "text/x-python",
   "name": "python",
   "nbconvert_exporter": "python",
   "pygments_lexer": "ipython3",
   "version": "3.8.8"
  }
 },
 "nbformat": 4,
 "nbformat_minor": 5
}
