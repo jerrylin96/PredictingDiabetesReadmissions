{
 "cells": [
  {
   "cell_type": "markdown",
   "id": "f263ea03",
   "metadata": {},
   "source": [
    "# Loading the data"
   ]
  },
  {
   "cell_type": "code",
   "execution_count": 1,
   "id": "7d0f9d9b",
   "metadata": {},
   "outputs": [],
   "source": [
    "#cd /Users/akshitasingh/Downloads/273A_ML/1_MLProject"
   ]
  },
  {
   "cell_type": "code",
   "execution_count": 2,
   "id": "0932c2e3",
   "metadata": {},
   "outputs": [],
   "source": [
    "%matplotlib inline\n",
    "import matplotlib.pyplot as plt\n",
    "import numpy as np\n",
    "import pandas as pd\n",
    "np.random.seed(0)\n",
    "\n",
    "from collections import defaultdict\n",
    "\n",
    "np.random.seed(100)"
   ]
  },
  {
   "cell_type": "code",
   "execution_count": 3,
   "id": "b23fbf90",
   "metadata": {},
   "outputs": [],
   "source": [
    "# sklearn imports\n",
    "from sklearn import preprocessing\n",
    "from sklearn.feature_selection import VarianceThreshold\n",
    "from sklearn.preprocessing import StandardScaler\n",
    "from sklearn.model_selection import train_test_split\n",
    "from sklearn.pipeline import Pipeline\n",
    "from sklearn.linear_model import Lasso\n",
    "from sklearn.decomposition import PCA\n",
    "from sklearn.preprocessing import OneHotEncoder\n",
    "\n",
    "# other stats/math imports\n",
    "import math\n",
    "from scipy.stats import chi2_contingency"
   ]
  },
  {
   "cell_type": "code",
   "execution_count": 4,
   "id": "1a5bae21",
   "metadata": {},
   "outputs": [],
   "source": [
    "#diabetes = pd.read_csv(\"/Users/akshitasingh/Downloads/273A_ML/1_MLProject/dataset_diabetes/diabetic_data.csv\", delimiter=None) \n",
    "diabetes = pd.read_csv(\"diabetic_data.csv\", delimiter=None) \n",
    "diabetes = pd.DataFrame(diabetes)"
   ]
  },
  {
   "cell_type": "code",
   "execution_count": 5,
   "id": "bae0510f",
   "metadata": {},
   "outputs": [
    {
     "data": {
      "text/html": [
       "<div>\n",
       "<style scoped>\n",
       "    .dataframe tbody tr th:only-of-type {\n",
       "        vertical-align: middle;\n",
       "    }\n",
       "\n",
       "    .dataframe tbody tr th {\n",
       "        vertical-align: top;\n",
       "    }\n",
       "\n",
       "    .dataframe thead th {\n",
       "        text-align: right;\n",
       "    }\n",
       "</style>\n",
       "<table border=\"1\" class=\"dataframe\">\n",
       "  <thead>\n",
       "    <tr style=\"text-align: right;\">\n",
       "      <th></th>\n",
       "      <th>encounter_id</th>\n",
       "      <th>patient_nbr</th>\n",
       "      <th>race</th>\n",
       "      <th>gender</th>\n",
       "      <th>age</th>\n",
       "      <th>weight</th>\n",
       "      <th>admission_type_id</th>\n",
       "      <th>discharge_disposition_id</th>\n",
       "      <th>admission_source_id</th>\n",
       "      <th>time_in_hospital</th>\n",
       "      <th>...</th>\n",
       "      <th>citoglipton</th>\n",
       "      <th>insulin</th>\n",
       "      <th>glyburide-metformin</th>\n",
       "      <th>glipizide-metformin</th>\n",
       "      <th>glimepiride-pioglitazone</th>\n",
       "      <th>metformin-rosiglitazone</th>\n",
       "      <th>metformin-pioglitazone</th>\n",
       "      <th>change</th>\n",
       "      <th>diabetesMed</th>\n",
       "      <th>readmitted</th>\n",
       "    </tr>\n",
       "  </thead>\n",
       "  <tbody>\n",
       "    <tr>\n",
       "      <th>0</th>\n",
       "      <td>2278392</td>\n",
       "      <td>8222157</td>\n",
       "      <td>Caucasian</td>\n",
       "      <td>Female</td>\n",
       "      <td>[0-10)</td>\n",
       "      <td>?</td>\n",
       "      <td>6</td>\n",
       "      <td>25</td>\n",
       "      <td>1</td>\n",
       "      <td>1</td>\n",
       "      <td>...</td>\n",
       "      <td>No</td>\n",
       "      <td>No</td>\n",
       "      <td>No</td>\n",
       "      <td>No</td>\n",
       "      <td>No</td>\n",
       "      <td>No</td>\n",
       "      <td>No</td>\n",
       "      <td>No</td>\n",
       "      <td>No</td>\n",
       "      <td>NO</td>\n",
       "    </tr>\n",
       "    <tr>\n",
       "      <th>1</th>\n",
       "      <td>149190</td>\n",
       "      <td>55629189</td>\n",
       "      <td>Caucasian</td>\n",
       "      <td>Female</td>\n",
       "      <td>[10-20)</td>\n",
       "      <td>?</td>\n",
       "      <td>1</td>\n",
       "      <td>1</td>\n",
       "      <td>7</td>\n",
       "      <td>3</td>\n",
       "      <td>...</td>\n",
       "      <td>No</td>\n",
       "      <td>Up</td>\n",
       "      <td>No</td>\n",
       "      <td>No</td>\n",
       "      <td>No</td>\n",
       "      <td>No</td>\n",
       "      <td>No</td>\n",
       "      <td>Ch</td>\n",
       "      <td>Yes</td>\n",
       "      <td>&gt;30</td>\n",
       "    </tr>\n",
       "    <tr>\n",
       "      <th>2</th>\n",
       "      <td>64410</td>\n",
       "      <td>86047875</td>\n",
       "      <td>AfricanAmerican</td>\n",
       "      <td>Female</td>\n",
       "      <td>[20-30)</td>\n",
       "      <td>?</td>\n",
       "      <td>1</td>\n",
       "      <td>1</td>\n",
       "      <td>7</td>\n",
       "      <td>2</td>\n",
       "      <td>...</td>\n",
       "      <td>No</td>\n",
       "      <td>No</td>\n",
       "      <td>No</td>\n",
       "      <td>No</td>\n",
       "      <td>No</td>\n",
       "      <td>No</td>\n",
       "      <td>No</td>\n",
       "      <td>No</td>\n",
       "      <td>Yes</td>\n",
       "      <td>NO</td>\n",
       "    </tr>\n",
       "    <tr>\n",
       "      <th>3</th>\n",
       "      <td>500364</td>\n",
       "      <td>82442376</td>\n",
       "      <td>Caucasian</td>\n",
       "      <td>Male</td>\n",
       "      <td>[30-40)</td>\n",
       "      <td>?</td>\n",
       "      <td>1</td>\n",
       "      <td>1</td>\n",
       "      <td>7</td>\n",
       "      <td>2</td>\n",
       "      <td>...</td>\n",
       "      <td>No</td>\n",
       "      <td>Up</td>\n",
       "      <td>No</td>\n",
       "      <td>No</td>\n",
       "      <td>No</td>\n",
       "      <td>No</td>\n",
       "      <td>No</td>\n",
       "      <td>Ch</td>\n",
       "      <td>Yes</td>\n",
       "      <td>NO</td>\n",
       "    </tr>\n",
       "    <tr>\n",
       "      <th>4</th>\n",
       "      <td>16680</td>\n",
       "      <td>42519267</td>\n",
       "      <td>Caucasian</td>\n",
       "      <td>Male</td>\n",
       "      <td>[40-50)</td>\n",
       "      <td>?</td>\n",
       "      <td>1</td>\n",
       "      <td>1</td>\n",
       "      <td>7</td>\n",
       "      <td>1</td>\n",
       "      <td>...</td>\n",
       "      <td>No</td>\n",
       "      <td>Steady</td>\n",
       "      <td>No</td>\n",
       "      <td>No</td>\n",
       "      <td>No</td>\n",
       "      <td>No</td>\n",
       "      <td>No</td>\n",
       "      <td>Ch</td>\n",
       "      <td>Yes</td>\n",
       "      <td>NO</td>\n",
       "    </tr>\n",
       "  </tbody>\n",
       "</table>\n",
       "<p>5 rows × 50 columns</p>\n",
       "</div>"
      ],
      "text/plain": [
       "   encounter_id  patient_nbr             race  gender      age weight  \\\n",
       "0       2278392      8222157        Caucasian  Female   [0-10)      ?   \n",
       "1        149190     55629189        Caucasian  Female  [10-20)      ?   \n",
       "2         64410     86047875  AfricanAmerican  Female  [20-30)      ?   \n",
       "3        500364     82442376        Caucasian    Male  [30-40)      ?   \n",
       "4         16680     42519267        Caucasian    Male  [40-50)      ?   \n",
       "\n",
       "   admission_type_id  discharge_disposition_id  admission_source_id  \\\n",
       "0                  6                        25                    1   \n",
       "1                  1                         1                    7   \n",
       "2                  1                         1                    7   \n",
       "3                  1                         1                    7   \n",
       "4                  1                         1                    7   \n",
       "\n",
       "   time_in_hospital  ... citoglipton insulin  glyburide-metformin  \\\n",
       "0                 1  ...          No      No                   No   \n",
       "1                 3  ...          No      Up                   No   \n",
       "2                 2  ...          No      No                   No   \n",
       "3                 2  ...          No      Up                   No   \n",
       "4                 1  ...          No  Steady                   No   \n",
       "\n",
       "   glipizide-metformin  glimepiride-pioglitazone  metformin-rosiglitazone  \\\n",
       "0                   No                        No                       No   \n",
       "1                   No                        No                       No   \n",
       "2                   No                        No                       No   \n",
       "3                   No                        No                       No   \n",
       "4                   No                        No                       No   \n",
       "\n",
       "   metformin-pioglitazone  change diabetesMed readmitted  \n",
       "0                      No      No          No         NO  \n",
       "1                      No      Ch         Yes        >30  \n",
       "2                      No      No         Yes         NO  \n",
       "3                      No      Ch         Yes         NO  \n",
       "4                      No      Ch         Yes         NO  \n",
       "\n",
       "[5 rows x 50 columns]"
      ]
     },
     "execution_count": 5,
     "metadata": {},
     "output_type": "execute_result"
    }
   ],
   "source": [
    "diabetes.head()"
   ]
  },
  {
   "cell_type": "markdown",
   "id": "d58e199d",
   "metadata": {},
   "source": [
    "# Data Preprocessing\n",
    "### Numerical Features \n",
    "In this dataset the feature names make numerical value features self-evident. Each column with numerical features starts with \"num_...\"\n",
    "### Categorical Features\n",
    "Essentially every feature that is numerical can be considered categorical but it is not as simple as that. \n",
    "1) 2 features are patient ID features: ['encounter_id', 'patient_nbr']. It does not make sense to include them (unless we are considering a personalized Machine Learning model) <br>\n",
    "2) It also does not make sense to include the target feature which is also categorical: ['readmitted'] <br>\n",
    "3) Certain features have numerical values that represent categories, such as: ['admission_type_id', 'discharge_disposition_id', 'admission_source_id']. This is something we will investigate further. \n"
   ]
  },
  {
   "cell_type": "code",
   "execution_count": 6,
   "id": "a67bcd67",
   "metadata": {},
   "outputs": [],
   "source": [
    "# list column names of features that consist of numeric values\n",
    "# (in this dataset the feature names make numerical value features self-evident)\n",
    "feat_num = ['num_lab_procedures', 'num_procedures', 'num_medications',\n",
    "       'number_outpatient', 'number_emergency', 'number_inpatient', 'number_diagnoses']\n",
    "\n",
    "# numerics = ['int16','int32','int64','float16','float32','float64']\n",
    "# feat_num = list(diabetes.select_dtypes(include=numerics).columns)\n",
    "\n",
    "# list column names of features that consist of categorical values\n",
    "feat_cat = ['race', 'gender', 'age', 'weight',\n",
    "       'admission_type_id', 'discharge_disposition_id', 'admission_source_id',\n",
    "       'time_in_hospital', 'payer_code', 'medical_specialty', 'diag_1',\n",
    "       'diag_2', 'diag_3', 'max_glu_serum', 'A1Cresult',\n",
    "       'metformin', 'repaglinide', 'nateglinide', 'chlorpropamide',\n",
    "       'glimepiride', 'acetohexamide', 'glipizide', 'glyburide', 'tolbutamide',\n",
    "       'pioglitazone', 'rosiglitazone', 'acarbose', 'miglitol', 'troglitazone',\n",
    "       'tolazamide', 'examide', 'citoglipton', 'insulin',\n",
    "       'glyburide-metformin', 'glipizide-metformin',\n",
    "       'glimepiride-pioglitazone', 'metformin-rosiglitazone',\n",
    "       'metformin-pioglitazone', 'change', 'diabetesMed']"
   ]
  },
  {
   "cell_type": "markdown",
   "id": "564c4470",
   "metadata": {},
   "source": [
    "#### Count distinct values for Categorical Features"
   ]
  },
  {
   "cell_type": "code",
   "execution_count": 7,
   "id": "7c0441d9",
   "metadata": {},
   "outputs": [
    {
     "data": {
      "text/plain": [
       "defaultdict(int,\n",
       "            {'race': 6,\n",
       "             'gender': 3,\n",
       "             'age': 10,\n",
       "             'weight': 10,\n",
       "             'admission_type_id': 8,\n",
       "             'discharge_disposition_id': 26,\n",
       "             'admission_source_id': 17,\n",
       "             'time_in_hospital': 14,\n",
       "             'payer_code': 18,\n",
       "             'medical_specialty': 73,\n",
       "             'diag_1': 717,\n",
       "             'diag_2': 749,\n",
       "             'diag_3': 790,\n",
       "             'max_glu_serum': 4,\n",
       "             'A1Cresult': 4,\n",
       "             'metformin': 4,\n",
       "             'repaglinide': 4,\n",
       "             'nateglinide': 4,\n",
       "             'chlorpropamide': 4,\n",
       "             'glimepiride': 4,\n",
       "             'acetohexamide': 2,\n",
       "             'glipizide': 4,\n",
       "             'glyburide': 4,\n",
       "             'tolbutamide': 2,\n",
       "             'pioglitazone': 4,\n",
       "             'rosiglitazone': 4,\n",
       "             'acarbose': 4,\n",
       "             'miglitol': 4,\n",
       "             'troglitazone': 2,\n",
       "             'tolazamide': 3,\n",
       "             'examide': 1,\n",
       "             'citoglipton': 1,\n",
       "             'insulin': 4,\n",
       "             'glyburide-metformin': 4,\n",
       "             'glipizide-metformin': 2,\n",
       "             'glimepiride-pioglitazone': 2,\n",
       "             'metformin-rosiglitazone': 2,\n",
       "             'metformin-pioglitazone': 2,\n",
       "             'change': 2,\n",
       "             'diabetesMed': 2})"
      ]
     },
     "execution_count": 7,
     "metadata": {},
     "output_type": "execute_result"
    }
   ],
   "source": [
    "cat_count = defaultdict(int)\n",
    "for f in feat_cat:\n",
    "    cat_count[f] = len(diabetes[f].value_counts())\n",
    "cat_count"
   ]
  },
  {
   "cell_type": "code",
   "execution_count": 8,
   "id": "8f14c7f2",
   "metadata": {},
   "outputs": [],
   "source": [
    "# The features \"examide\" and \"citoglipton\" have only one value through so they can be dropped from consideration\n",
    "diabetes = diabetes.drop(['examide', 'citoglipton'], axis = 1)\n",
    "feat_cat = [f for f in feat_cat if f not in ('examide', 'citoglipton')]"
   ]
  },
  {
   "cell_type": "code",
   "execution_count": 9,
   "id": "a0a3df48",
   "metadata": {},
   "outputs": [],
   "source": [
    "# List of all medication features after removing  \"examide\" and \"citoglipton\"\n",
    "medications = list(diabetes.columns)[24:45]"
   ]
  },
  {
   "cell_type": "markdown",
   "id": "55c2327f",
   "metadata": {},
   "source": [
    "## Categorical features - Investigating Categories\n",
    "We picked some features we thought would be relevant to look into further <br>"
   ]
  },
  {
   "cell_type": "markdown",
   "id": "139b1676",
   "metadata": {},
   "source": [
    "### Discharge Disposition ID: \n",
    "From the ID mapping that UCI ML Repository shared with us, some categories here relate to death or terminally ill facilities. Any patient that falls into these categories should possibly not be considered in our predictions because there is no way they can be readmitted. If we were to consider them, we would possibly be biasing our predictions towards \"NO\" readmission, which would be incorrect. Nonetheless, we might want to consider some patients who had multiple re-admissions and hence we will not completely eliminate all patients that fall in the death/hospice categories"
   ]
  },
  {
   "cell_type": "code",
   "execution_count": 10,
   "id": "38fb640d",
   "metadata": {},
   "outputs": [],
   "source": [
    "## drop rows where discharge_disposition_id indicates death or hospice\n",
    "# diabetes = diabetes.drop(diabetes[diabetes.discharge_disposition_id.isin([11,13,14,19,20,21])].index)\n",
    "## OR, Create a Boolean for patients that died/went to hospice vs that didn't\n",
    "diabetes['disposition_boolean'] = np.where((diabetes['discharge_disposition_id'].isin([11,13,14,19,20,21])),1,0)\n",
    "diabetes['discharge_disposition_id'].value_counts()\n",
    "feat_cat.append('disposition_boolean')"
   ]
  },
  {
   "cell_type": "markdown",
   "id": "463725dd",
   "metadata": {},
   "source": [
    "### Diagnosis Features - diag_1, diag_2, diag_3: \n",
    "- Each of the 3 features containts 700+ categories of type string <br> \n",
    "- Some of these categories are essentially numbers (floats) while others are hard strings <br>\n",
    "- We convert all the strings that can be converted into floats, and coerce the others into 'nan' <br>\n",
    "- Any unknowns (?) and non-float diagnisis (ex. V50) are then categorized as \"Other\" "
   ]
  },
  {
   "cell_type": "code",
   "execution_count": 11,
   "id": "03e30268",
   "metadata": {},
   "outputs": [],
   "source": [
    "def diag_cat(diag_feat):\n",
    "    diabetes[diag_feat] = pd.to_numeric(diabetes[diag_feat],errors= 'coerce')\n",
    "    diabetes[diag_feat] = diabetes[diag_feat].fillna(0)\n",
    "    \n",
    "    for ind in range(len(diabetes)):\n",
    "        if diabetes[diag_feat][ind] == 'nan':\n",
    "            diabetes[diag_feat][ind] = \"Other\"\n",
    "        elif round(diabetes[diag_feat][ind]) in [250,251]:\n",
    "            diabetes[diag_feat][ind] = \"Diabetes\"\n",
    "        elif diabetes[diag_feat][ind] in range(390,460) or diabetes[diag_feat][ind] == 785:\n",
    "            diabetes[diag_feat][ind] = \"Circulatory\"\n",
    "        elif diabetes[diag_feat][ind] in range(460,520) or diabetes[diag_feat][ind] == 786:\n",
    "            diabetes[diag_feat][ind] = \"Respiratory\"\n",
    "        elif diabetes[diag_feat][ind] in range(520,580) or diabetes[diag_feat][ind] == 787:\n",
    "            diabetes[diag_feat][ind] = \"Digestive\"\n",
    "        elif diabetes[diag_feat][ind] in range(800,1000):\n",
    "            diabetes[diag_feat][ind] = \"Injury\"\n",
    "        elif diabetes[diag_feat][ind] in range(710,740):\n",
    "            diabetes[diag_feat][ind] = \"Musculoskeletel\"\n",
    "        else:\n",
    "            diabetes[diag_feat][ind] = \"Other\""
   ]
  },
  {
   "cell_type": "code",
   "execution_count": 12,
   "id": "49480a4e",
   "metadata": {},
   "outputs": [
    {
     "name": "stderr",
     "output_type": "stream",
     "text": [
      "/var/folders/t3/g9mr20m16kl6hwxm4flsx9mc0000gn/T/ipykernel_72143/2306081007.py:9: SettingWithCopyWarning: \n",
      "A value is trying to be set on a copy of a slice from a DataFrame\n",
      "\n",
      "See the caveats in the documentation: https://pandas.pydata.org/pandas-docs/stable/user_guide/indexing.html#returning-a-view-versus-a-copy\n",
      "  diabetes[diag_feat][ind] = \"Diabetes\"\n",
      "/opt/homebrew/Caskroom/miniforge/base/lib/python3.9/site-packages/pandas/core/indexing.py:1732: SettingWithCopyWarning: \n",
      "A value is trying to be set on a copy of a slice from a DataFrame\n",
      "\n",
      "See the caveats in the documentation: https://pandas.pydata.org/pandas-docs/stable/user_guide/indexing.html#returning-a-view-versus-a-copy\n",
      "  self._setitem_single_block(indexer, value, name)\n",
      "/var/folders/t3/g9mr20m16kl6hwxm4flsx9mc0000gn/T/ipykernel_72143/2306081007.py:21: SettingWithCopyWarning: \n",
      "A value is trying to be set on a copy of a slice from a DataFrame\n",
      "\n",
      "See the caveats in the documentation: https://pandas.pydata.org/pandas-docs/stable/user_guide/indexing.html#returning-a-view-versus-a-copy\n",
      "  diabetes[diag_feat][ind] = \"Other\"\n"
     ]
    }
   ],
   "source": [
    "diag_feat = ['diag_1', 'diag_2', 'diag_3']\n",
    "\n",
    "for f in diag_feat:\n",
    "    diag_cat(f)"
   ]
  },
  {
   "cell_type": "code",
   "execution_count": 13,
   "id": "9c25658c",
   "metadata": {},
   "outputs": [
    {
     "data": {
      "text/plain": [
       "Circulatory        30437\n",
       "Other              26728\n",
       "Respiratory        14423\n",
       "Digestive           9475\n",
       "Diabetes            8772\n",
       "Injury              6974\n",
       "Musculoskeletel     4957\n",
       "Name: diag_1, dtype: int64"
      ]
     },
     "execution_count": 13,
     "metadata": {},
     "output_type": "execute_result"
    }
   ],
   "source": [
    "diabetes['diag_1'].value_counts()"
   ]
  },
  {
   "cell_type": "markdown",
   "id": "055745fa",
   "metadata": {},
   "source": [
    "### Gender, Age, Admissions Type, and Admissions Source\n",
    "Age is a categorical feature, which we can consider turning into a numerical value by finding the mean of each range. This converts the feature into a numeric (but we shall not consider this as part of PCA because we understand that Age is an important factor in understanding readmissions and hence should not be put under the dimensionality reduction bucket. <br>"
   ]
  },
  {
   "cell_type": "code",
   "execution_count": 14,
   "id": "76024932",
   "metadata": {},
   "outputs": [],
   "source": [
    "# Gender\n",
    "diabetes = diabetes[diabetes['gender'] != 'Unknown/Invalid']\n",
    "diabetes['gender'].value_counts()\n",
    "\n",
    "# Age\n",
    "age_dict = {'[0-10)' : 5,\n",
    "'[10-20)' : 15,\n",
    "'[20-30)' : 25, \n",
    "'[30-40)' : 35, \n",
    "'[40-50)' : 45, \n",
    "'[50-60)' : 55,\n",
    "'[60-70)' : 65, \n",
    "'[70-80)' : 75,\n",
    "'[80-90)' : 85,\n",
    "'[90-100)' : 95}\n",
    "\n",
    "diabetes['age'] = diabetes['age'].apply(lambda x : age_dict[x])\n",
    "\n",
    "# Admissions\n",
    "diabetes['admission_type_id'] = \\\n",
    "diabetes['admission_type_id'].apply(lambda x : 'Unavailable' if int(x) in [5, 6, 8]\n",
    "                                                            else 'Elective')\n",
    "\n",
    "\n",
    "\n",
    "diabetes['admission_source_id'] = \\\n",
    "diabetes['admission_source_id'].apply(lambda x : 'Referral' if int(x) in [5, 6, 8]\n",
    "                                            else ('Emergency Room' if int(x) in [7]\n",
    "                                            else 'Other'))\n"
   ]
  },
  {
   "cell_type": "markdown",
   "id": "872e27af",
   "metadata": {},
   "source": []
  },
  {
   "cell_type": "markdown",
   "id": "f79c1f91",
   "metadata": {},
   "source": [
    "## Investigating Multiple Readmissions\n",
    "Some patients show up more than once in our dataset. It is a very small subset of the larger dataset so we first start with considering only once patient visit - which, in our case, would be the very last occurance for that patient. "
   ]
  },
  {
   "cell_type": "code",
   "execution_count": 15,
   "id": "4b7422c8",
   "metadata": {},
   "outputs": [],
   "source": [
    "## Count the number of multiple readmissions for a single patient\n",
    "# data = diabetes[diabetes['readmitted'] != 'NO']\n",
    "# unique_patients = data[['patient_nbr']]\n",
    "# unique_patients = unique_patients['patient_nbr'].value_counts().to_frame()\n",
    "# unique_patients[\"index\"] = unique_patients.index\n",
    "# len(unique_patients[unique_patients[\"patient_nbr\"] > 1])"
   ]
  },
  {
   "cell_type": "code",
   "execution_count": 16,
   "id": "1517e0a6",
   "metadata": {},
   "outputs": [
    {
     "data": {
      "text/plain": [
       "(71515, 49)"
      ]
     },
     "execution_count": 16,
     "metadata": {},
     "output_type": "execute_result"
    }
   ],
   "source": [
    "diabetes = diabetes.drop_duplicates(subset= 'patient_nbr', keep='last')\n",
    "diabetes.shape"
   ]
  },
  {
   "cell_type": "markdown",
   "id": "5a0f39f2",
   "metadata": {},
   "source": [
    "## Investigating Missing Values (?) \n",
    "Features with missing values: <br>\n",
    "**Weight** - replaced it with the mode <br>\n",
    "Another way to impute the missing weights would have been to find the closest neighbors. For us, a \"neighbor\" would be another patient with similar comorbidities. These comorbidities could be respresented in multiple ways such as (1) diagonasis (dia_1, 2, and 3) 2) number of meds, <br>\n",
    "**Race** - replaced it with \"UNK\" <br>\n",
    "**Medical Speciality** - replaced it with \"UNK\" <br>\n",
    "**Payer Code** - replaced it with \"UNK\" <br>\n",
    "\n",
    "(**diag_1, diag_2, diag_3** also had missing values but those have already been handled above)"
   ]
  },
  {
   "cell_type": "code",
   "execution_count": 17,
   "id": "5d2343cc",
   "metadata": {},
   "outputs": [
    {
     "name": "stdout",
     "output_type": "stream",
     "text": [
      "race 1876\n",
      "weight 68668\n",
      "payer_code 30084\n",
      "medical_specialty 34523\n"
     ]
    }
   ],
   "source": [
    "for col in diabetes.columns:\n",
    "    if diabetes[col].dtype == object:\n",
    "        count = diabetes[col][diabetes[col] == '?'].count()\n",
    "        if count > 0:\n",
    "            print(col, count)"
   ]
  },
  {
   "cell_type": "code",
   "execution_count": 18,
   "id": "43e2f936",
   "metadata": {},
   "outputs": [],
   "source": [
    "## Weights: Because most weights are missing, we replace the ? with most common weight\n",
    "diabetes['weight'] = np.where((diabetes['weight'] == \"?\"),\"[75-100)\",diabetes['weight'])\n",
    "## Race: replace with UNK\n",
    "diabetes['race'] = np.where((diabetes['race'] == \"?\"),\"UNK\",diabetes['race'])\n",
    "## Medical Speciality: replace with UNK\n",
    "diabetes['medical_specialty'] = np.where((diabetes['medical_specialty'] == \"?\"),\"UNK\",diabetes['medical_specialty'])\n",
    "## payer_code: replace with UNK\n",
    "diabetes['payer_code'] = np.where((diabetes['race'] == \"?\"),\"UNK\",diabetes['payer_code'])"
   ]
  },
  {
   "cell_type": "code",
   "execution_count": 19,
   "id": "ebced3ab",
   "metadata": {},
   "outputs": [],
   "source": [
    "# drop payer_code because it doesn't seem to explain very much \n",
    "# drop medical speciality because it has too many missing values\n",
    "feat_cat = [f for f in feat_cat if f not in ('payer_code', 'medical speciality')]"
   ]
  },
  {
   "cell_type": "markdown",
   "id": "0f0817d1",
   "metadata": {},
   "source": [
    "### Data after Preprocessing"
   ]
  },
  {
   "cell_type": "code",
   "execution_count": 20,
   "id": "f0b25a87",
   "metadata": {},
   "outputs": [],
   "source": [
    "X = diabetes[feat_num + feat_cat]\n",
    "y = diabetes['readmitted']"
   ]
  },
  {
   "cell_type": "markdown",
   "id": "1e80e33e",
   "metadata": {},
   "source": [
    "# Train Test Split"
   ]
  },
  {
   "cell_type": "code",
   "execution_count": 21,
   "id": "9c65de8a",
   "metadata": {},
   "outputs": [],
   "source": [
    "Xtr, Xte, Ytr, Yte = train_test_split(X, y, test_size=0.3, random_state=1)"
   ]
  },
  {
   "cell_type": "markdown",
   "id": "c0993a94",
   "metadata": {},
   "source": [
    "# Feature Selection"
   ]
  },
  {
   "cell_type": "code",
   "execution_count": 22,
   "id": "f20b6d4e",
   "metadata": {},
   "outputs": [],
   "source": [
    "# convert numerical features from strings to floats\n",
    "for f in feat_num:\n",
    "    diabetes[f] = pd.to_numeric(diabetes[f],errors= 'coerce')\n",
    "    \n",
    "scaler = StandardScaler()\n",
    "\n",
    "# scaling training data\n",
    "Xtr_num = Xtr[feat_num]\n",
    "scaler.fit(Xtr_num)\n",
    "Xtr_numSc = scaler.fit_transform(Xtr_num)\n",
    "\n",
    "# transforming test data based on the fit from training data\n",
    "Xte_num = Xte[feat_num]\n",
    "Xte_numSc = scaler.transform(Xte_num)"
   ]
  },
  {
   "cell_type": "code",
   "execution_count": 23,
   "id": "93c2f84a",
   "metadata": {},
   "outputs": [],
   "source": [
    "# construct the new training data with scaled features\n",
    "Xtr_cat = np.array(Xtr[feat_cat])\n",
    "Xtr = np.concatenate([Xtr_numSc, Xtr_cat], axis = 1)\n",
    "Xtr = pd.DataFrame(Xtr)\n",
    "Xtr.columns = [feat_num + feat_cat]\n",
    "\n",
    "# construct the new test data with the scaled features\n",
    "Xte_cat = np.array(Xte[feat_cat])\n",
    "Xte = np.concatenate([Xte_numSc, Xte_cat], axis = 1)\n",
    "Xte = pd.DataFrame(Xte)\n",
    "Xte.columns = [feat_num + feat_cat]"
   ]
  },
  {
   "cell_type": "markdown",
   "id": "777eac74",
   "metadata": {},
   "source": [
    "## Feature Selection - Numerical Features  (Principal Component Analysis)"
   ]
  },
  {
   "cell_type": "code",
   "execution_count": 24,
   "id": "e8e015a2",
   "metadata": {},
   "outputs": [
    {
     "data": {
      "image/png": "[encoded data removed]",
      "text/plain": [
       "<Figure size 864x432 with 1 Axes>"
      ]
     },
     "metadata": {
      "needs_background": "light"
     },
     "output_type": "display_data"
    }
   ],
   "source": [
    "pca = PCA().fit(Xtr_numSc)\n",
    "\n",
    "plt.rcParams[\"figure.figsize\"] = (12,6)\n",
    "\n",
    "fig, ax = plt.subplots()\n",
    "xi = np.arange(1, 8, step=1)\n",
    "Var = np.cumsum(pca.explained_variance_ratio_)\n",
    "\n",
    "plt.ylim(0.0,1.1)\n",
    "plt.plot(xi, Var, marker='o', linestyle='--', color='b')\n",
    "\n",
    "plt.xlabel('Number of Components')\n",
    "plt.xticks(np.arange(0, 11, step=1)) #change from 0-based array index to 1-based human-readable label\n",
    "plt.ylabel('Cumulative variance (%)')\n",
    "plt.title('The number of components needed to explain variance')\n",
    "\n",
    "plt.axhline(y=0.8, color='r', linestyle='-')\n",
    "plt.text(0.5, 0.85, '80% cut-off threshold', color = 'red', fontsize=16)\n",
    "\n",
    "ax.grid(axis='x')\n",
    "plt.show()"
   ]
  },
  {
   "cell_type": "code",
   "execution_count": 25,
   "id": "44fa0412",
   "metadata": {},
   "outputs": [],
   "source": [
    "# compoonents that explain 90% of the variances \n",
    "pca = PCA(n_components=5)\n",
    "\n",
    "# fit PCA on the training data\n",
    "XtrPCA_num = pca.fit_transform(Xtr_numSc)\n",
    "XtrPCA_num = pd.DataFrame(XtrPCA_num)\n",
    "XtrPCA_num.columns = ['PC1', 'PC2', 'PC3', 'PC4', 'PC5']\n",
    "# XtrPCA_num\n",
    "\n",
    "# transform test data based on the PCA fit from training\n",
    "XtePCA_num = pca.transform(Xte_numSc)\n",
    "XtePCA_num = pd.DataFrame(XtePCA_num)\n",
    "XtePCA_num.columns = ['PC1', 'PC2', 'PC3', 'PC4', 'PC5']\n",
    "# XtePCA_num"
   ]
  },
  {
   "cell_type": "markdown",
   "id": "b5b7c32f",
   "metadata": {},
   "source": [
    "## Feature Selection - Categorical Features "
   ]
  },
  {
   "cell_type": "markdown",
   "id": "474dac14",
   "metadata": {},
   "source": [
    "### Step 1: Investigate the value count for each medication\n",
    "If we realize that hardly anyone was prescribed that medication, it is perhaps a good idea to not consider it in our analysis <br>\n",
    "\n",
    "We run the risk of excluding patients that were specifically chosen for rare medications which hardly prescribed (and hence eliminated from our feature set). "
   ]
  },
  {
   "cell_type": "code",
   "execution_count": 26,
   "id": "6683c86a",
   "metadata": {},
   "outputs": [],
   "source": [
    "threshold = 70000\n",
    "\n",
    "med_count = defaultdict(list)\n",
    "\n",
    "for med in medications:\n",
    "    # count the number of Nos, Ups, Downs, and Steadys for each medication\n",
    "    med_count[med].append(list(diabetes[med].value_counts()))\n",
    "    \n",
    "    # if the number of Nos is > 100K, disregard the medication for now \n",
    "    if med_count[med][0][0] > threshold:\n",
    "        med_count.pop(med)\n",
    "med_count\n",
    "meds_new = list(med_count)\n",
    "# meds_new"
   ]
  },
  {
   "cell_type": "markdown",
   "id": "64f61066",
   "metadata": {},
   "source": [
    "### Step 2: Chi Square"
   ]
  },
  {
   "cell_type": "markdown",
   "id": "f8af04a4",
   "metadata": {},
   "source": [
    "Lets first try to find any relations between the medication features <br>"
   ]
  },
  {
   "cell_type": "markdown",
   "id": "f531a642",
   "metadata": {},
   "source": [
    "#### Approach 1: Cross Tabulation\n",
    "$D$ = Number of Medication features <br>\n",
    "Null Hypothesis ($H_O$): Features are independent - there is no relationship between features $x^i$ and $x^j$ where $i, j$ $\\in$ $(1,...,D)$ <br>\n",
    "Alternate Hypothesis ($H_1$): Features are independent - there is a relationship between features <br>\n",
    "Let's consider p-value for $H_O$ = .05 $\\Rightarrow$ if p-value for a relation is < .05, then we fail to reject $H_O$ <br>\n",
    "\n",
    "As we can see, none of our p-values are greater than the significance level, so we fail to reject the null hypothesis for any of them. Thus, we continue to consider all the medication features to be independent from each other. "
   ]
  },
  {
   "cell_type": "code",
   "execution_count": 27,
   "id": "18988770",
   "metadata": {},
   "outputs": [],
   "source": [
    "chi_p = [[0]*7 for _ in range(7)]\n",
    "for med1 in meds_new:\n",
    "    for med2 in meds_new:\n",
    "        chi_p[meds_new.index(med1)][meds_new.index(med2)] = chi2_contingency(pd.crosstab(diabetes[med1], diabetes[med2]))[1]\n",
    "chi_p = np.array(chi_p)   \n",
    "# chi_p       "
   ]
  },
  {
   "cell_type": "markdown",
   "id": "21d7bc47",
   "metadata": {},
   "source": [
    "### Final set of categorical features"
   ]
  },
  {
   "cell_type": "code",
   "execution_count": 28,
   "id": "b4f113c2",
   "metadata": {},
   "outputs": [],
   "source": [
    "# disposition id replaced by the booleans\n",
    "feat_catN = ['gender', 'age', 'weight', 'admission_type_id', 'admission_source_id', 'disposition_boolean',\n",
    "           'time_in_hospital'] + diag_feat + meds_new + ['change', 'diabetesMed']"
   ]
  },
  {
   "cell_type": "code",
   "execution_count": 29,
   "id": "1a4cdc93",
   "metadata": {},
   "outputs": [],
   "source": [
    "Xtr_cat = Xtr[feat_catN]\n",
    "Xte_cat = Xte[feat_catN]"
   ]
  },
  {
   "cell_type": "markdown",
   "id": "48941fad",
   "metadata": {},
   "source": [
    "## Final Train and Test Data with Selected Catagorical Features and PCAs "
   ]
  },
  {
   "cell_type": "code",
   "execution_count": 30,
   "id": "3266444a",
   "metadata": {},
   "outputs": [],
   "source": [
    "features = list(XtrPCA_num.columns) + feat_catN\n",
    "\n",
    "# final training data \n",
    "Xtr = np.concatenate([np.array(XtrPCA_num), np.array(Xtr_cat)], axis = 1)\n",
    "Xtr = pd.DataFrame(Xtr)\n",
    "Xtr.columns = features\n",
    "# Xtr\n",
    "\n",
    "# final test data\n",
    "Xte = np.concatenate([np.array(XtePCA_num), np.array(Xte_cat)], axis = 1)\n",
    "Xte = pd.DataFrame(Xte)\n",
    "Xte.columns = features\n",
    "# Xte"
   ]
  },
  {
   "cell_type": "markdown",
   "id": "3a907f61",
   "metadata": {},
   "source": [
    "## One Hot Encode the Final Set of Categorical Features (If needed)"
   ]
  },
  {
   "cell_type": "code",
   "execution_count": 31,
   "id": "25326d9e",
   "metadata": {},
   "outputs": [],
   "source": [
    "# Features to One Hot Encode\n",
    "feat_OHE = ['gender', 'weight', 'admission_type_id', 'admission_source_id', 'disposition_boolean'] + \\\n",
    "            diag_feat + meds_new + ['change', 'diabetesMed']\n",
    "Xtr_OHE = Xtr[feat_OHE]\n",
    "\n",
    "\n",
    "# fit OHE on to the training data\n",
    "OHE = OneHotEncoder(categories='auto')\n",
    "Xtr_OHE = OHE.fit_transform(Xtr_OHE).toarray()\n",
    "Xtr_OHE = pd.DataFrame(Xtr_OHE)\n",
    "\n",
    "# transform OHE fit into test data\n",
    "Xte_OHE = Xte[feat_OHE]\n",
    "Xte_OHE = OHE.transform(Xte_OHE).toarray()\n",
    "Xte_OHE = pd.DataFrame(Xte_OHE)"
   ]
  },
  {
   "cell_type": "code",
   "execution_count": 32,
   "id": "fdd964d2",
   "metadata": {},
   "outputs": [],
   "source": [
    "# extract column names for OHE categories\n",
    "OHE_cols = []\n",
    "OHE_cols_ = OHE.categories_\n",
    "for col, vals in zip(Xtr_OHE.columns, OHE_cols_):\n",
    "    for val in vals:\n",
    "        name = str(col) + '_' + str(val)\n",
    "        OHE_cols.append(name)\n",
    "\n",
    "Xtr_OHE.columns = OHE_cols\n",
    "Xte_OHE.columns = OHE_cols"
   ]
  },
  {
   "cell_type": "code",
   "execution_count": 33,
   "id": "4ee3e6e6",
   "metadata": {},
   "outputs": [],
   "source": [
    "Xtr = pd.concat([XtrPCA_num, Xtr_OHE], axis = 1)\n",
    "Xte = pd.concat([XtePCA_num, Xte_OHE], axis = 1)"
   ]
  },
  {
   "cell_type": "code",
   "execution_count": 34,
   "id": "153149df",
   "metadata": {},
   "outputs": [
    {
     "data": {
      "text/plain": [
       "(50060, 76)"
      ]
     },
     "execution_count": 34,
     "metadata": {},
     "output_type": "execute_result"
    }
   ],
   "source": [
    "Xtr.shape"
   ]
  },
  {
   "cell_type": "code",
   "execution_count": 35,
   "id": "8aab30f9",
   "metadata": {},
   "outputs": [
    {
     "data": {
      "text/plain": [
       "(21455, 76)"
      ]
     },
     "execution_count": 35,
     "metadata": {},
     "output_type": "execute_result"
    }
   ],
   "source": [
    "Xte.shape"
   ]
  },
  {
   "cell_type": "markdown",
   "id": "34d88ced",
   "metadata": {},
   "source": [
    "# Train Models "
   ]
  },
  {
   "cell_type": "code",
   "execution_count": 36,
   "id": "f310511a",
   "metadata": {},
   "outputs": [],
   "source": [
    "from imblearn.over_sampling import SMOTE\n",
    "from imblearn.over_sampling import RandomOverSampler\n",
    "\n",
    "xTrain, xTest, yTrain, yTest = Xtr.copy(), Xte.copy(), Ytr.copy(), Yte.copy() \n",
    "yTrain = Ytr.reset_index(drop = True)\n",
    "yTest = Yte.reset_index(drop = True)\n",
    "xTrain = xTrain[yTrain!=\"NO\"].reset_index(drop = True)\n",
    "yTrain = yTrain[yTrain!=\"NO\"].reset_index(drop = True)\n",
    "xTest = xTest[yTest!=\"NO\"].reset_index(drop = True)\n",
    "yTest = yTest[yTest!=\"NO\"].reset_index(drop = True)\n",
    "xTrainOriginal, yTrainOriginal = xTrain.copy(), yTrain.copy()\n",
    "\n",
    "smote = SMOTE(random_state=0)\n",
    "xTrain, yTrain = smote.fit_resample(xTrain, yTrain)"
   ]
  },
  {
   "cell_type": "code",
   "execution_count": 37,
   "id": "9298c4c2",
   "metadata": {},
   "outputs": [
    {
     "data": {
      "text/html": [
       "<div>\n",
       "<style scoped>\n",
       "    .dataframe tbody tr th:only-of-type {\n",
       "        vertical-align: middle;\n",
       "    }\n",
       "\n",
       "    .dataframe tbody tr th {\n",
       "        vertical-align: top;\n",
       "    }\n",
       "\n",
       "    .dataframe thead th {\n",
       "        text-align: right;\n",
       "    }\n",
       "</style>\n",
       "<table border=\"1\" class=\"dataframe\">\n",
       "  <thead>\n",
       "    <tr style=\"text-align: right;\">\n",
       "      <th></th>\n",
       "      <th>PC1</th>\n",
       "      <th>PC2</th>\n",
       "      <th>PC3</th>\n",
       "      <th>PC4</th>\n",
       "      <th>PC5</th>\n",
       "      <th>0_Female</th>\n",
       "      <th>0_Male</th>\n",
       "      <th>1_&gt;200</th>\n",
       "      <th>1_[0-25)</th>\n",
       "      <th>1_[100-125)</th>\n",
       "      <th>...</th>\n",
       "      <th>13_Steady</th>\n",
       "      <th>13_Up</th>\n",
       "      <th>14_Down</th>\n",
       "      <th>14_No</th>\n",
       "      <th>14_Steady</th>\n",
       "      <th>14_Up</th>\n",
       "      <th>15_Ch</th>\n",
       "      <th>15_No</th>\n",
       "      <th>16_No</th>\n",
       "      <th>16_Yes</th>\n",
       "    </tr>\n",
       "  </thead>\n",
       "  <tbody>\n",
       "    <tr>\n",
       "      <th>0</th>\n",
       "      <td>-1.001114</td>\n",
       "      <td>-0.178816</td>\n",
       "      <td>1.419157</td>\n",
       "      <td>-0.241848</td>\n",
       "      <td>1.679107</td>\n",
       "      <td>1.0</td>\n",
       "      <td>0.0</td>\n",
       "      <td>0.0</td>\n",
       "      <td>0.0</td>\n",
       "      <td>0.0</td>\n",
       "      <td>...</td>\n",
       "      <td>0.0</td>\n",
       "      <td>0.0</td>\n",
       "      <td>0.0</td>\n",
       "      <td>0.0</td>\n",
       "      <td>1.0</td>\n",
       "      <td>0.0</td>\n",
       "      <td>0.0</td>\n",
       "      <td>1.0</td>\n",
       "      <td>0.0</td>\n",
       "      <td>1.0</td>\n",
       "    </tr>\n",
       "    <tr>\n",
       "      <th>1</th>\n",
       "      <td>-1.154761</td>\n",
       "      <td>1.002315</td>\n",
       "      <td>-0.154103</td>\n",
       "      <td>0.280256</td>\n",
       "      <td>-0.202405</td>\n",
       "      <td>0.0</td>\n",
       "      <td>1.0</td>\n",
       "      <td>0.0</td>\n",
       "      <td>0.0</td>\n",
       "      <td>0.0</td>\n",
       "      <td>...</td>\n",
       "      <td>0.0</td>\n",
       "      <td>0.0</td>\n",
       "      <td>0.0</td>\n",
       "      <td>0.0</td>\n",
       "      <td>1.0</td>\n",
       "      <td>0.0</td>\n",
       "      <td>0.0</td>\n",
       "      <td>1.0</td>\n",
       "      <td>0.0</td>\n",
       "      <td>1.0</td>\n",
       "    </tr>\n",
       "    <tr>\n",
       "      <th>2</th>\n",
       "      <td>-1.283819</td>\n",
       "      <td>0.090347</td>\n",
       "      <td>-1.014163</td>\n",
       "      <td>0.374683</td>\n",
       "      <td>1.585651</td>\n",
       "      <td>1.0</td>\n",
       "      <td>0.0</td>\n",
       "      <td>0.0</td>\n",
       "      <td>0.0</td>\n",
       "      <td>0.0</td>\n",
       "      <td>...</td>\n",
       "      <td>0.0</td>\n",
       "      <td>0.0</td>\n",
       "      <td>0.0</td>\n",
       "      <td>0.0</td>\n",
       "      <td>1.0</td>\n",
       "      <td>0.0</td>\n",
       "      <td>0.0</td>\n",
       "      <td>1.0</td>\n",
       "      <td>0.0</td>\n",
       "      <td>1.0</td>\n",
       "    </tr>\n",
       "    <tr>\n",
       "      <th>3</th>\n",
       "      <td>0.881744</td>\n",
       "      <td>-0.920512</td>\n",
       "      <td>0.293280</td>\n",
       "      <td>0.206973</td>\n",
       "      <td>-0.152122</td>\n",
       "      <td>1.0</td>\n",
       "      <td>0.0</td>\n",
       "      <td>0.0</td>\n",
       "      <td>0.0</td>\n",
       "      <td>0.0</td>\n",
       "      <td>...</td>\n",
       "      <td>1.0</td>\n",
       "      <td>0.0</td>\n",
       "      <td>0.0</td>\n",
       "      <td>0.0</td>\n",
       "      <td>0.0</td>\n",
       "      <td>1.0</td>\n",
       "      <td>1.0</td>\n",
       "      <td>0.0</td>\n",
       "      <td>0.0</td>\n",
       "      <td>1.0</td>\n",
       "    </tr>\n",
       "    <tr>\n",
       "      <th>4</th>\n",
       "      <td>0.905045</td>\n",
       "      <td>2.074435</td>\n",
       "      <td>-0.009024</td>\n",
       "      <td>2.439239</td>\n",
       "      <td>1.021444</td>\n",
       "      <td>1.0</td>\n",
       "      <td>0.0</td>\n",
       "      <td>0.0</td>\n",
       "      <td>0.0</td>\n",
       "      <td>0.0</td>\n",
       "      <td>...</td>\n",
       "      <td>0.0</td>\n",
       "      <td>0.0</td>\n",
       "      <td>0.0</td>\n",
       "      <td>1.0</td>\n",
       "      <td>0.0</td>\n",
       "      <td>0.0</td>\n",
       "      <td>0.0</td>\n",
       "      <td>1.0</td>\n",
       "      <td>1.0</td>\n",
       "      <td>0.0</td>\n",
       "    </tr>\n",
       "  </tbody>\n",
       "</table>\n",
       "<p>5 rows × 76 columns</p>\n",
       "</div>"
      ],
      "text/plain": [
       "        PC1       PC2       PC3       PC4       PC5  0_Female  0_Male  1_>200  \\\n",
       "0 -1.001114 -0.178816  1.419157 -0.241848  1.679107       1.0     0.0     0.0   \n",
       "1 -1.154761  1.002315 -0.154103  0.280256 -0.202405       0.0     1.0     0.0   \n",
       "2 -1.283819  0.090347 -1.014163  0.374683  1.585651       1.0     0.0     0.0   \n",
       "3  0.881744 -0.920512  0.293280  0.206973 -0.152122       1.0     0.0     0.0   \n",
       "4  0.905045  2.074435 -0.009024  2.439239  1.021444       1.0     0.0     0.0   \n",
       "\n",
       "   1_[0-25)  1_[100-125)  ...  13_Steady  13_Up  14_Down  14_No  14_Steady  \\\n",
       "0       0.0          0.0  ...        0.0    0.0      0.0    0.0        1.0   \n",
       "1       0.0          0.0  ...        0.0    0.0      0.0    0.0        1.0   \n",
       "2       0.0          0.0  ...        0.0    0.0      0.0    0.0        1.0   \n",
       "3       0.0          0.0  ...        1.0    0.0      0.0    0.0        0.0   \n",
       "4       0.0          0.0  ...        0.0    0.0      0.0    1.0        0.0   \n",
       "\n",
       "   14_Up  15_Ch  15_No  16_No  16_Yes  \n",
       "0    0.0    0.0    1.0    0.0     1.0  \n",
       "1    0.0    0.0    1.0    0.0     1.0  \n",
       "2    0.0    0.0    1.0    0.0     1.0  \n",
       "3    1.0    1.0    0.0    0.0     1.0  \n",
       "4    0.0    0.0    1.0    1.0     0.0  \n",
       "\n",
       "[5 rows x 76 columns]"
      ]
     },
     "execution_count": 37,
     "metadata": {},
     "output_type": "execute_result"
    }
   ],
   "source": [
    "xTrain.head()"
   ]
  },
  {
   "cell_type": "code",
   "execution_count": 38,
   "id": "9c4f688c",
   "metadata": {},
   "outputs": [
    {
     "data": {
      "text/plain": [
       ">30    9753\n",
       "<30    2238\n",
       "Name: readmitted, dtype: int64"
      ]
     },
     "execution_count": 38,
     "metadata": {},
     "output_type": "execute_result"
    }
   ],
   "source": [
    "yTrainOriginal.value_counts()"
   ]
  },
  {
   "cell_type": "code",
   "execution_count": 39,
   "id": "8c6bf47d",
   "metadata": {},
   "outputs": [
    {
     "data": {
      "text/plain": [
       "(19506, 76)"
      ]
     },
     "execution_count": 39,
     "metadata": {},
     "output_type": "execute_result"
    }
   ],
   "source": [
    "xTrain.shape"
   ]
  },
  {
   "cell_type": "code",
   "execution_count": 40,
   "id": "f22388ba",
   "metadata": {},
   "outputs": [
    {
     "data": {
      "text/plain": [
       "(5153, 76)"
      ]
     },
     "execution_count": 40,
     "metadata": {},
     "output_type": "execute_result"
    }
   ],
   "source": [
    "xTest.shape"
   ]
  },
  {
   "cell_type": "code",
   "execution_count": 41,
   "id": "06171497",
   "metadata": {},
   "outputs": [],
   "source": [
    "from sklearn.cluster import KMeans\n",
    "from sklearn.cluster import AgglomerativeClustering"
   ]
  },
  {
   "cell_type": "code",
   "execution_count": 42,
   "id": "d89b3456",
   "metadata": {},
   "outputs": [
    {
     "data": {
      "text/html": [
       "<div>\n",
       "<style scoped>\n",
       "    .dataframe tbody tr th:only-of-type {\n",
       "        vertical-align: middle;\n",
       "    }\n",
       "\n",
       "    .dataframe tbody tr th {\n",
       "        vertical-align: top;\n",
       "    }\n",
       "\n",
       "    .dataframe thead th {\n",
       "        text-align: right;\n",
       "    }\n",
       "</style>\n",
       "<table border=\"1\" class=\"dataframe\">\n",
       "  <thead>\n",
       "    <tr style=\"text-align: right;\">\n",
       "      <th></th>\n",
       "      <th>PC1</th>\n",
       "      <th>PC2</th>\n",
       "      <th>PC3</th>\n",
       "      <th>PC4</th>\n",
       "      <th>PC5</th>\n",
       "      <th>0_Female</th>\n",
       "      <th>0_Male</th>\n",
       "      <th>1_&gt;200</th>\n",
       "      <th>1_[0-25)</th>\n",
       "      <th>1_[100-125)</th>\n",
       "      <th>...</th>\n",
       "      <th>13_Steady</th>\n",
       "      <th>13_Up</th>\n",
       "      <th>14_Down</th>\n",
       "      <th>14_No</th>\n",
       "      <th>14_Steady</th>\n",
       "      <th>14_Up</th>\n",
       "      <th>15_Ch</th>\n",
       "      <th>15_No</th>\n",
       "      <th>16_No</th>\n",
       "      <th>16_Yes</th>\n",
       "    </tr>\n",
       "  </thead>\n",
       "  <tbody>\n",
       "    <tr>\n",
       "      <th>0</th>\n",
       "      <td>-1.001114</td>\n",
       "      <td>-0.178816</td>\n",
       "      <td>1.419157</td>\n",
       "      <td>-0.241848</td>\n",
       "      <td>1.679107</td>\n",
       "      <td>1.000000</td>\n",
       "      <td>0.000000</td>\n",
       "      <td>0.0</td>\n",
       "      <td>0.0</td>\n",
       "      <td>0.0</td>\n",
       "      <td>...</td>\n",
       "      <td>0.0</td>\n",
       "      <td>0.0</td>\n",
       "      <td>0.0</td>\n",
       "      <td>0.0</td>\n",
       "      <td>1.0</td>\n",
       "      <td>0.0</td>\n",
       "      <td>0.000000</td>\n",
       "      <td>1.000000</td>\n",
       "      <td>0.0</td>\n",
       "      <td>1.0</td>\n",
       "    </tr>\n",
       "    <tr>\n",
       "      <th>1</th>\n",
       "      <td>-1.154761</td>\n",
       "      <td>1.002315</td>\n",
       "      <td>-0.154103</td>\n",
       "      <td>0.280256</td>\n",
       "      <td>-0.202405</td>\n",
       "      <td>0.000000</td>\n",
       "      <td>1.000000</td>\n",
       "      <td>0.0</td>\n",
       "      <td>0.0</td>\n",
       "      <td>0.0</td>\n",
       "      <td>...</td>\n",
       "      <td>0.0</td>\n",
       "      <td>0.0</td>\n",
       "      <td>0.0</td>\n",
       "      <td>0.0</td>\n",
       "      <td>1.0</td>\n",
       "      <td>0.0</td>\n",
       "      <td>0.000000</td>\n",
       "      <td>1.000000</td>\n",
       "      <td>0.0</td>\n",
       "      <td>1.0</td>\n",
       "    </tr>\n",
       "    <tr>\n",
       "      <th>2</th>\n",
       "      <td>-1.283819</td>\n",
       "      <td>0.090347</td>\n",
       "      <td>-1.014163</td>\n",
       "      <td>0.374683</td>\n",
       "      <td>1.585651</td>\n",
       "      <td>1.000000</td>\n",
       "      <td>0.000000</td>\n",
       "      <td>0.0</td>\n",
       "      <td>0.0</td>\n",
       "      <td>0.0</td>\n",
       "      <td>...</td>\n",
       "      <td>0.0</td>\n",
       "      <td>0.0</td>\n",
       "      <td>0.0</td>\n",
       "      <td>0.0</td>\n",
       "      <td>1.0</td>\n",
       "      <td>0.0</td>\n",
       "      <td>0.000000</td>\n",
       "      <td>1.000000</td>\n",
       "      <td>0.0</td>\n",
       "      <td>1.0</td>\n",
       "    </tr>\n",
       "    <tr>\n",
       "      <th>3</th>\n",
       "      <td>0.881744</td>\n",
       "      <td>-0.920512</td>\n",
       "      <td>0.293280</td>\n",
       "      <td>0.206973</td>\n",
       "      <td>-0.152122</td>\n",
       "      <td>1.000000</td>\n",
       "      <td>0.000000</td>\n",
       "      <td>0.0</td>\n",
       "      <td>0.0</td>\n",
       "      <td>0.0</td>\n",
       "      <td>...</td>\n",
       "      <td>1.0</td>\n",
       "      <td>0.0</td>\n",
       "      <td>0.0</td>\n",
       "      <td>0.0</td>\n",
       "      <td>0.0</td>\n",
       "      <td>1.0</td>\n",
       "      <td>1.000000</td>\n",
       "      <td>0.000000</td>\n",
       "      <td>0.0</td>\n",
       "      <td>1.0</td>\n",
       "    </tr>\n",
       "    <tr>\n",
       "      <th>4</th>\n",
       "      <td>0.905045</td>\n",
       "      <td>2.074435</td>\n",
       "      <td>-0.009024</td>\n",
       "      <td>2.439239</td>\n",
       "      <td>1.021444</td>\n",
       "      <td>1.000000</td>\n",
       "      <td>0.000000</td>\n",
       "      <td>0.0</td>\n",
       "      <td>0.0</td>\n",
       "      <td>0.0</td>\n",
       "      <td>...</td>\n",
       "      <td>0.0</td>\n",
       "      <td>0.0</td>\n",
       "      <td>0.0</td>\n",
       "      <td>1.0</td>\n",
       "      <td>0.0</td>\n",
       "      <td>0.0</td>\n",
       "      <td>0.000000</td>\n",
       "      <td>1.000000</td>\n",
       "      <td>1.0</td>\n",
       "      <td>0.0</td>\n",
       "    </tr>\n",
       "    <tr>\n",
       "      <th>...</th>\n",
       "      <td>...</td>\n",
       "      <td>...</td>\n",
       "      <td>...</td>\n",
       "      <td>...</td>\n",
       "      <td>...</td>\n",
       "      <td>...</td>\n",
       "      <td>...</td>\n",
       "      <td>...</td>\n",
       "      <td>...</td>\n",
       "      <td>...</td>\n",
       "      <td>...</td>\n",
       "      <td>...</td>\n",
       "      <td>...</td>\n",
       "      <td>...</td>\n",
       "      <td>...</td>\n",
       "      <td>...</td>\n",
       "      <td>...</td>\n",
       "      <td>...</td>\n",
       "      <td>...</td>\n",
       "      <td>...</td>\n",
       "      <td>...</td>\n",
       "    </tr>\n",
       "    <tr>\n",
       "      <th>19501</th>\n",
       "      <td>1.730299</td>\n",
       "      <td>3.169834</td>\n",
       "      <td>-1.930625</td>\n",
       "      <td>1.115850</td>\n",
       "      <td>-1.359099</td>\n",
       "      <td>0.000000</td>\n",
       "      <td>1.000000</td>\n",
       "      <td>0.0</td>\n",
       "      <td>0.0</td>\n",
       "      <td>0.0</td>\n",
       "      <td>...</td>\n",
       "      <td>0.0</td>\n",
       "      <td>0.0</td>\n",
       "      <td>0.0</td>\n",
       "      <td>0.0</td>\n",
       "      <td>1.0</td>\n",
       "      <td>0.0</td>\n",
       "      <td>0.821762</td>\n",
       "      <td>0.178238</td>\n",
       "      <td>0.0</td>\n",
       "      <td>1.0</td>\n",
       "    </tr>\n",
       "    <tr>\n",
       "      <th>19502</th>\n",
       "      <td>0.903193</td>\n",
       "      <td>0.671386</td>\n",
       "      <td>-0.720298</td>\n",
       "      <td>-0.437791</td>\n",
       "      <td>-0.636851</td>\n",
       "      <td>0.000000</td>\n",
       "      <td>1.000000</td>\n",
       "      <td>0.0</td>\n",
       "      <td>0.0</td>\n",
       "      <td>0.0</td>\n",
       "      <td>...</td>\n",
       "      <td>1.0</td>\n",
       "      <td>0.0</td>\n",
       "      <td>0.0</td>\n",
       "      <td>0.0</td>\n",
       "      <td>1.0</td>\n",
       "      <td>0.0</td>\n",
       "      <td>1.000000</td>\n",
       "      <td>0.000000</td>\n",
       "      <td>0.0</td>\n",
       "      <td>1.0</td>\n",
       "    </tr>\n",
       "    <tr>\n",
       "      <th>19503</th>\n",
       "      <td>0.731780</td>\n",
       "      <td>0.702163</td>\n",
       "      <td>0.612118</td>\n",
       "      <td>-1.020263</td>\n",
       "      <td>1.047060</td>\n",
       "      <td>1.000000</td>\n",
       "      <td>0.000000</td>\n",
       "      <td>0.0</td>\n",
       "      <td>0.0</td>\n",
       "      <td>0.0</td>\n",
       "      <td>...</td>\n",
       "      <td>0.0</td>\n",
       "      <td>0.0</td>\n",
       "      <td>0.0</td>\n",
       "      <td>1.0</td>\n",
       "      <td>0.0</td>\n",
       "      <td>0.0</td>\n",
       "      <td>0.000000</td>\n",
       "      <td>1.000000</td>\n",
       "      <td>0.0</td>\n",
       "      <td>1.0</td>\n",
       "    </tr>\n",
       "    <tr>\n",
       "      <th>19504</th>\n",
       "      <td>0.662405</td>\n",
       "      <td>-0.332158</td>\n",
       "      <td>0.273859</td>\n",
       "      <td>-0.615259</td>\n",
       "      <td>-0.194779</td>\n",
       "      <td>1.000000</td>\n",
       "      <td>0.000000</td>\n",
       "      <td>0.0</td>\n",
       "      <td>0.0</td>\n",
       "      <td>0.0</td>\n",
       "      <td>...</td>\n",
       "      <td>0.0</td>\n",
       "      <td>0.0</td>\n",
       "      <td>0.0</td>\n",
       "      <td>0.0</td>\n",
       "      <td>1.0</td>\n",
       "      <td>0.0</td>\n",
       "      <td>0.000000</td>\n",
       "      <td>1.000000</td>\n",
       "      <td>0.0</td>\n",
       "      <td>1.0</td>\n",
       "    </tr>\n",
       "    <tr>\n",
       "      <th>19505</th>\n",
       "      <td>-0.808600</td>\n",
       "      <td>0.063007</td>\n",
       "      <td>0.048685</td>\n",
       "      <td>-0.447250</td>\n",
       "      <td>-1.227601</td>\n",
       "      <td>0.654062</td>\n",
       "      <td>0.345938</td>\n",
       "      <td>0.0</td>\n",
       "      <td>0.0</td>\n",
       "      <td>0.0</td>\n",
       "      <td>...</td>\n",
       "      <td>0.0</td>\n",
       "      <td>0.0</td>\n",
       "      <td>0.0</td>\n",
       "      <td>0.0</td>\n",
       "      <td>1.0</td>\n",
       "      <td>0.0</td>\n",
       "      <td>1.000000</td>\n",
       "      <td>0.000000</td>\n",
       "      <td>0.0</td>\n",
       "      <td>1.0</td>\n",
       "    </tr>\n",
       "  </tbody>\n",
       "</table>\n",
       "<p>19506 rows × 76 columns</p>\n",
       "</div>"
      ],
      "text/plain": [
       "            PC1       PC2       PC3       PC4       PC5  0_Female    0_Male  \\\n",
       "0     -1.001114 -0.178816  1.419157 -0.241848  1.679107  1.000000  0.000000   \n",
       "1     -1.154761  1.002315 -0.154103  0.280256 -0.202405  0.000000  1.000000   \n",
       "2     -1.283819  0.090347 -1.014163  0.374683  1.585651  1.000000  0.000000   \n",
       "3      0.881744 -0.920512  0.293280  0.206973 -0.152122  1.000000  0.000000   \n",
       "4      0.905045  2.074435 -0.009024  2.439239  1.021444  1.000000  0.000000   \n",
       "...         ...       ...       ...       ...       ...       ...       ...   \n",
       "19501  1.730299  3.169834 -1.930625  1.115850 -1.359099  0.000000  1.000000   \n",
       "19502  0.903193  0.671386 -0.720298 -0.437791 -0.636851  0.000000  1.000000   \n",
       "19503  0.731780  0.702163  0.612118 -1.020263  1.047060  1.000000  0.000000   \n",
       "19504  0.662405 -0.332158  0.273859 -0.615259 -0.194779  1.000000  0.000000   \n",
       "19505 -0.808600  0.063007  0.048685 -0.447250 -1.227601  0.654062  0.345938   \n",
       "\n",
       "       1_>200  1_[0-25)  1_[100-125)  ...  13_Steady  13_Up  14_Down  14_No  \\\n",
       "0         0.0       0.0          0.0  ...        0.0    0.0      0.0    0.0   \n",
       "1         0.0       0.0          0.0  ...        0.0    0.0      0.0    0.0   \n",
       "2         0.0       0.0          0.0  ...        0.0    0.0      0.0    0.0   \n",
       "3         0.0       0.0          0.0  ...        1.0    0.0      0.0    0.0   \n",
       "4         0.0       0.0          0.0  ...        0.0    0.0      0.0    1.0   \n",
       "...       ...       ...          ...  ...        ...    ...      ...    ...   \n",
       "19501     0.0       0.0          0.0  ...        0.0    0.0      0.0    0.0   \n",
       "19502     0.0       0.0          0.0  ...        1.0    0.0      0.0    0.0   \n",
       "19503     0.0       0.0          0.0  ...        0.0    0.0      0.0    1.0   \n",
       "19504     0.0       0.0          0.0  ...        0.0    0.0      0.0    0.0   \n",
       "19505     0.0       0.0          0.0  ...        0.0    0.0      0.0    0.0   \n",
       "\n",
       "       14_Steady  14_Up     15_Ch     15_No  16_No  16_Yes  \n",
       "0            1.0    0.0  0.000000  1.000000    0.0     1.0  \n",
       "1            1.0    0.0  0.000000  1.000000    0.0     1.0  \n",
       "2            1.0    0.0  0.000000  1.000000    0.0     1.0  \n",
       "3            0.0    1.0  1.000000  0.000000    0.0     1.0  \n",
       "4            0.0    0.0  0.000000  1.000000    1.0     0.0  \n",
       "...          ...    ...       ...       ...    ...     ...  \n",
       "19501        1.0    0.0  0.821762  0.178238    0.0     1.0  \n",
       "19502        1.0    0.0  1.000000  0.000000    0.0     1.0  \n",
       "19503        0.0    0.0  0.000000  1.000000    0.0     1.0  \n",
       "19504        1.0    0.0  0.000000  1.000000    0.0     1.0  \n",
       "19505        1.0    0.0  1.000000  0.000000    0.0     1.0  \n",
       "\n",
       "[19506 rows x 76 columns]"
      ]
     },
     "execution_count": 42,
     "metadata": {},
     "output_type": "execute_result"
    }
   ],
   "source": [
    "xTrain"
   ]
  },
  {
   "cell_type": "code",
   "execution_count": 43,
   "id": "b7cbb944",
   "metadata": {},
   "outputs": [],
   "source": [
    "aggCluster = AgglomerativeClustering(n_clusters=2, linkage = \"complete\").fit(xTrainOriginal).labels_"
   ]
  },
  {
   "cell_type": "code",
   "execution_count": 44,
   "id": "5f96840e",
   "metadata": {},
   "outputs": [
    {
     "data": {
      "text/plain": [
       "0.8133600200150113"
      ]
     },
     "execution_count": 44,
     "metadata": {},
     "output_type": "execute_result"
    }
   ],
   "source": [
    "sum(yTrainOriginal == \">30\")/len(yTrainOriginal)"
   ]
  },
  {
   "cell_type": "code",
   "execution_count": 45,
   "id": "cc6ee705",
   "metadata": {},
   "outputs": [
    {
     "data": {
      "text/plain": [
       "0.9998332082395129"
      ]
     },
     "execution_count": 45,
     "metadata": {},
     "output_type": "execute_result"
    }
   ],
   "source": [
    "sum(pd.Series(aggCluster)==0)/len(aggCluster)"
   ]
  },
  {
   "cell_type": "code",
   "execution_count": 46,
   "id": "33d985c6",
   "metadata": {},
   "outputs": [],
   "source": [
    "from random import sample"
   ]
  },
  {
   "cell_type": "code",
   "execution_count": 47,
   "id": "17bd555a",
   "metadata": {},
   "outputs": [],
   "source": [
    "splits = []\n",
    "seeds = np.sqrt(sample(range(1000000),100)).astype(int)\n",
    "for i in seeds:\n",
    "    kCluster = KMeans(n_clusters=2, random_state=i).fit(xTrainOriginal).labels_\n",
    "    bigger = sum(pd.Series(kCluster)==0)\n",
    "    smaller = sum(pd.Series(kCluster)==1)\n",
    "    if bigger < smaller:\n",
    "        bigger = smaller\n",
    "    splits.append(bigger/len(kCluster))\n",
    "splits = np.array(splits)"
   ]
  },
  {
   "cell_type": "code",
   "execution_count": 48,
   "id": "0155d229",
   "metadata": {},
   "outputs": [
    {
     "data": {
      "text/plain": [
       "array([0.87740806, 0.87740806, 0.87740806, 0.87740806, 0.87740806,\n",
       "       0.87740806, 0.87740806, 0.87740806, 0.87740806, 0.87740806,\n",
       "       0.87740806, 0.87740806, 0.87740806, 0.87740806, 0.87740806,\n",
       "       0.87740806, 0.87740806, 0.87740806, 0.87740806, 0.87740806,\n",
       "       0.87740806, 0.87740806, 0.87740806, 0.87740806, 0.87740806,\n",
       "       0.87740806, 0.87740806, 0.87740806, 0.87740806, 0.87740806,\n",
       "       0.87740806, 0.87740806, 0.87740806, 0.87740806, 0.87740806,\n",
       "       0.87740806, 0.87740806, 0.87740806, 0.87740806, 0.87740806,\n",
       "       0.87740806, 0.87740806, 0.87740806, 0.87740806, 0.87740806,\n",
       "       0.87740806, 0.87740806, 0.87740806, 0.87740806, 0.87740806,\n",
       "       0.87740806, 0.87740806, 0.87740806, 0.87740806, 0.87740806,\n",
       "       0.87740806, 0.87740806, 0.87740806, 0.87740806, 0.87740806,\n",
       "       0.87740806, 0.87740806, 0.87740806, 0.87740806, 0.87740806,\n",
       "       0.87740806, 0.87740806, 0.87740806, 0.87740806, 0.87740806,\n",
       "       0.87740806, 0.87740806, 0.87740806, 0.87740806, 0.87740806,\n",
       "       0.87740806, 0.87740806, 0.87740806, 0.87740806, 0.87740806,\n",
       "       0.87740806, 0.87740806, 0.87740806, 0.87740806, 0.87740806,\n",
       "       0.87740806, 0.87740806, 0.87740806, 0.87740806, 0.87740806,\n",
       "       0.87740806, 0.87740806, 0.87740806, 0.87740806, 0.87740806,\n",
       "       0.87740806, 0.87740806, 0.87740806, 0.87740806, 0.87740806])"
      ]
     },
     "execution_count": 48,
     "metadata": {},
     "output_type": "execute_result"
    }
   ],
   "source": [
    "# splits"
   ]
  },
  {
   "cell_type": "code",
   "execution_count": 79,
   "id": "afc09592",
   "metadata": {},
   "outputs": [],
   "source": [
    "splits = []\n",
    "#seeds = np.sqrt(sample(range(1000000),100)).astype(int)\n",
    "for i in range(100):\n",
    "    kCluster = KMeans(n_clusters=2, random_state=i).fit(xTrainOriginal).labels_\n",
    "    bigger = sum(pd.Series(kCluster)==0)\n",
    "    smaller = sum(pd.Series(kCluster)==1)\n",
    "    if bigger < smaller:\n",
    "        bigger = smaller\n",
    "    splits.append(bigger/len(kCluster))\n",
    "splits = np.array(splits)"
   ]
  },
  {
   "cell_type": "code",
   "execution_count": 80,
   "id": "fb90b630",
   "metadata": {},
   "outputs": [],
   "source": [
    "kCluster = KMeans(n_clusters=2, random_state=100).fit(xTrainOriginal).labels_"
   ]
  },
  {
   "cell_type": "code",
   "execution_count": 81,
   "id": "fd51f223",
   "metadata": {},
   "outputs": [
    {
     "data": {
      "text/plain": [
       "0.8774080560420315"
      ]
     },
     "execution_count": 81,
     "metadata": {},
     "output_type": "execute_result"
    }
   ],
   "source": [
    "kSplit = sum(kCluster==0)/len(kCluster)\n",
    "kSplit"
   ]
  },
  {
   "cell_type": "code",
   "execution_count": 82,
   "id": "246ca3a9",
   "metadata": {},
   "outputs": [],
   "source": [
    "def showKmeans(x,y,z):\n",
    "    x = str(x)\n",
    "    y = str(y)\n",
    "    z = str(z)\n",
    "    fig = plt.figure()\n",
    "    ax = fig.add_subplot(projection='3d')\n",
    "    ax.scatter(xTrainOriginal[[\"PC\" + x]], xTrainOriginal[[\"PC\" + y]], xTrainOriginal[[\"PC\" + z]], c = kCluster)\n",
    "    plt.title(\"K-means with principal components \" + x + \", \"+ y + \", \" + z + \", \" + \" as axes\")\n",
    "    ax.set_xlabel('principal component ' + x)\n",
    "    ax.set_ylabel('principal component ' + y)\n",
    "    ax.set_zlabel('principal component ' + z)\n",
    "    #plt.savefig('kmeans.png')"
   ]
  },
  {
   "cell_type": "code",
   "execution_count": 440,
   "id": "728fb9cc",
   "metadata": {},
   "outputs": [
    {
     "data": {
      "image/png": "[encoded data removed]",
      "text/plain": [
       "<Figure size 864x432 with 1 Axes>"
      ]
     },
     "metadata": {
      "needs_background": "light"
     },
     "output_type": "display_data"
    }
   ],
   "source": [
    "showKmeans(1,2,3)"
   ]
  },
  {
   "cell_type": "code",
   "execution_count": 444,
   "id": "612f507b",
   "metadata": {},
   "outputs": [],
   "source": [
    "def showLabels(x,y,z):\n",
    "    x = str(x)\n",
    "    y = str(y)\n",
    "    z = str(z)\n",
    "    fig = plt.figure()\n",
    "    ax = fig.add_subplot(projection='3d')\n",
    "    ax.scatter(xTrainOriginal[[\"PC\" + x]], xTrainOriginal[[\"PC\" + y]], xTrainOriginal[[\"PC\" + z]], \\\n",
    "        c = (yTrainOriginal==\">30\").astype(int))\n",
    "    plt.title(\"Original labels with principal components \" + x + \", \"+ y + \", \" + z + \", \" + \" as axes\")\n",
    "    ax.set_xlabel('principal component ' + x)\n",
    "    ax.set_ylabel('principal component ' + y)\n",
    "    ax.set_zlabel('principal component ' + z)\n",
    "    #plt.savefig('origLabels.png')"
   ]
  },
  {
   "cell_type": "code",
   "execution_count": 445,
   "id": "a9136909",
   "metadata": {},
   "outputs": [
    {
     "data": {
      "image/png": "[encoded data removed]",
      "text/plain": [
       "<Figure size 864x432 with 1 Axes>"
      ]
     },
     "metadata": {
      "needs_background": "light"
     },
     "output_type": "display_data"
    }
   ],
   "source": [
    "showLabels(1,2,3)"
   ]
  },
  {
   "cell_type": "code",
   "execution_count": 86,
   "id": "b79732d9",
   "metadata": {},
   "outputs": [
    {
     "data": {
      "text/plain": [
       "Text(0.5, 1.0, 'k means')"
      ]
     },
     "execution_count": 86,
     "metadata": {},
     "output_type": "execute_result"
    },
    {
     "data": {
      "image/png": "[encoded data removed]",
      "text/plain": [
       "<Figure size 864x432 with 1 Axes>"
      ]
     },
     "metadata": {
      "needs_background": "light"
     },
     "output_type": "display_data"
    }
   ],
   "source": [
    "plt.scatter(xTrainOriginal[[\"PC4\"]], xTrainOriginal[[\"PC5\"]], c = kCluster)\n",
    "plt.title(\"k means\")"
   ]
  },
  {
   "cell_type": "code",
   "execution_count": 87,
   "id": "aa17fd1b",
   "metadata": {},
   "outputs": [
    {
     "data": {
      "text/plain": [
       "Text(0.5, 1.0, 'labeled data')"
      ]
     },
     "execution_count": 87,
     "metadata": {},
     "output_type": "execute_result"
    },
    {
     "data": {
      "image/png": "[encoded data removed]",
      "text/plain": [
       "<Figure size 864x432 with 1 Axes>"
      ]
     },
     "metadata": {
      "needs_background": "light"
     },
     "output_type": "display_data"
    }
   ],
   "source": [
    "plt.scatter(xTrainOriginal[[\"PC4\"]], xTrainOriginal[[\"PC5\"]], \\\n",
    "           c = (yTrainOriginal==\">30\").astype(int))\n",
    "plt.title(\"labeled data\")"
   ]
  },
  {
   "cell_type": "code",
   "execution_count": 88,
   "id": "0ea5b971",
   "metadata": {},
   "outputs": [
    {
     "data": {
      "text/plain": [
       "<matplotlib.collections.PathCollection at 0x28c1bfbb0>"
      ]
     },
     "execution_count": 88,
     "metadata": {},
     "output_type": "execute_result"
    },
    {
     "data": {
      "image/png": "[encoded data removed]",
      "text/plain": [
       "<Figure size 864x432 with 1 Axes>"
      ]
     },
     "metadata": {
      "needs_background": "light"
     },
     "output_type": "display_data"
    }
   ],
   "source": [
    "plt.scatter(xTrainOriginal[[\"PC1\"]], xTrainOriginal[[\"PC5\"]], c = (yTrainOriginal==\"<30\").astype(int))"
   ]
  },
  {
   "cell_type": "code",
   "execution_count": 89,
   "id": "603a457d",
   "metadata": {},
   "outputs": [
    {
     "data": {
      "text/plain": [
       "0.8774080560420315"
      ]
     },
     "execution_count": 89,
     "metadata": {},
     "output_type": "execute_result"
    }
   ],
   "source": [
    "kSplit"
   ]
  },
  {
   "cell_type": "code",
   "execution_count": 90,
   "id": "07afcbe2",
   "metadata": {},
   "outputs": [],
   "source": [
    "tSplit = sum(yTrain == \">30\")/len(yTrain)"
   ]
  },
  {
   "cell_type": "code",
   "execution_count": 91,
   "id": "2f19e8ef",
   "metadata": {},
   "outputs": [
    {
     "data": {
      "text/plain": [
       "0.5"
      ]
     },
     "execution_count": 91,
     "metadata": {},
     "output_type": "execute_result"
    }
   ],
   "source": [
    "tSplit"
   ]
  },
  {
   "cell_type": "code",
   "execution_count": 92,
   "id": "34d96fc3",
   "metadata": {},
   "outputs": [
    {
     "data": {
      "text/plain": [
       "Generator(PCG64) at 0x177EB7310"
      ]
     },
     "execution_count": 92,
     "metadata": {},
     "output_type": "execute_result"
    }
   ],
   "source": [
    "np.random.default_rng(3)"
   ]
  },
  {
   "cell_type": "code",
   "execution_count": 93,
   "id": "e2236735",
   "metadata": {},
   "outputs": [
    {
     "data": {
      "text/plain": [
       "array(['>30', '<30'], dtype=object)"
      ]
     },
     "execution_count": 93,
     "metadata": {},
     "output_type": "execute_result"
    }
   ],
   "source": [
    "yTrain.unique()"
   ]
  },
  {
   "cell_type": "code",
   "execution_count": 94,
   "id": "57d5f350",
   "metadata": {},
   "outputs": [],
   "source": [
    "from random import sample"
   ]
  },
  {
   "cell_type": "code",
   "execution_count": 95,
   "id": "16da4125",
   "metadata": {},
   "outputs": [
    {
     "data": {
      "text/plain": [
       "array([814, 706, 391, 754, 886, 705, 814, 862, 909, 915, 669, 663, 741,\n",
       "       967, 683, 705, 923, 598, 968, 495, 256, 780,  82, 816, 773, 817,\n",
       "       860, 872, 720, 675, 767,  88, 264, 367, 986, 127, 213, 696, 493,\n",
       "       857, 751, 982, 533, 560, 961, 437, 967, 602, 365, 621, 103, 987,\n",
       "       618, 594, 350, 632, 843, 921, 837, 240, 738, 416, 960, 758, 576,\n",
       "       307, 923, 652, 436, 624, 577, 792, 867, 646, 292, 695, 900, 592,\n",
       "       425, 340, 781, 837, 760, 324, 425, 843, 368, 333, 927, 736, 675,\n",
       "       841, 974, 825, 954, 336, 659, 936, 898, 755])"
      ]
     },
     "execution_count": 95,
     "metadata": {},
     "output_type": "execute_result"
    }
   ],
   "source": [
    "np.sqrt(sample(range(1000000),100)).astype(int)"
   ]
  },
  {
   "cell_type": "code",
   "execution_count": 302,
   "id": "ef1c4fb0",
   "metadata": {},
   "outputs": [],
   "source": [
    "from sklearn.model_selection import cross_val_score\n",
    "from sklearn import svm\n",
    "from sklearn.tree import DecisionTreeClassifier\n",
    "from sklearn.ensemble import RandomForestClassifier\n",
    "from sklearn.ensemble import GradientBoostingClassifier\n",
    "from sklearn.neighbors import KNeighborsClassifier\n",
    "from sklearn.ensemble import AdaBoostClassifier\n",
    "from sklearn import metrics"
   ]
  },
  {
   "cell_type": "code",
   "execution_count": 382,
   "id": "9b91a511",
   "metadata": {},
   "outputs": [],
   "source": [
    "#xSmote = xTrain\n",
    "#ySmote = yTrain\n",
    "#xTrain = xTrainOriginal\n",
    "#yTrain = yTrainOriginal\n",
    "xTrain = xSmote\n",
    "yTrain = ySmote"
   ]
  },
  {
   "cell_type": "code",
   "execution_count": 380,
   "id": "7ae293e6",
   "metadata": {},
   "outputs": [
    {
     "data": {
      "text/plain": [
       ">30    9753\n",
       "<30    9753\n",
       "Name: readmitted, dtype: int64"
      ]
     },
     "execution_count": 380,
     "metadata": {},
     "output_type": "execute_result"
    }
   ],
   "source": [
    "ySmote.value_counts()"
   ]
  },
  {
   "cell_type": "code",
   "execution_count": 383,
   "id": "70ea0b1d",
   "metadata": {
    "scrolled": true
   },
   "outputs": [
    {
     "data": {
      "text/plain": [
       ">30    9753\n",
       "<30    9753\n",
       "Name: readmitted, dtype: int64"
      ]
     },
     "execution_count": 383,
     "metadata": {},
     "output_type": "execute_result"
    }
   ],
   "source": [
    "yTrain.value_counts()"
   ]
  },
  {
   "cell_type": "code",
   "execution_count": 404,
   "id": "63121067",
   "metadata": {},
   "outputs": [],
   "source": [
    "indices = np.array(xTrain.index)\n",
    "indices = indices[1:len(indices)] # this is to enable even splits for 5 folds\n",
    "np.random.shuffle(indices)\n",
    "folds = np.split(indices, 47)\n",
    "def showaucs(alg):\n",
    "    aucs = []\n",
    "    foldNums = list(range(len(folds)))\n",
    "    for i in foldNums:\n",
    "        valIndices = folds[i]\n",
    "        xVal = xTrain.iloc[valIndices]\n",
    "        yVal = yTrain.iloc[valIndices]\n",
    "        trainIndices = np.array([folds[x] for x in nums if x!=i]).flatten()\n",
    "        xFit = xTrain.iloc[trainIndices]\n",
    "        yFit = yTrain.iloc[trainIndices]\n",
    "        model = alg.fit(xFit, yFit)\n",
    "        preds = model.predict(xVal)\n",
    "        fpr, tpr, thresholds = metrics.roc_curve(yVal==\"<30\", preds==\"<30\")\n",
    "        aucs.append(metrics.auc(fpr, tpr))\n",
    "    plt.hist(aucs)\n",
    "    plt.xlim(0,1)"
   ]
  },
  {
   "cell_type": "code",
   "execution_count": 125,
   "id": "ade0a44a",
   "metadata": {},
   "outputs": [],
   "source": [
    "svmLinear = svm.SVC(kernel='linear', random_state=100)\n",
    "\n",
    "svmRBF = svm.SVC(kernel='rbf', random_state=100)\n",
    "\n",
    "svmPoly = svm.SVC(kernel='poly', random_state=100)\n",
    "\n",
    "dTree = DecisionTreeClassifier(random_state=0)\n",
    "\n",
    "rForest = RandomForestClassifier(criterion = \"entropy\")\n",
    "\n",
    "gBoost = GradientBoostingClassifier()\n",
    "\n",
    "knn = KNeighborsClassifier(n_neighbors = 1)"
   ]
  },
  {
   "cell_type": "code",
   "execution_count": 361,
   "id": "8be5467f",
   "metadata": {},
   "outputs": [
    {
     "data": {
      "image/png": "[encoded data removed]",
      "text/plain": [
       "<Figure size 864x432 with 1 Axes>"
      ]
     },
     "metadata": {
      "needs_background": "light"
     },
     "output_type": "display_data"
    }
   ],
   "source": [
    "showaucs(svmLinear)"
   ]
  },
  {
   "cell_type": "code",
   "execution_count": 359,
   "id": "5294c435",
   "metadata": {},
   "outputs": [
    {
     "data": {
      "image/png": "[encoded data removed]",
      "text/plain": [
       "<Figure size 864x432 with 1 Axes>"
      ]
     },
     "metadata": {
      "needs_background": "light"
     },
     "output_type": "display_data"
    }
   ],
   "source": [
    "showaucs(svmPoly)"
   ]
  },
  {
   "cell_type": "code",
   "execution_count": 360,
   "id": "6f79d588",
   "metadata": {},
   "outputs": [
    {
     "data": {
      "image/png": "[encoded data removed]",
      "text/plain": [
       "<Figure size 864x432 with 1 Axes>"
      ]
     },
     "metadata": {
      "needs_background": "light"
     },
     "output_type": "display_data"
    }
   ],
   "source": [
    "showaucs(svmRBF)"
   ]
  },
  {
   "cell_type": "code",
   "execution_count": 388,
   "id": "7e68b1b7",
   "metadata": {},
   "outputs": [
    {
     "data": {
      "text/plain": [
       "<matplotlib.legend.Legend at 0x28f84bbe0>"
      ]
     },
     "execution_count": 388,
     "metadata": {},
     "output_type": "execute_result"
    },
    {
     "data": {
      "image/png": "[encoded data removed]",
      "text/plain": [
       "<Figure size 864x432 with 1 Axes>"
      ]
     },
     "metadata": {
      "needs_background": "light"
     },
     "output_type": "display_data"
    }
   ],
   "source": [
    "showaucs(KNeighborsClassifier(n_neighbors = 1))\n",
    "showaucs(KNeighborsClassifier(n_neighbors = 2))\n",
    "showaucs(KNeighborsClassifier(n_neighbors = 3))\n",
    "showaucs(KNeighborsClassifier(n_neighbors = 4))\n",
    "showaucs(KNeighborsClassifier(n_neighbors = 5))\n",
    "plt.title(\"KNN (k values)\")\n",
    "plt.legend([1,2,3,4,5])"
   ]
  },
  {
   "cell_type": "code",
   "execution_count": 390,
   "id": "87468a2a",
   "metadata": {},
   "outputs": [
    {
     "data": {
      "text/plain": [
       "<matplotlib.legend.Legend at 0x28eef9c10>"
      ]
     },
     "execution_count": 390,
     "metadata": {},
     "output_type": "execute_result"
    },
    {
     "data": {
      "image/png": "[encoded data removed]",
      "text/plain": [
       "<Figure size 864x432 with 1 Axes>"
      ]
     },
     "metadata": {
      "needs_background": "light"
     },
     "output_type": "display_data"
    }
   ],
   "source": [
    "showaucs(GradientBoostingClassifier(max_depth=3))\n",
    "showaucs(GradientBoostingClassifier(max_depth=2))\n",
    "showaucs(GradientBoostingClassifier(max_depth=1))\n",
    "plt.title(\"Gradient Boosting Classifier (max depth)\")\n",
    "plt.legend([3,2,1])"
   ]
  },
  {
   "cell_type": "code",
   "execution_count": 389,
   "id": "ca739bc7",
   "metadata": {},
   "outputs": [
    {
     "data": {
      "text/plain": [
       "<matplotlib.legend.Legend at 0x28f5f94f0>"
      ]
     },
     "execution_count": 389,
     "metadata": {},
     "output_type": "execute_result"
    },
    {
     "data": {
      "image/png": "[encoded data removed]",
      "text/plain": [
       "<Figure size 864x432 with 1 Axes>"
      ]
     },
     "metadata": {
      "needs_background": "light"
     },
     "output_type": "display_data"
    }
   ],
   "source": [
    "showaucs(GradientBoostingClassifier(min_samples_split=2))\n",
    "showaucs(GradientBoostingClassifier(min_samples_split=4))\n",
    "showaucs(GradientBoostingClassifier(min_samples_split=8))\n",
    "plt.title(\"Gradient Boosting Classifier (min samples split)\")\n",
    "plt.legend([2,4,8])"
   ]
  },
  {
   "cell_type": "code",
   "execution_count": 394,
   "id": "01895eec",
   "metadata": {},
   "outputs": [
    {
     "data": {
      "text/plain": [
       "<matplotlib.legend.Legend at 0x28ff57040>"
      ]
     },
     "execution_count": 394,
     "metadata": {},
     "output_type": "execute_result"
    },
    {
     "data": {
      "image/png": "[encoded data removed]",
      "text/plain": [
       "<Figure size 864x432 with 1 Axes>"
      ]
     },
     "metadata": {
      "needs_background": "light"
     },
     "output_type": "display_data"
    }
   ],
   "source": [
    "showaucs(GradientBoostingClassifier(min_samples_split=16))\n",
    "showaucs(GradientBoostingClassifier(min_samples_split=32))\n",
    "showaucs(GradientBoostingClassifier(min_samples_split=64))\n",
    "plt.title(\"Gradient Boosting Classifier (min samples split)\")\n",
    "plt.legend([16,32,64])"
   ]
  },
  {
   "cell_type": "code",
   "execution_count": 393,
   "id": "2a9e0b8e",
   "metadata": {},
   "outputs": [
    {
     "data": {
      "text/plain": [
       "<matplotlib.legend.Legend at 0x28f949d60>"
      ]
     },
     "execution_count": 393,
     "metadata": {},
     "output_type": "execute_result"
    },
    {
     "data": {
      "image/png": "[encoded data removed]",
      "text/plain": [
       "<Figure size 864x432 with 1 Axes>"
      ]
     },
     "metadata": {
      "needs_background": "light"
     },
     "output_type": "display_data"
    }
   ],
   "source": [
    "showaucs(GradientBoostingClassifier(min_samples_split=128))\n",
    "showaucs(GradientBoostingClassifier(min_samples_split=256))\n",
    "showaucs(GradientBoostingClassifier(min_samples_split=512))\n",
    "plt.title(\"Gradient Boosting Classifier (min samples split)\")\n",
    "plt.legend([128,256,512])"
   ]
  },
  {
   "cell_type": "code",
   "execution_count": 405,
   "id": "04d43579",
   "metadata": {},
   "outputs": [
    {
     "data": {
      "image/png": "[encoded data removed]",
      "text/plain": [
       "<Figure size 864x432 with 1 Axes>"
      ]
     },
     "metadata": {
      "needs_background": "light"
     },
     "output_type": "display_data"
    }
   ],
   "source": [
    "showaucs(GradientBoostingClassifier(min_samples_split=1000))"
   ]
  },
  {
   "cell_type": "code",
   "execution_count": 401,
   "id": "a9923a5a",
   "metadata": {},
   "outputs": [
    {
     "data": {
      "text/plain": [
       "<matplotlib.legend.Legend at 0x28feae490>"
      ]
     },
     "execution_count": 401,
     "metadata": {},
     "output_type": "execute_result"
    },
    {
     "data": {
      "image/png": "[encoded data removed]",
      "text/plain": [
       "<Figure size 864x432 with 1 Axes>"
      ]
     },
     "metadata": {
      "needs_background": "light"
     },
     "output_type": "display_data"
    }
   ],
   "source": [
    "showaucs(GradientBoostingClassifier(min_samples_leaf=1))\n",
    "showaucs(GradientBoostingClassifier(min_samples_leaf=2))\n",
    "showaucs(GradientBoostingClassifier(min_samples_leaf=4))\n",
    "showaucs(GradientBoostingClassifier(min_samples_leaf=8))\n",
    "plt.title(\"Gradient Boosting Classifier (min samples leaf)\")\n",
    "plt.legend([1,2,4,8])"
   ]
  },
  {
   "cell_type": "code",
   "execution_count": 402,
   "id": "3509c3ca",
   "metadata": {},
   "outputs": [
    {
     "data": {
      "image/png": "[encoded data removed]",
      "text/plain": [
       "<Figure size 864x432 with 1 Axes>"
      ]
     },
     "metadata": {
      "needs_background": "light"
     },
     "output_type": "display_data"
    }
   ],
   "source": [
    "showaucs(GradientBoostingClassifier(min_samples_leaf=16))"
   ]
  },
  {
   "cell_type": "code",
   "execution_count": 406,
   "id": "86a38631",
   "metadata": {},
   "outputs": [
    {
     "data": {
      "image/png": "[encoded data removed]",
      "text/plain": [
       "<Figure size 864x432 with 1 Axes>"
      ]
     },
     "metadata": {
      "needs_background": "light"
     },
     "output_type": "display_data"
    }
   ],
   "source": [
    "showaucs(GradientBoostingClassifier(min_samples_leaf=32))"
   ]
  },
  {
   "cell_type": "code",
   "execution_count": 407,
   "id": "f19a07e4",
   "metadata": {},
   "outputs": [
    {
     "data": {
      "image/png": "[encoded data removed]",
      "text/plain": [
       "<Figure size 864x432 with 1 Axes>"
      ]
     },
     "metadata": {
      "needs_background": "light"
     },
     "output_type": "display_data"
    }
   ],
   "source": [
    "showaucs(GradientBoostingClassifier(min_samples_leaf=64))"
   ]
  },
  {
   "cell_type": "code",
   "execution_count": 412,
   "id": "601d4bab",
   "metadata": {},
   "outputs": [
    {
     "data": {
      "image/png": "[encoded data removed]",
      "text/plain": [
       "<Figure size 864x432 with 1 Axes>"
      ]
     },
     "metadata": {
      "needs_background": "light"
     },
     "output_type": "display_data"
    }
   ],
   "source": [
    "showaucs(GradientBoostingClassifier(min_samples_leaf=80))"
   ]
  },
  {
   "cell_type": "code",
   "execution_count": 413,
   "id": "ebc44c02",
   "metadata": {},
   "outputs": [
    {
     "data": {
      "image/png": "[encoded data removed]",
      "text/plain": [
       "<Figure size 864x432 with 1 Axes>"
      ]
     },
     "metadata": {
      "needs_background": "light"
     },
     "output_type": "display_data"
    }
   ],
   "source": [
    "showaucs(GradientBoostingClassifier(min_samples_leaf=80, min_samples_split=1000))"
   ]
  },
  {
   "cell_type": "code",
   "execution_count": 415,
   "id": "a1668e9a",
   "metadata": {},
   "outputs": [
    {
     "data": {
      "image/png": "[encoded data removed]",
      "text/plain": [
       "<Figure size 864x432 with 1 Axes>"
      ]
     },
     "metadata": {
      "needs_background": "light"
     },
     "output_type": "display_data"
    }
   ],
   "source": [
    "showaucs(AdaBoostClassifier())"
   ]
  },
  {
   "cell_type": "code",
   "execution_count": 427,
   "id": "26aa90d9",
   "metadata": {},
   "outputs": [
    {
     "data": {
      "image/png": "[encoded data removed]",
      "text/plain": [
       "<Figure size 864x432 with 1 Axes>"
      ]
     },
     "metadata": {
      "needs_background": "light"
     },
     "output_type": "display_data"
    }
   ],
   "source": [
    "showaucs(AdaBoostClassifier(n_estimators=100))"
   ]
  },
  {
   "cell_type": "code",
   "execution_count": 416,
   "id": "ec4e8814",
   "metadata": {},
   "outputs": [
    {
     "data": {
      "image/png": "[encoded data removed]",
      "text/plain": [
       "<Figure size 864x432 with 1 Axes>"
      ]
     },
     "metadata": {
      "needs_background": "light"
     },
     "output_type": "display_data"
    }
   ],
   "source": [
    "showaucs(AdaBoostClassifier(n_estimators = 100))"
   ]
  },
  {
   "cell_type": "code",
   "execution_count": 417,
   "id": "c09f7e90",
   "metadata": {},
   "outputs": [
    {
     "data": {
      "image/png": "[encoded data removed]",
      "text/plain": [
       "<Figure size 864x432 with 1 Axes>"
      ]
     },
     "metadata": {
      "needs_background": "light"
     },
     "output_type": "display_data"
    }
   ],
   "source": [
    "showaucs(AdaBoostClassifier(n_estimators = 140))"
   ]
  },
  {
   "cell_type": "code",
   "execution_count": 350,
   "id": "0d19f7d8",
   "metadata": {},
   "outputs": [
    {
     "data": {
      "image/png": "[encoded data removed]",
      "text/plain": [
       "<Figure size 864x432 with 1 Axes>"
      ]
     },
     "metadata": {
      "needs_background": "light"
     },
     "output_type": "display_data"
    }
   ],
   "source": [
    "showaucs(AdaBoostClassifier())"
   ]
  },
  {
   "cell_type": "code",
   "execution_count": 307,
   "id": "e11c2eda",
   "metadata": {},
   "outputs": [],
   "source": [
    "#picking max depth of 2 from this plot"
   ]
  },
  {
   "cell_type": "code",
   "execution_count": 332,
   "id": "115ab594",
   "metadata": {},
   "outputs": [
    {
     "data": {
      "text/plain": [
       "<matplotlib.legend.Legend at 0x28f170070>"
      ]
     },
     "execution_count": 332,
     "metadata": {},
     "output_type": "execute_result"
    },
    {
     "data": {
      "image/png": "[encoded data removed]",
      "text/plain": [
       "<Figure size 864x432 with 1 Axes>"
      ]
     },
     "metadata": {
      "needs_background": "light"
     },
     "output_type": "display_data"
    }
   ],
   "source": [
    "showaucs(RandomForestClassifier(min_samples_split=2))\n",
    "showaucs(RandomForestClassifier(min_samples_split=4))\n",
    "showaucs(RandomForestClassifier(min_samples_split=8))\n",
    "showaucs(RandomForestClassifier(min_samples_split=16))\n",
    "plt.legend([2,4,8,16])"
   ]
  },
  {
   "cell_type": "code",
   "execution_count": 434,
   "id": "c75e5992",
   "metadata": {},
   "outputs": [
    {
     "data": {
      "image/png": "[encoded data removed]",
      "text/plain": [
       "<Figure size 864x432 with 1 Axes>"
      ]
     },
     "metadata": {
      "needs_background": "light"
     },
     "output_type": "display_data"
    }
   ],
   "source": [
    "showaucs(RandomForestClassifier())"
   ]
  },
  {
   "cell_type": "code",
   "execution_count": 433,
   "id": "7957d7f9",
   "metadata": {},
   "outputs": [
    {
     "data": {
      "image/png": "[encoded data removed]",
      "text/plain": [
       "<Figure size 864x432 with 1 Axes>"
      ]
     },
     "metadata": {
      "needs_background": "light"
     },
     "output_type": "display_data"
    }
   ],
   "source": [
    "showaucs(RandomForestClassifier(min_samples_split=32))"
   ]
  },
  {
   "cell_type": "code",
   "execution_count": 439,
   "id": "a4e8c36d",
   "metadata": {},
   "outputs": [
    {
     "data": {
      "text/plain": [
       "<matplotlib.legend.Legend at 0x2a1a46af0>"
      ]
     },
     "execution_count": 439,
     "metadata": {},
     "output_type": "execute_result"
    },
    {
     "data": {
      "image/png": "[encoded data removed]",
      "text/plain": [
       "<Figure size 864x432 with 1 Axes>"
      ]
     },
     "metadata": {
      "needs_background": "light"
     },
     "output_type": "display_data"
    }
   ],
   "source": [
    "showaucs(RandomForestClassifier(max_depth = 10))\n",
    "showaucs(RandomForestClassifier(max_depth = 20))\n",
    "showaucs(RandomForestClassifier(max_depth = 30))\n",
    "showaucs(RandomForestClassifier(max_depth = 40))\n",
    "plt.legend([10,20,30,40])"
   ]
  },
  {
   "cell_type": "code",
   "execution_count": 423,
   "id": "487ab02f",
   "metadata": {},
   "outputs": [
    {
     "data": {
      "image/png": "[encoded data removed]",
      "text/plain": [
       "<Figure size 864x432 with 1 Axes>"
      ]
     },
     "metadata": {
      "needs_background": "light"
     },
     "output_type": "display_data"
    }
   ],
   "source": [
    "showaucs(RandomForestClassifier(min_samples_split=16, max_depth = 90))"
   ]
  },
  {
   "cell_type": "code",
   "execution_count": 420,
   "id": "6841bb49",
   "metadata": {},
   "outputs": [
    {
     "data": {
      "image/png": "[encoded data removed]",
      "text/plain": [
       "<Figure size 864x432 with 1 Axes>"
      ]
     },
     "metadata": {
      "needs_background": "light"
     },
     "output_type": "display_data"
    }
   ],
   "source": [
    "showaucs(RandomForestClassifier(min_samples_split=32))"
   ]
  },
  {
   "cell_type": "code",
   "execution_count": 432,
   "id": "cf55b4ef",
   "metadata": {},
   "outputs": [
    {
     "data": {
      "image/png": "[encoded data removed]",
      "text/plain": [
       "<Figure size 864x432 with 1 Axes>"
      ]
     },
     "metadata": {
      "needs_background": "light"
     },
     "output_type": "display_data"
    }
   ],
   "source": [
    "showaucs(RandomForestClassifier(min_samples_split=16, max_depth = 128))"
   ]
  },
  {
   "cell_type": "markdown",
   "id": "072a8f9f",
   "metadata": {},
   "source": [
    "# Evaluating on test set"
   ]
  },
  {
   "cell_type": "code",
   "execution_count": 430,
   "id": "7318d0da",
   "metadata": {},
   "outputs": [],
   "source": [
    "def showROC(alg):\n",
    "    model = alg.fit(xTrain, yTrain)\n",
    "    results = model.predict(xTest)\n",
    "    actual = (yTest==\">30\").astype(int)\n",
    "    predicted = (results==\">30\").astype(int)\n",
    "    fpr, tpr, threshold = metrics.roc_curve(actual, predicted)\n",
    "    roc_auc = metrics.auc(fpr, tpr)\n",
    "    plt.title('Receiver Operating Characteristic')\n",
    "    plt.plot(fpr, tpr, 'b', label = 'AUC = %0.2f' % roc_auc)\n",
    "    plt.legend(loc = 'lower right')\n",
    "    plt.plot([0, 1], [0, 1],'r--')\n",
    "    plt.xlim([0, 1])\n",
    "    plt.ylim([0, 1])\n",
    "    plt.ylabel('True Positive Rate')\n",
    "    plt.xlabel('False Positive Rate')\n",
    "    plt.show()"
   ]
  },
  {
   "cell_type": "code",
   "execution_count": 431,
   "id": "a6ce3a89",
   "metadata": {},
   "outputs": [
    {
     "data": {
      "image/png": "[encoded data removed]",
      "text/plain": [
       "<Figure size 864x432 with 1 Axes>"
      ]
     },
     "metadata": {
      "needs_background": "light"
     },
     "output_type": "display_data"
    }
   ],
   "source": [
    "showROC(GradientBoostingClassifier(min_samples_leaf=80, min_samples_split=1000))"
   ]
  }
 ],
 "metadata": {
  "kernelspec": {
   "display_name": "Python 3 (ipykernel)",
   "language": "python",
   "name": "python3"
  },
  "language_info": {
   "codemirror_mode": {
    "name": "ipython",
    "version": 3
   },
   "file_extension": ".py",
   "mimetype": "text/x-python",
   "name": "python",
   "nbconvert_exporter": "python",
   "pygments_lexer": "ipython3",
   "version": "3.9.7"
  }
 },
 "nbformat": 4,
 "nbformat_minor": 5
}
