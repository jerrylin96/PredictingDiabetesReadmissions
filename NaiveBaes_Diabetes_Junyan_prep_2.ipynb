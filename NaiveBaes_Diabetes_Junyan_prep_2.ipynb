{
 "cells": [
  {
   "cell_type": "code",
   "execution_count": 1,
   "id": "7d0f9d9b",
   "metadata": {},
   "outputs": [
    {
     "name": "stdout",
     "output_type": "stream",
     "text": [
      "/Users/duanjunyan/Desktop/CS273/final project\n"
     ]
    }
   ],
   "source": [
    "cd /Users/duanjunyan/Desktop/CS273/final project"
   ]
  },
  {
   "cell_type": "code",
   "execution_count": 2,
   "id": "0932c2e3",
   "metadata": {},
   "outputs": [],
   "source": [
    "%matplotlib inline\n",
    "import matplotlib.pyplot as plt\n",
    "import numpy as np\n",
    "import pandas as pd\n",
    "np.random.seed(0)\n",
    "\n",
    "from collections import defaultdict\n",
    "\n",
    "np.random.seed(100)"
   ]
  },
  {
   "cell_type": "code",
   "execution_count": 3,
   "id": "b23fbf90",
   "metadata": {},
   "outputs": [],
   "source": [
    "# sklearn imports\n",
    "from sklearn import preprocessing\n",
    "from sklearn.feature_selection import VarianceThreshold\n",
    "from sklearn.preprocessing import StandardScaler\n",
    "from sklearn.model_selection import train_test_split\n",
    "from sklearn.pipeline import Pipeline\n",
    "from sklearn.linear_model import Lasso\n",
    "from sklearn.decomposition import PCA\n",
    "from sklearn.preprocessing import OneHotEncoder\n",
    "\n",
    "# other stats/math imports\n",
    "import math\n",
    "from scipy.stats import chi2_contingency"
   ]
  },
  {
   "cell_type": "code",
   "execution_count": 4,
   "id": "1a5bae21",
   "metadata": {},
   "outputs": [],
   "source": [
    "diabetes = pd.read_csv(\"diabetic_data.csv\", delimiter=None) \n",
    "diabetes = pd.DataFrame(diabetes)"
   ]
  },
  {
   "cell_type": "code",
   "execution_count": 5,
   "id": "b69218b0",
   "metadata": {},
   "outputs": [
    {
     "data": {
      "text/plain": [
       "Index(['encounter_id', 'patient_nbr', 'race', 'gender', 'age', 'weight',\n",
       "       'admission_type_id', 'discharge_disposition_id', 'admission_source_id',\n",
       "       'time_in_hospital', 'payer_code', 'medical_specialty',\n",
       "       'num_lab_procedures', 'num_procedures', 'num_medications',\n",
       "       'number_outpatient', 'number_emergency', 'number_inpatient', 'diag_1',\n",
       "       'diag_2', 'diag_3', 'number_diagnoses', 'max_glu_serum', 'A1Cresult',\n",
       "       'metformin', 'repaglinide', 'nateglinide', 'chlorpropamide',\n",
       "       'glimepiride', 'acetohexamide', 'glipizide', 'glyburide', 'tolbutamide',\n",
       "       'pioglitazone', 'rosiglitazone', 'acarbose', 'miglitol', 'troglitazone',\n",
       "       'tolazamide', 'examide', 'citoglipton', 'insulin',\n",
       "       'glyburide-metformin', 'glipizide-metformin',\n",
       "       'glimepiride-pioglitazone', 'metformin-rosiglitazone',\n",
       "       'metformin-pioglitazone', 'change', 'diabetesMed', 'readmitted'],\n",
       "      dtype='object')"
      ]
     },
     "execution_count": 5,
     "metadata": {},
     "output_type": "execute_result"
    }
   ],
   "source": [
    "diabetes.columns"
   ]
  },
  {
   "cell_type": "markdown",
   "id": "d58e199d",
   "metadata": {},
   "source": [
    "# Data Preprocessing"
   ]
  },
  {
   "cell_type": "markdown",
   "id": "23094b4d",
   "metadata": {},
   "source": [
    "### Adding in a column that counts the number of re-admissions"
   ]
  },
  {
   "cell_type": "markdown",
   "id": "7c0fa91d",
   "metadata": {},
   "source": [
    "We noticed that in the dataset, a patient can be readmitted multiple times. Because of this, we explore the posibility of predicting repeated readmission from the data collected from the patient's first visit. To achieve this goal, we need to add a column containing the number of times a patient being re-admitted to hospital. \n",
    "\n",
    "We noticed that most re-admitted patients have more than one entries in the data, with one entry marked \"NO\" for re-admission. Since our goal here is to predict multiple readmission, we only count the number of times a patient has \"<30\" or \">30\" in the readmitted column. For example, patient number 1152 has five entries, with four of them marked as re-admission in >30 days one one of them marked as \"NO\", so our count will result in 4 re-admissions. If a patient does not have any \"<30\" or \">30\" in the readmission column, the count is 0. \n"
   ]
  },
  {
   "cell_type": "markdown",
   "id": "e66b88c9",
   "metadata": {},
   "source": [
    "##### Add in a column that define \"<30\" and \">30\" in the re-admitted column as \"1\", and \"No\" in the re-admitted column as \"0\""
   ]
  },
  {
   "cell_type": "code",
   "execution_count": 6,
   "id": "fccd6d33",
   "metadata": {},
   "outputs": [],
   "source": [
    "def label_readmissionYN (row):\n",
    "   if row['readmitted'] == '>30':\n",
    "      return 1\n",
    "   if row['readmitted']  == '<30':\n",
    "      return 1\n",
    "   if row['readmitted'] == 'NO':\n",
    "      return 0\n",
    "diabetes['readmissionYN'] = diabetes.apply (lambda row: label_readmissionYN(row), axis=1)"
   ]
  },
  {
   "cell_type": "markdown",
   "id": "3c52ab40",
   "metadata": {},
   "source": [
    "##### Add in a column that counts the number of re-admissions"
   ]
  },
  {
   "cell_type": "code",
   "execution_count": 7,
   "id": "d556dc64",
   "metadata": {},
   "outputs": [],
   "source": [
    "diabetes_readmissionTimes = pd.DataFrame(diabetes.groupby('patient_nbr')['readmissionYN'].sum())\n",
    "diabetes_readmissionTimes = diabetes_readmissionTimes.rename(columns={'readmissionYN': 'readmissionTimes'})"
   ]
  },
  {
   "cell_type": "code",
   "execution_count": 8,
   "id": "1ef1261c",
   "metadata": {},
   "outputs": [],
   "source": [
    "diabetes = pd.merge(diabetes, diabetes_readmissionTimes, on=\"patient_nbr\")"
   ]
  },
  {
   "cell_type": "markdown",
   "id": "ba19afdf",
   "metadata": {},
   "source": [
    "##### Add in a column so that value = \"1\" if readmissionTimes >1, and \"0\" is readmissionTimes=1 "
   ]
  },
  {
   "cell_type": "code",
   "execution_count": 9,
   "id": "4a9bc5f0",
   "metadata": {},
   "outputs": [],
   "source": [
    "def label_multipleReadmission (row):\n",
    "    if row['readmissionTimes'] <1:\n",
    "      return 2\n",
    "    if row['readmissionTimes'] >1:\n",
    "      return 1\n",
    "    if row['readmissionTimes'] == 1:\n",
    "      return 0\n",
    "diabetes['multipleReAdmYN'] = diabetes.apply (lambda row: label_multipleReadmission(row), axis=1)"
   ]
  },
  {
   "cell_type": "code",
   "execution_count": 10,
   "id": "f1eb2d0c",
   "metadata": {},
   "outputs": [
    {
     "data": {
      "text/html": [
       "<div>\n",
       "<style scoped>\n",
       "    .dataframe tbody tr th:only-of-type {\n",
       "        vertical-align: middle;\n",
       "    }\n",
       "\n",
       "    .dataframe tbody tr th {\n",
       "        vertical-align: top;\n",
       "    }\n",
       "\n",
       "    .dataframe thead th {\n",
       "        text-align: right;\n",
       "    }\n",
       "</style>\n",
       "<table border=\"1\" class=\"dataframe\">\n",
       "  <thead>\n",
       "    <tr style=\"text-align: right;\">\n",
       "      <th></th>\n",
       "      <th>encounter_id</th>\n",
       "      <th>patient_nbr</th>\n",
       "      <th>race</th>\n",
       "      <th>gender</th>\n",
       "      <th>age</th>\n",
       "      <th>weight</th>\n",
       "      <th>admission_type_id</th>\n",
       "      <th>discharge_disposition_id</th>\n",
       "      <th>admission_source_id</th>\n",
       "      <th>time_in_hospital</th>\n",
       "      <th>...</th>\n",
       "      <th>glipizide-metformin</th>\n",
       "      <th>glimepiride-pioglitazone</th>\n",
       "      <th>metformin-rosiglitazone</th>\n",
       "      <th>metformin-pioglitazone</th>\n",
       "      <th>change</th>\n",
       "      <th>diabetesMed</th>\n",
       "      <th>readmitted</th>\n",
       "      <th>readmissionYN</th>\n",
       "      <th>readmissionTimes</th>\n",
       "      <th>multipleReAdmYN</th>\n",
       "    </tr>\n",
       "  </thead>\n",
       "  <tbody>\n",
       "    <tr>\n",
       "      <th>0</th>\n",
       "      <td>2278392</td>\n",
       "      <td>8222157</td>\n",
       "      <td>Caucasian</td>\n",
       "      <td>Female</td>\n",
       "      <td>[0-10)</td>\n",
       "      <td>?</td>\n",
       "      <td>6</td>\n",
       "      <td>25</td>\n",
       "      <td>1</td>\n",
       "      <td>1</td>\n",
       "      <td>...</td>\n",
       "      <td>No</td>\n",
       "      <td>No</td>\n",
       "      <td>No</td>\n",
       "      <td>No</td>\n",
       "      <td>No</td>\n",
       "      <td>No</td>\n",
       "      <td>NO</td>\n",
       "      <td>0</td>\n",
       "      <td>0</td>\n",
       "      <td>2</td>\n",
       "    </tr>\n",
       "    <tr>\n",
       "      <th>1</th>\n",
       "      <td>149190</td>\n",
       "      <td>55629189</td>\n",
       "      <td>Caucasian</td>\n",
       "      <td>Female</td>\n",
       "      <td>[10-20)</td>\n",
       "      <td>?</td>\n",
       "      <td>1</td>\n",
       "      <td>1</td>\n",
       "      <td>7</td>\n",
       "      <td>3</td>\n",
       "      <td>...</td>\n",
       "      <td>No</td>\n",
       "      <td>No</td>\n",
       "      <td>No</td>\n",
       "      <td>No</td>\n",
       "      <td>Ch</td>\n",
       "      <td>Yes</td>\n",
       "      <td>&gt;30</td>\n",
       "      <td>1</td>\n",
       "      <td>1</td>\n",
       "      <td>0</td>\n",
       "    </tr>\n",
       "    <tr>\n",
       "      <th>2</th>\n",
       "      <td>64410</td>\n",
       "      <td>86047875</td>\n",
       "      <td>AfricanAmerican</td>\n",
       "      <td>Female</td>\n",
       "      <td>[20-30)</td>\n",
       "      <td>?</td>\n",
       "      <td>1</td>\n",
       "      <td>1</td>\n",
       "      <td>7</td>\n",
       "      <td>2</td>\n",
       "      <td>...</td>\n",
       "      <td>No</td>\n",
       "      <td>No</td>\n",
       "      <td>No</td>\n",
       "      <td>No</td>\n",
       "      <td>No</td>\n",
       "      <td>Yes</td>\n",
       "      <td>NO</td>\n",
       "      <td>0</td>\n",
       "      <td>0</td>\n",
       "      <td>2</td>\n",
       "    </tr>\n",
       "    <tr>\n",
       "      <th>3</th>\n",
       "      <td>500364</td>\n",
       "      <td>82442376</td>\n",
       "      <td>Caucasian</td>\n",
       "      <td>Male</td>\n",
       "      <td>[30-40)</td>\n",
       "      <td>?</td>\n",
       "      <td>1</td>\n",
       "      <td>1</td>\n",
       "      <td>7</td>\n",
       "      <td>2</td>\n",
       "      <td>...</td>\n",
       "      <td>No</td>\n",
       "      <td>No</td>\n",
       "      <td>No</td>\n",
       "      <td>No</td>\n",
       "      <td>Ch</td>\n",
       "      <td>Yes</td>\n",
       "      <td>NO</td>\n",
       "      <td>0</td>\n",
       "      <td>0</td>\n",
       "      <td>2</td>\n",
       "    </tr>\n",
       "    <tr>\n",
       "      <th>4</th>\n",
       "      <td>16680</td>\n",
       "      <td>42519267</td>\n",
       "      <td>Caucasian</td>\n",
       "      <td>Male</td>\n",
       "      <td>[40-50)</td>\n",
       "      <td>?</td>\n",
       "      <td>1</td>\n",
       "      <td>1</td>\n",
       "      <td>7</td>\n",
       "      <td>1</td>\n",
       "      <td>...</td>\n",
       "      <td>No</td>\n",
       "      <td>No</td>\n",
       "      <td>No</td>\n",
       "      <td>No</td>\n",
       "      <td>Ch</td>\n",
       "      <td>Yes</td>\n",
       "      <td>NO</td>\n",
       "      <td>0</td>\n",
       "      <td>0</td>\n",
       "      <td>2</td>\n",
       "    </tr>\n",
       "    <tr>\n",
       "      <th>...</th>\n",
       "      <td>...</td>\n",
       "      <td>...</td>\n",
       "      <td>...</td>\n",
       "      <td>...</td>\n",
       "      <td>...</td>\n",
       "      <td>...</td>\n",
       "      <td>...</td>\n",
       "      <td>...</td>\n",
       "      <td>...</td>\n",
       "      <td>...</td>\n",
       "      <td>...</td>\n",
       "      <td>...</td>\n",
       "      <td>...</td>\n",
       "      <td>...</td>\n",
       "      <td>...</td>\n",
       "      <td>...</td>\n",
       "      <td>...</td>\n",
       "      <td>...</td>\n",
       "      <td>...</td>\n",
       "      <td>...</td>\n",
       "      <td>...</td>\n",
       "    </tr>\n",
       "    <tr>\n",
       "      <th>101761</th>\n",
       "      <td>443842016</td>\n",
       "      <td>183087545</td>\n",
       "      <td>Caucasian</td>\n",
       "      <td>Female</td>\n",
       "      <td>[70-80)</td>\n",
       "      <td>?</td>\n",
       "      <td>1</td>\n",
       "      <td>1</td>\n",
       "      <td>7</td>\n",
       "      <td>9</td>\n",
       "      <td>...</td>\n",
       "      <td>No</td>\n",
       "      <td>No</td>\n",
       "      <td>No</td>\n",
       "      <td>No</td>\n",
       "      <td>Ch</td>\n",
       "      <td>Yes</td>\n",
       "      <td>&gt;30</td>\n",
       "      <td>1</td>\n",
       "      <td>1</td>\n",
       "      <td>0</td>\n",
       "    </tr>\n",
       "    <tr>\n",
       "      <th>101762</th>\n",
       "      <td>443842022</td>\n",
       "      <td>188574944</td>\n",
       "      <td>Other</td>\n",
       "      <td>Female</td>\n",
       "      <td>[40-50)</td>\n",
       "      <td>?</td>\n",
       "      <td>1</td>\n",
       "      <td>1</td>\n",
       "      <td>7</td>\n",
       "      <td>14</td>\n",
       "      <td>...</td>\n",
       "      <td>No</td>\n",
       "      <td>No</td>\n",
       "      <td>No</td>\n",
       "      <td>No</td>\n",
       "      <td>Ch</td>\n",
       "      <td>Yes</td>\n",
       "      <td>&gt;30</td>\n",
       "      <td>1</td>\n",
       "      <td>1</td>\n",
       "      <td>0</td>\n",
       "    </tr>\n",
       "    <tr>\n",
       "      <th>101763</th>\n",
       "      <td>443842070</td>\n",
       "      <td>140199494</td>\n",
       "      <td>Other</td>\n",
       "      <td>Female</td>\n",
       "      <td>[60-70)</td>\n",
       "      <td>?</td>\n",
       "      <td>1</td>\n",
       "      <td>1</td>\n",
       "      <td>7</td>\n",
       "      <td>2</td>\n",
       "      <td>...</td>\n",
       "      <td>No</td>\n",
       "      <td>No</td>\n",
       "      <td>No</td>\n",
       "      <td>No</td>\n",
       "      <td>No</td>\n",
       "      <td>Yes</td>\n",
       "      <td>&gt;30</td>\n",
       "      <td>1</td>\n",
       "      <td>1</td>\n",
       "      <td>0</td>\n",
       "    </tr>\n",
       "    <tr>\n",
       "      <th>101764</th>\n",
       "      <td>443842340</td>\n",
       "      <td>120975314</td>\n",
       "      <td>Caucasian</td>\n",
       "      <td>Female</td>\n",
       "      <td>[80-90)</td>\n",
       "      <td>?</td>\n",
       "      <td>1</td>\n",
       "      <td>1</td>\n",
       "      <td>7</td>\n",
       "      <td>5</td>\n",
       "      <td>...</td>\n",
       "      <td>No</td>\n",
       "      <td>No</td>\n",
       "      <td>No</td>\n",
       "      <td>No</td>\n",
       "      <td>Ch</td>\n",
       "      <td>Yes</td>\n",
       "      <td>NO</td>\n",
       "      <td>0</td>\n",
       "      <td>0</td>\n",
       "      <td>2</td>\n",
       "    </tr>\n",
       "    <tr>\n",
       "      <th>101765</th>\n",
       "      <td>443867222</td>\n",
       "      <td>175429310</td>\n",
       "      <td>Caucasian</td>\n",
       "      <td>Male</td>\n",
       "      <td>[70-80)</td>\n",
       "      <td>?</td>\n",
       "      <td>1</td>\n",
       "      <td>1</td>\n",
       "      <td>7</td>\n",
       "      <td>6</td>\n",
       "      <td>...</td>\n",
       "      <td>No</td>\n",
       "      <td>No</td>\n",
       "      <td>No</td>\n",
       "      <td>No</td>\n",
       "      <td>No</td>\n",
       "      <td>No</td>\n",
       "      <td>NO</td>\n",
       "      <td>0</td>\n",
       "      <td>0</td>\n",
       "      <td>2</td>\n",
       "    </tr>\n",
       "  </tbody>\n",
       "</table>\n",
       "<p>101766 rows × 53 columns</p>\n",
       "</div>"
      ],
      "text/plain": [
       "        encounter_id  patient_nbr             race  gender      age weight  \\\n",
       "0            2278392      8222157        Caucasian  Female   [0-10)      ?   \n",
       "1             149190     55629189        Caucasian  Female  [10-20)      ?   \n",
       "2              64410     86047875  AfricanAmerican  Female  [20-30)      ?   \n",
       "3             500364     82442376        Caucasian    Male  [30-40)      ?   \n",
       "4              16680     42519267        Caucasian    Male  [40-50)      ?   \n",
       "...              ...          ...              ...     ...      ...    ...   \n",
       "101761     443842016    183087545        Caucasian  Female  [70-80)      ?   \n",
       "101762     443842022    188574944            Other  Female  [40-50)      ?   \n",
       "101763     443842070    140199494            Other  Female  [60-70)      ?   \n",
       "101764     443842340    120975314        Caucasian  Female  [80-90)      ?   \n",
       "101765     443867222    175429310        Caucasian    Male  [70-80)      ?   \n",
       "\n",
       "        admission_type_id  discharge_disposition_id  admission_source_id  \\\n",
       "0                       6                        25                    1   \n",
       "1                       1                         1                    7   \n",
       "2                       1                         1                    7   \n",
       "3                       1                         1                    7   \n",
       "4                       1                         1                    7   \n",
       "...                   ...                       ...                  ...   \n",
       "101761                  1                         1                    7   \n",
       "101762                  1                         1                    7   \n",
       "101763                  1                         1                    7   \n",
       "101764                  1                         1                    7   \n",
       "101765                  1                         1                    7   \n",
       "\n",
       "        time_in_hospital  ... glipizide-metformin glimepiride-pioglitazone  \\\n",
       "0                      1  ...                  No                       No   \n",
       "1                      3  ...                  No                       No   \n",
       "2                      2  ...                  No                       No   \n",
       "3                      2  ...                  No                       No   \n",
       "4                      1  ...                  No                       No   \n",
       "...                  ...  ...                 ...                      ...   \n",
       "101761                 9  ...                  No                       No   \n",
       "101762                14  ...                  No                       No   \n",
       "101763                 2  ...                  No                       No   \n",
       "101764                 5  ...                  No                       No   \n",
       "101765                 6  ...                  No                       No   \n",
       "\n",
       "        metformin-rosiglitazone  metformin-pioglitazone  change  diabetesMed  \\\n",
       "0                            No                      No      No           No   \n",
       "1                            No                      No      Ch          Yes   \n",
       "2                            No                      No      No          Yes   \n",
       "3                            No                      No      Ch          Yes   \n",
       "4                            No                      No      Ch          Yes   \n",
       "...                         ...                     ...     ...          ...   \n",
       "101761                       No                      No      Ch          Yes   \n",
       "101762                       No                      No      Ch          Yes   \n",
       "101763                       No                      No      No          Yes   \n",
       "101764                       No                      No      Ch          Yes   \n",
       "101765                       No                      No      No           No   \n",
       "\n",
       "        readmitted  readmissionYN readmissionTimes multipleReAdmYN  \n",
       "0               NO              0                0               2  \n",
       "1              >30              1                1               0  \n",
       "2               NO              0                0               2  \n",
       "3               NO              0                0               2  \n",
       "4               NO              0                0               2  \n",
       "...            ...            ...              ...             ...  \n",
       "101761         >30              1                1               0  \n",
       "101762         >30              1                1               0  \n",
       "101763         >30              1                1               0  \n",
       "101764          NO              0                0               2  \n",
       "101765          NO              0                0               2  \n",
       "\n",
       "[101766 rows x 53 columns]"
      ]
     },
     "execution_count": 10,
     "metadata": {},
     "output_type": "execute_result"
    }
   ],
   "source": [
    "diabetes"
   ]
  },
  {
   "cell_type": "markdown",
   "id": "c2b7897f",
   "metadata": {},
   "source": [
    "### Numerical Features \n",
    "In this dataset the feature names make numerical value features self-evident. Each column with numerical features starts with \"num_...\"\n",
    "### Categorical Features\n",
    "Essentially every feature that is numerical can be considered categorical but it is not as simple as that. \n",
    "1) 2 features are patient ID features: ['encounter_id', 'patient_nbr']. It does not make sense to include them (unless we are considering a personalized Machine Learning model) <br>\n",
    "2) It also does not make sense to include the target feature which is also categorical: ['readmitted', 'readmissionTimes','Multiplereadmission'] <br>\n",
    "3) Certain features have numerical values that represent categories, such as: ['admission_type_id', 'discharge_disposition_id', 'admission_source_id']. This is something we will investigate further. \n"
   ]
  },
  {
   "cell_type": "code",
   "execution_count": 11,
   "id": "a67bcd67",
   "metadata": {},
   "outputs": [],
   "source": [
    "# list column names of features that consist of numeric values\n",
    "# (in this dataset the feature names make numerical value features self-evident)\n",
    "feat_num = ['num_lab_procedures', 'num_procedures', 'num_medications',\n",
    "       'number_outpatient', 'number_emergency', 'number_inpatient', 'number_diagnoses']\n",
    "\n",
    "# numerics = ['int16','int32','int64','float16','float32','float64']\n",
    "# feat_num = list(diabetes.select_dtypes(include=numerics).columns)\n",
    "\n",
    "# list column names of features that consist of categorical values\n",
    "feat_cat = ['race', 'gender', 'age', 'weight',\n",
    "       'admission_type_id', 'discharge_disposition_id', 'admission_source_id',\n",
    "       'time_in_hospital', 'payer_code', 'medical_specialty', 'diag_1',\n",
    "       'diag_2', 'diag_3', 'max_glu_serum', 'A1Cresult',\n",
    "       'metformin', 'repaglinide', 'nateglinide', 'chlorpropamide',\n",
    "       'glimepiride', 'acetohexamide', 'glipizide', 'glyburide', 'tolbutamide',\n",
    "       'pioglitazone', 'rosiglitazone', 'acarbose', 'miglitol', 'troglitazone',\n",
    "       'tolazamide', 'examide', 'citoglipton', 'insulin',\n",
    "       'glyburide-metformin', 'glipizide-metformin',\n",
    "       'glimepiride-pioglitazone', 'metformin-rosiglitazone',\n",
    "       'metformin-pioglitazone', 'change', 'diabetesMed']"
   ]
  },
  {
   "cell_type": "markdown",
   "id": "564c4470",
   "metadata": {},
   "source": [
    "#### Count distinct values for Categorical Features"
   ]
  },
  {
   "cell_type": "code",
   "execution_count": 12,
   "id": "7c0441d9",
   "metadata": {},
   "outputs": [
    {
     "data": {
      "text/plain": [
       "defaultdict(int,\n",
       "            {'race': 6,\n",
       "             'gender': 3,\n",
       "             'age': 10,\n",
       "             'weight': 10,\n",
       "             'admission_type_id': 8,\n",
       "             'discharge_disposition_id': 26,\n",
       "             'admission_source_id': 17,\n",
       "             'time_in_hospital': 14,\n",
       "             'payer_code': 18,\n",
       "             'medical_specialty': 73,\n",
       "             'diag_1': 717,\n",
       "             'diag_2': 749,\n",
       "             'diag_3': 790,\n",
       "             'max_glu_serum': 4,\n",
       "             'A1Cresult': 4,\n",
       "             'metformin': 4,\n",
       "             'repaglinide': 4,\n",
       "             'nateglinide': 4,\n",
       "             'chlorpropamide': 4,\n",
       "             'glimepiride': 4,\n",
       "             'acetohexamide': 2,\n",
       "             'glipizide': 4,\n",
       "             'glyburide': 4,\n",
       "             'tolbutamide': 2,\n",
       "             'pioglitazone': 4,\n",
       "             'rosiglitazone': 4,\n",
       "             'acarbose': 4,\n",
       "             'miglitol': 4,\n",
       "             'troglitazone': 2,\n",
       "             'tolazamide': 3,\n",
       "             'examide': 1,\n",
       "             'citoglipton': 1,\n",
       "             'insulin': 4,\n",
       "             'glyburide-metformin': 4,\n",
       "             'glipizide-metformin': 2,\n",
       "             'glimepiride-pioglitazone': 2,\n",
       "             'metformin-rosiglitazone': 2,\n",
       "             'metformin-pioglitazone': 2,\n",
       "             'change': 2,\n",
       "             'diabetesMed': 2})"
      ]
     },
     "execution_count": 12,
     "metadata": {},
     "output_type": "execute_result"
    }
   ],
   "source": [
    "cat_count = defaultdict(int)\n",
    "for f in feat_cat:\n",
    "    cat_count[f] = len(diabetes[f].value_counts())\n",
    "cat_count"
   ]
  },
  {
   "cell_type": "code",
   "execution_count": 13,
   "id": "8f14c7f2",
   "metadata": {},
   "outputs": [],
   "source": [
    "# The features \"examide\" and \"citoglipton\" have only one value through so they can be dropped from consideration\n",
    "diabetes = diabetes.drop(['examide', 'citoglipton'], axis = 1)\n",
    "feat_cat = [f for f in feat_cat if f not in ('examide', 'citoglipton')]"
   ]
  },
  {
   "cell_type": "code",
   "execution_count": 14,
   "id": "a0a3df48",
   "metadata": {},
   "outputs": [],
   "source": [
    "# List of all medication features after removing  \"examide\" and \"citoglipton\"\n",
    "medications = list(diabetes.columns)[24:45]"
   ]
  },
  {
   "cell_type": "markdown",
   "id": "55c2327f",
   "metadata": {},
   "source": [
    "## Categorical features - Investigating Categories\n",
    "We picked some features we thought would be relevant to look into further <br>"
   ]
  },
  {
   "cell_type": "markdown",
   "id": "139b1676",
   "metadata": {},
   "source": [
    "### Discharge Disposition ID: \n",
    "From the ID mapping that UCI ML Repository shared with us, some categories here relate to death or terminally ill facilities. Any patient that falls into these categories should possibly not be considered in our predictions because there is no way they can be readmitted. If we were to consider them, we would possibly be biasing our predictions towards \"NO\" readmission, which would be incorrect. Nonetheless, we might want to consider some patients who had multiple re-admissions and hence we will not completely eliminate all patients that fall in the death/hospice categories"
   ]
  },
  {
   "cell_type": "code",
   "execution_count": 15,
   "id": "38fb640d",
   "metadata": {},
   "outputs": [],
   "source": [
    "## drop rows where discharge_disposition_id indicates death or hospice\n",
    "# diabetes = diabetes.drop(diabetes[diabetes.discharge_disposition_id.isin([11,13,14,19,20,21])].index)\n",
    "## OR, Create a Boolean for patients that died/went to hospice vs that didn't\n",
    "diabetes['disposition_boolean'] = np.where((diabetes['discharge_disposition_id'].isin([11,13,14,19,20,21])),1,0)\n",
    "diabetes['discharge_disposition_id'].value_counts()\n",
    "feat_cat.append('disposition_boolean')"
   ]
  },
  {
   "cell_type": "markdown",
   "id": "463725dd",
   "metadata": {},
   "source": [
    "### Diagnosis Features - diag_1, diag_2, diag_3: \n",
    "- Each of the 3 features containts 700+ categories of type string <br> \n",
    "- Some of these categories are essentially numbers (floats) while others are hard strings <br>\n",
    "- We convert all the strings that can be converted into floats, and coerce the others into 'nan' <br>\n",
    "- Any unknowns (?) and non-float diagnisis (ex. V50) are then categorized as \"Other\" "
   ]
  },
  {
   "cell_type": "code",
   "execution_count": 16,
   "id": "03e30268",
   "metadata": {},
   "outputs": [],
   "source": [
    "def diag_cat(diag_feat):\n",
    "    diabetes[diag_feat] = pd.to_numeric(diabetes[diag_feat],errors= 'coerce')\n",
    "    diabetes[diag_feat] = diabetes[diag_feat].fillna(0)\n",
    "    \n",
    "    for ind in range(len(diabetes)):\n",
    "        if diabetes[diag_feat][ind] == 'nan':\n",
    "            diabetes[diag_feat][ind] = \"Other\"\n",
    "        elif round(diabetes[diag_feat][ind]) in [250,251]:\n",
    "            diabetes[diag_feat][ind] = \"Diabetes\"\n",
    "        elif diabetes[diag_feat][ind] in range(390,460) or diabetes[diag_feat][ind] == 785:\n",
    "            diabetes[diag_feat][ind] = \"Circulatory\"\n",
    "        elif diabetes[diag_feat][ind] in range(460,520) or diabetes[diag_feat][ind] == 786:\n",
    "            diabetes[diag_feat][ind] = \"Respiratory\"\n",
    "        elif diabetes[diag_feat][ind] in range(520,580) or diabetes[diag_feat][ind] == 787:\n",
    "            diabetes[diag_feat][ind] = \"Digestive\"\n",
    "        elif diabetes[diag_feat][ind] in range(800,1000):\n",
    "            diabetes[diag_feat][ind] = \"Injury\"\n",
    "        elif diabetes[diag_feat][ind] in range(710,740):\n",
    "            diabetes[diag_feat][ind] = \"Musculoskeletel\"\n",
    "        else:\n",
    "            diabetes[diag_feat][ind] = \"Other\""
   ]
  },
  {
   "cell_type": "code",
   "execution_count": 17,
   "id": "49480a4e",
   "metadata": {},
   "outputs": [
    {
     "name": "stderr",
     "output_type": "stream",
     "text": [
      "/var/folders/f3/h1lwr6ps6f78b37s9ljgnp5w0000gn/T/ipykernel_35195/2306081007.py:9: SettingWithCopyWarning: \n",
      "A value is trying to be set on a copy of a slice from a DataFrame\n",
      "\n",
      "See the caveats in the documentation: https://pandas.pydata.org/pandas-docs/stable/user_guide/indexing.html#returning-a-view-versus-a-copy\n",
      "  diabetes[diag_feat][ind] = \"Diabetes\"\n",
      "/Library/Frameworks/Python.framework/Versions/3.9/lib/python3.9/site-packages/pandas/core/indexing.py:1732: SettingWithCopyWarning: \n",
      "A value is trying to be set on a copy of a slice from a DataFrame\n",
      "\n",
      "See the caveats in the documentation: https://pandas.pydata.org/pandas-docs/stable/user_guide/indexing.html#returning-a-view-versus-a-copy\n",
      "  self._setitem_single_block(indexer, value, name)\n",
      "/var/folders/f3/h1lwr6ps6f78b37s9ljgnp5w0000gn/T/ipykernel_35195/2306081007.py:21: SettingWithCopyWarning: \n",
      "A value is trying to be set on a copy of a slice from a DataFrame\n",
      "\n",
      "See the caveats in the documentation: https://pandas.pydata.org/pandas-docs/stable/user_guide/indexing.html#returning-a-view-versus-a-copy\n",
      "  diabetes[diag_feat][ind] = \"Other\"\n"
     ]
    }
   ],
   "source": [
    "diag_feat = ['diag_1', 'diag_2', 'diag_3']\n",
    "\n",
    "for f in diag_feat:\n",
    "    diag_cat(f)"
   ]
  },
  {
   "cell_type": "code",
   "execution_count": 18,
   "id": "9c25658c",
   "metadata": {},
   "outputs": [
    {
     "data": {
      "text/plain": [
       "Circulatory        30437\n",
       "Other              26728\n",
       "Respiratory        14423\n",
       "Digestive           9475\n",
       "Diabetes            8772\n",
       "Injury              6974\n",
       "Musculoskeletel     4957\n",
       "Name: diag_1, dtype: int64"
      ]
     },
     "execution_count": 18,
     "metadata": {},
     "output_type": "execute_result"
    }
   ],
   "source": [
    "diabetes['diag_1'].value_counts()"
   ]
  },
  {
   "cell_type": "markdown",
   "id": "055745fa",
   "metadata": {},
   "source": [
    "### Gender, Age, Admissions Type, and Admissions Source\n",
    "Age is a categorical feature, which we can consider turning into a numerical value by finding the mean of each range. This converts the feature into a numeric (but we shall not consider this as part of PCA because we understand that Age is an important factor in understanding readmissions and hence should not be put under the dimensionality reduction bucket. <br>"
   ]
  },
  {
   "cell_type": "code",
   "execution_count": 19,
   "id": "76024932",
   "metadata": {},
   "outputs": [],
   "source": [
    "# Gender\n",
    "diabetes = diabetes[diabetes['gender'] != 'Unknown/Invalid']\n",
    "diabetes['gender'].value_counts()\n",
    "\n",
    "# Age\n",
    "age_dict = {'[0-10)' : 5,\n",
    "'[10-20)' : 15,\n",
    "'[20-30)' : 25, \n",
    "'[30-40)' : 35, \n",
    "'[40-50)' : 45, \n",
    "'[50-60)' : 55,\n",
    "'[60-70)' : 65, \n",
    "'[70-80)' : 75,\n",
    "'[80-90)' : 85,\n",
    "'[90-100)' : 95}\n",
    "\n",
    "diabetes['age'] = diabetes['age'].apply(lambda x : age_dict[x])\n",
    "\n",
    "# Admissions\n",
    "diabetes['admission_type_id'] = \\\n",
    "diabetes['admission_type_id'].apply(lambda x : 'Unavailable' if int(x) in [5, 6, 8]\n",
    "                                                            else 'Elective')\n",
    "\n",
    "\n",
    "\n",
    "diabetes['admission_source_id'] = \\\n",
    "diabetes['admission_source_id'].apply(lambda x : 'Referral' if int(x) in [5, 6, 8]\n",
    "                                            else ('Emergency Room' if int(x) in [7]\n",
    "                                            else 'Other'))\n"
   ]
  },
  {
   "cell_type": "markdown",
   "id": "872e27af",
   "metadata": {},
   "source": []
  },
  {
   "cell_type": "markdown",
   "id": "f79c1f91",
   "metadata": {},
   "source": [
    "## Investigating Multiple Readmissions\n",
    "Some patients show up more than once in our dataset. It is a very small subset of the larger dataset so we first start with considering only once patient visit - which, in our case, would be the very last occurance for that patient. "
   ]
  },
  {
   "cell_type": "code",
   "execution_count": 20,
   "id": "4b7422c8",
   "metadata": {},
   "outputs": [],
   "source": [
    "## Count the number of multiple readmissions for a single patient\n",
    "# data = diabetes[diabetes['readmitted'] != 'NO']\n",
    "# unique_patients = data[['patient_nbr']]\n",
    "# unique_patients = unique_patients['patient_nbr'].value_counts().to_frame()\n",
    "# unique_patients[\"index\"] = unique_patients.index\n",
    "# len(unique_patients[unique_patients[\"patient_nbr\"] > 1])"
   ]
  },
  {
   "cell_type": "code",
   "execution_count": 21,
   "id": "1517e0a6",
   "metadata": {},
   "outputs": [
    {
     "data": {
      "text/plain": [
       "(71515, 52)"
      ]
     },
     "execution_count": 21,
     "metadata": {},
     "output_type": "execute_result"
    }
   ],
   "source": [
    "diabetes = diabetes.drop_duplicates(subset= 'patient_nbr', keep='first')\n",
    "diabetes.shape"
   ]
  },
  {
   "cell_type": "markdown",
   "id": "5a0f39f2",
   "metadata": {},
   "source": [
    "## Investigating Missing Values (?) \n",
    "Features with missing values: <br>\n",
    "**Weight** - replaced it with the mode <br>\n",
    "Another way to impute the missing weights would have been to find the closest neighbors. For us, a \"neighbor\" would be another patient with similar comorbidities. These comorbidities could be respresented in multiple ways such as (1) diagonasis (dia_1, 2, and 3) 2) number of meds, <br>\n",
    "**Race** - replaced it with \"UNK\" <br>\n",
    "**Medical Speciality** - replaced it with \"UNK\" <br>\n",
    "**Payer Code** - replaced it with \"UNK\" <br>\n",
    "\n",
    "(**diag_1, diag_2, diag_3** also had missing values but those have already been handled above)"
   ]
  },
  {
   "cell_type": "code",
   "execution_count": 22,
   "id": "5d2343cc",
   "metadata": {},
   "outputs": [
    {
     "name": "stdout",
     "output_type": "stream",
     "text": [
      "race 1946\n",
      "weight 68662\n",
      "payer_code 31042\n",
      "medical_specialty 34475\n"
     ]
    }
   ],
   "source": [
    "for col in diabetes.columns:\n",
    "    if diabetes[col].dtype == object:\n",
    "        count = diabetes[col][diabetes[col] == '?'].count()\n",
    "        if count > 0:\n",
    "            print(col, count)"
   ]
  },
  {
   "cell_type": "code",
   "execution_count": 23,
   "id": "43e2f936",
   "metadata": {},
   "outputs": [],
   "source": [
    "## Weights: Because most weights are missing, we replace the ? with most common weight\n",
    "diabetes['weight'] = np.where((diabetes['weight'] == \"?\"),\"[75-100)\",diabetes['weight'])\n",
    "## Race: replace with UNK\n",
    "diabetes['race'] = np.where((diabetes['race'] == \"?\"),\"UNK\",diabetes['race'])\n",
    "## Medical Speciality: replace with UNK\n",
    "diabetes['medical_specialty'] = np.where((diabetes['medical_specialty'] == \"?\"),\"UNK\",diabetes['medical_specialty'])\n",
    "## payer_code: replace with UNK\n",
    "diabetes['payer_code'] = np.where((diabetes['race'] == \"?\"),\"UNK\",diabetes['payer_code'])"
   ]
  },
  {
   "cell_type": "code",
   "execution_count": 24,
   "id": "ebced3ab",
   "metadata": {},
   "outputs": [],
   "source": [
    "# drop payer_code because it doesn't seem to explain very much \n",
    "# drop medical speciality because it has too many missing values\n",
    "feat_cat = [f for f in feat_cat if f not in ('payer_code', 'medical speciality')]"
   ]
  },
  {
   "cell_type": "markdown",
   "id": "0f0817d1",
   "metadata": {},
   "source": [
    "### Data after Preprocessing"
   ]
  },
  {
   "cell_type": "code",
   "execution_count": 25,
   "id": "f0b25a87",
   "metadata": {},
   "outputs": [],
   "source": [
    "X = diabetes[feat_num + feat_cat]\n",
    "y = diabetes['multipleReAdmYN']"
   ]
  },
  {
   "cell_type": "markdown",
   "id": "1e80e33e",
   "metadata": {},
   "source": [
    "# Train Test Split"
   ]
  },
  {
   "cell_type": "code",
   "execution_count": 26,
   "id": "9c65de8a",
   "metadata": {},
   "outputs": [],
   "source": [
    "Xtr, Xte, Ytr, Yte = train_test_split(X, y, test_size=0.3, random_state=1)"
   ]
  },
  {
   "cell_type": "markdown",
   "id": "c0993a94",
   "metadata": {},
   "source": [
    "# Feature Selection"
   ]
  },
  {
   "cell_type": "markdown",
   "id": "bc6f7850",
   "metadata": {},
   "source": [
    "## Feature Scaling - should we scale before train_test_split???\n",
    "As a first step, we will only normalize the numerical features. Later on, we will consider normalizing all features (for instance, if we use a multivariate feature selection model such as Lasso)"
   ]
  },
  {
   "cell_type": "code",
   "execution_count": 27,
   "id": "f20b6d4e",
   "metadata": {},
   "outputs": [],
   "source": [
    "# convert numerical features from strings to floats\n",
    "for f in feat_num:\n",
    "    diabetes[f] = pd.to_numeric(diabetes[f],errors= 'coerce')\n",
    "    \n",
    "scaler = StandardScaler()\n",
    "\n",
    "# scaling training data\n",
    "Xtr_num = Xtr[feat_num]\n",
    "scaler.fit(Xtr_num)\n",
    "Xtr_numSc = scaler.fit_transform(Xtr_num)\n",
    "\n",
    "# transforming test data based on the fit from training data\n",
    "Xte_num = Xte[feat_num]\n",
    "Xte_numSc = scaler.transform(Xte_num)"
   ]
  },
  {
   "cell_type": "code",
   "execution_count": 28,
   "id": "93c2f84a",
   "metadata": {},
   "outputs": [],
   "source": [
    "# construct the new training data with scaled features\n",
    "Xtr_cat = np.array(Xtr[feat_cat])\n",
    "Xtr = np.concatenate([Xtr_numSc, Xtr_cat], axis = 1)\n",
    "Xtr = pd.DataFrame(Xtr)\n",
    "Xtr.columns = [feat_num + feat_cat]\n",
    "\n",
    "# construct the new test data with the scaled features\n",
    "Xte_cat = np.array(Xte[feat_cat])\n",
    "Xte = np.concatenate([Xte_numSc, Xte_cat], axis = 1)\n",
    "Xte = pd.DataFrame(Xte)\n",
    "Xte.columns = [feat_num + feat_cat]"
   ]
  },
  {
   "cell_type": "markdown",
   "id": "777eac74",
   "metadata": {},
   "source": [
    "## Feature Selection - Numerical Features  (Principal Component Analysis)"
   ]
  },
  {
   "cell_type": "code",
   "execution_count": 29,
   "id": "e8e015a2",
   "metadata": {},
   "outputs": [
    {
     "data": {
      "image/png": "[encoded data removed]",
      "text/plain": [
       "<Figure size 864x432 with 1 Axes>"
      ]
     },
     "metadata": {
      "needs_background": "light"
     },
     "output_type": "display_data"
    }
   ],
   "source": [
    "pca = PCA().fit(Xtr_numSc)\n",
    "\n",
    "plt.rcParams[\"figure.figsize\"] = (12,6)\n",
    "\n",
    "fig, ax = plt.subplots()\n",
    "xi = np.arange(1, 8, step=1)\n",
    "Var = np.cumsum(pca.explained_variance_ratio_)\n",
    "\n",
    "plt.ylim(0.0,1.1)\n",
    "plt.plot(xi, Var, marker='o', linestyle='--', color='b')\n",
    "\n",
    "plt.xlabel('Number of Components')\n",
    "plt.xticks(np.arange(0, 11, step=1)) #change from 0-based array index to 1-based human-readable label\n",
    "plt.ylabel('Cumulative variance (%)')\n",
    "plt.title('The number of components needed to explain variance')\n",
    "\n",
    "plt.axhline(y=0.75, color='r', linestyle='-')\n",
    "plt.text(0.5, 0.85, '75% cut-off threshold', color = 'red', fontsize=16)\n",
    "\n",
    "ax.grid(axis='x')\n",
    "plt.show()"
   ]
  },
  {
   "cell_type": "code",
   "execution_count": 30,
   "id": "44fa0412",
   "metadata": {},
   "outputs": [],
   "source": [
    "# compoonents that explain 75% of the variances \n",
    "pca = PCA(n_components=5)\n",
    "\n",
    "# fit PCA on the training data\n",
    "XtrPCA_num = pca.fit_transform(Xtr_numSc)\n",
    "XtrPCA_num = pd.DataFrame(XtrPCA_num)\n",
    "XtrPCA_num.columns = ['PC1', 'PC2', 'PC3', 'PC4', 'PC5']\n",
    "# XtrPCA_num\n",
    "\n",
    "# transform test data based on the PCA fit from training\n",
    "XtePCA_num = pca.transform(Xte_numSc)\n",
    "XtePCA_num = pd.DataFrame(XtePCA_num)\n",
    "XtePCA_num.columns = ['PC1', 'PC2', 'PC3', 'PC4', 'PC5']\n",
    "# XtePCA_num"
   ]
  },
  {
   "cell_type": "markdown",
   "id": "b5b7c32f",
   "metadata": {},
   "source": [
    "## Feature Selection - Categorical Features "
   ]
  },
  {
   "cell_type": "markdown",
   "id": "474dac14",
   "metadata": {},
   "source": [
    "### Step 1: Investigate the value count for each medication\n",
    "If we realize that hardly anyone was prescribed that medication, it is perhaps a good idea to not consider it in our analysis <br>\n",
    "\n",
    "We run the risk of excluding patients that were specifically chosen for rare medications which hardly prescribed (and hence eliminated from our feature set). "
   ]
  },
  {
   "cell_type": "code",
   "execution_count": 31,
   "id": "6683c86a",
   "metadata": {},
   "outputs": [],
   "source": [
    "threshold = 70000\n",
    "\n",
    "med_count = defaultdict(list)\n",
    "\n",
    "for med in medications:\n",
    "    # count the number of Nos, Ups, Downs, and Steadys for each medication\n",
    "    med_count[med].append(list(diabetes[med].value_counts()))\n",
    "    \n",
    "    # if the number of Nos is > 100K, disregard the medication for now \n",
    "    if med_count[med][0][0] > threshold:\n",
    "        med_count.pop(med)\n",
    "med_count\n",
    "meds_new = list(med_count)\n",
    "# meds_new"
   ]
  },
  {
   "cell_type": "markdown",
   "id": "64f61066",
   "metadata": {},
   "source": [
    "### Step 2: Chi Square"
   ]
  },
  {
   "cell_type": "markdown",
   "id": "f8af04a4",
   "metadata": {},
   "source": [
    "Lets first try to find any relations between the medication features <br>"
   ]
  },
  {
   "cell_type": "markdown",
   "id": "f531a642",
   "metadata": {},
   "source": [
    "#### Approach 1: Cross Tabulation\n",
    "$D$ = Number of Medication features <br>\n",
    "Null Hypothesis ($H_O$): Features are independent - there is no relationship between features $x^i$ and $x^j$ where $i, j$ $\\in$ $(1,...,D)$ <br>\n",
    "Alternate Hypothesis ($H_1$): Features are independent - there is a relationship between features <br>\n",
    "Let's consider p-value for $H_O$ = .05 $\\Rightarrow$ if p-value for a relation is < .05, then we fail to reject $H_O$ <br>\n",
    "\n",
    "As we can see, none of our p-values are greater than the significance level, so we fail to reject the null hypothesis for any of them. Thus, we continue to consider all the medication features to be independent from each other. "
   ]
  },
  {
   "cell_type": "code",
   "execution_count": 32,
   "id": "18988770",
   "metadata": {},
   "outputs": [],
   "source": [
    "chi_p = [[0]*7 for _ in range(7)]\n",
    "for med1 in meds_new:\n",
    "    for med2 in meds_new:\n",
    "        chi_p[meds_new.index(med1)][meds_new.index(med2)] = chi2_contingency(pd.crosstab(diabetes[med1], diabetes[med2]))[1]\n",
    "chi_p = np.array(chi_p)   \n",
    "# chi_p       "
   ]
  },
  {
   "cell_type": "markdown",
   "id": "19f23f43",
   "metadata": {},
   "source": [
    "#### Approach 2: Ordinal / One Hot Encoding\n",
    "come back to it"
   ]
  },
  {
   "cell_type": "code",
   "execution_count": 33,
   "id": "d8b7e50b",
   "metadata": {},
   "outputs": [],
   "source": [
    "# # encode some catagorical features in the input data\n",
    "# def prepare_inputs(Xtr, Xte):\n",
    "#     ordEnc = OrdinalEncoder()\n",
    "#     ordEnc.fit(Xte)\n",
    "#     XtrEnc = ordEnc.transform(Xtr)\n",
    "#     XteEnc = ordEnc.transform(Xte)\n",
    "#     return XtrEnc, XteEnc\n",
    " \n",
    "# # encode the target feature (categorical)\n",
    "# def prepare_targets(Ytr, Yte):\n",
    "#     labEnc = LabelEncoder()\n",
    "#     labEnc.fit(Ytr)\n",
    "#     YtrEnc = labEnc.transform(Ytr)\n",
    "#     YteEnc = le.transform(Yte)\n",
    "#     return YtrEnc, YteEnc\n",
    " \n",
    "# # feature selection\n",
    "# ## concern - this can only work if we only have categorical features \n",
    "# def select_features(Xtr, Xte, Ytr):\n",
    "#     featSel = SelectKBest(score_func=chi2, k='all')\n",
    "#     featSel.fit(Xtr, Ytr)\n",
    "#     XtrSel = featSel.transform(Xtr)\n",
    "#     XteSel = featSel.transform(Xte)\n",
    "#     return XtrSel, XteSel, featSel"
   ]
  },
  {
   "cell_type": "markdown",
   "id": "21d7bc47",
   "metadata": {},
   "source": [
    "### Final set of categorical features"
   ]
  },
  {
   "cell_type": "code",
   "execution_count": 34,
   "id": "b4f113c2",
   "metadata": {},
   "outputs": [],
   "source": [
    "# disposition id replaced by the booleans\n",
    "feat_catN = ['gender', 'age', 'weight', 'admission_type_id', 'admission_source_id', 'disposition_boolean',\n",
    "           'time_in_hospital'] + diag_feat + meds_new + ['change', 'diabetesMed']"
   ]
  },
  {
   "cell_type": "code",
   "execution_count": 35,
   "id": "1a4cdc93",
   "metadata": {},
   "outputs": [],
   "source": [
    "Xtr_cat = Xtr[feat_catN]\n",
    "Xte_cat = Xte[feat_catN]"
   ]
  },
  {
   "cell_type": "markdown",
   "id": "48941fad",
   "metadata": {},
   "source": [
    "## Final Train and Test Data with Selected Catagorical Features and PCAs "
   ]
  },
  {
   "cell_type": "code",
   "execution_count": 36,
   "id": "3266444a",
   "metadata": {},
   "outputs": [],
   "source": [
    "features = list(XtrPCA_num.columns) + feat_catN\n",
    "\n",
    "# final training data \n",
    "Xtr = np.concatenate([np.array(XtrPCA_num), np.array(Xtr_cat)], axis = 1)\n",
    "Xtr = pd.DataFrame(Xtr)\n",
    "Xtr.columns = features\n",
    "# Xtr\n",
    "\n",
    "# final test data\n",
    "Xte = np.concatenate([np.array(XtePCA_num), np.array(Xte_cat)], axis = 1)\n",
    "Xte = pd.DataFrame(Xte)\n",
    "Xte.columns = features\n",
    "# Xte"
   ]
  },
  {
   "cell_type": "markdown",
   "id": "3a907f61",
   "metadata": {},
   "source": [
    "## One Hot Encode the Final Set of Categorical Features (If needed)"
   ]
  },
  {
   "cell_type": "code",
   "execution_count": 37,
   "id": "25326d9e",
   "metadata": {},
   "outputs": [],
   "source": [
    "# Features to One Hot Encode\n",
    "feat_OHE = ['gender', 'weight', 'admission_type_id', 'admission_source_id', 'disposition_boolean'] + \\\n",
    "            diag_feat + meds_new + ['change', 'diabetesMed']\n",
    "Xtr_OHE = Xtr[feat_OHE]\n",
    "\n",
    "\n",
    "# fit OHE on to the training data\n",
    "OHE = OneHotEncoder(categories='auto')\n",
    "Xtr_OHE = OHE.fit_transform(Xtr_OHE).toarray()\n",
    "Xtr_OHE = pd.DataFrame(Xtr_OHE)\n",
    "\n",
    "# transform OHE fit into test data\n",
    "Xte_OHE = Xte[feat_OHE]\n",
    "Xte_OHE = OHE.transform(Xte_OHE).toarray()\n",
    "Xte_OHE = pd.DataFrame(Xte_OHE)"
   ]
  },
  {
   "cell_type": "code",
   "execution_count": 38,
   "id": "fdd964d2",
   "metadata": {},
   "outputs": [],
   "source": [
    "# extract column names for OHE categories\n",
    "OHE_cols = []\n",
    "OHE_cols_ = OHE.categories_\n",
    "for col, vals in zip(Xtr_OHE.columns, OHE_cols_):\n",
    "    for val in vals:\n",
    "        name = str(col) + '_' + str(val)\n",
    "        OHE_cols.append(name)\n",
    "\n",
    "Xtr_OHE.columns = OHE_cols\n",
    "Xte_OHE.columns = OHE_cols"
   ]
  },
  {
   "cell_type": "code",
   "execution_count": 39,
   "id": "4ee3e6e6",
   "metadata": {},
   "outputs": [],
   "source": [
    "Xtr = pd.concat([XtrPCA_num, Xtr_OHE], axis = 1)\n",
    "Xte = pd.concat([XtePCA_num, Xte_OHE], axis = 1)"
   ]
  },
  {
   "cell_type": "code",
   "execution_count": 40,
   "id": "153149df",
   "metadata": {},
   "outputs": [],
   "source": [
    "xtrain, xtest, ytrain, ytest = Xtr.copy(), Xte.copy(), Ytr.copy(), Yte.copy()\n",
    "ytrain = Ytr.reset_index(drop = True)\n",
    "ytest = Yte.reset_index(drop = True)\n",
    "xtrain = xtrain[ytrain!=2].reset_index(drop = True)\n",
    "ytrain = ytrain[ytrain!=2].reset_index(drop = True)\n",
    "xtest = xtest[ytest!=2].reset_index(drop = True)\n",
    "ytest = ytest[ytest!=2].reset_index(drop = True)\n",
    "xtrainOrig, ytrainOrig = xtrain.copy(), ytrain.copy()\n",
    "\n",
    "from imblearn.over_sampling import SMOTE\n",
    "from imblearn.over_sampling import RandomOverSampler\n",
    "smote = SMOTE(random_state = 0)\n",
    "xtrain, ytrain = smote.fit_resample(xtrain, ytrain)"
   ]
  },
  {
   "cell_type": "code",
   "execution_count": 47,
   "id": "8aab30f9",
   "metadata": {},
   "outputs": [
    {
     "data": {
      "text/plain": [
       "(27660, 76)"
      ]
     },
     "execution_count": 47,
     "metadata": {},
     "output_type": "execute_result"
    }
   ],
   "source": [
    "xtrain.shape"
   ]
  },
  {
   "cell_type": "markdown",
   "id": "34d88ced",
   "metadata": {},
   "source": [
    "# Train Models "
   ]
  },
  {
   "cell_type": "markdown",
   "id": "c8c1f515",
   "metadata": {},
   "source": [
    "## Support vector machines"
   ]
  },
  {
   "cell_type": "code",
   "execution_count": 42,
   "id": "2fffc8a7",
   "metadata": {},
   "outputs": [],
   "source": [
    "from sklearn import svm\n",
    "from sklearn.model_selection import cross_val_score\n",
    "from sklearn import metrics\n",
    "from sklearn.model_selection import cross_val_score\n",
    "from sklearn.metrics import accuracy_score\n",
    "from sklearn.metrics import balanced_accuracy_score\n",
    "from sklearn.model_selection import GridSearchCV\n",
    "from sklearn import datasets\n",
    "from sklearn import metrics\n",
    "from sklearn.metrics import roc_curve, auc"
   ]
  },
  {
   "cell_type": "markdown",
   "id": "98609bd4",
   "metadata": {},
   "source": [
    "### Linear kernel"
   ]
  },
  {
   "cell_type": "code",
   "execution_count": 43,
   "id": "c5b4c626",
   "metadata": {},
   "outputs": [],
   "source": [
    "svm_lknl = svm.SVC(cache_size = 1000, kernel='linear')\n",
    "svm_lknl_scores = cross_val_score(svm_lknl, xtrain, ytrain, cv=5)"
   ]
  },
  {
   "cell_type": "code",
   "execution_count": 44,
   "id": "1379e992",
   "metadata": {},
   "outputs": [
    {
     "data": {
      "text/plain": [
       "0.5671005061460592"
      ]
     },
     "execution_count": 44,
     "metadata": {},
     "output_type": "execute_result"
    }
   ],
   "source": [
    "np.mean(svm_lknl_scores)"
   ]
  },
  {
   "cell_type": "code",
   "execution_count": 69,
   "id": "aaa3324d",
   "metadata": {},
   "outputs": [
    {
     "data": {
      "text/plain": [
       "0.00013800466254576635"
      ]
     },
     "execution_count": 69,
     "metadata": {},
     "output_type": "execute_result"
    }
   ],
   "source": [
    "np.var(svm_lknl_scores)"
   ]
  },
  {
   "cell_type": "markdown",
   "id": "2657e546",
   "metadata": {},
   "source": [
    "### Radial Basis Function Kernel"
   ]
  },
  {
   "cell_type": "code",
   "execution_count": 48,
   "id": "e9021648",
   "metadata": {},
   "outputs": [
    {
     "data": {
      "text/plain": [
       "array([0.5867679 , 0.5808026 , 0.65563991, 0.68004338, 0.69360087])"
      ]
     },
     "execution_count": 48,
     "metadata": {},
     "output_type": "execute_result"
    }
   ],
   "source": [
    "svm_rbfknl = svm.SVC(cache_size = 1000, kernel='rbf')\n",
    "svm_rbfknl_scores = cross_val_score(svm_rbfknl, xtrain, ytrain, cv=5)\n",
    "svm_rbfknl_scores"
   ]
  },
  {
   "cell_type": "code",
   "execution_count": 49,
   "id": "0d5bfd45",
   "metadata": {},
   "outputs": [
    {
     "data": {
      "text/plain": [
       "0.6393709327548807"
      ]
     },
     "execution_count": 49,
     "metadata": {},
     "output_type": "execute_result"
    }
   ],
   "source": [
    "np.mean(svm_rbfknl_scores)"
   ]
  },
  {
   "cell_type": "code",
   "execution_count": 73,
   "id": "f3100ffa",
   "metadata": {},
   "outputs": [
    {
     "data": {
      "text/plain": [
       "0.002211428517652373"
      ]
     },
     "execution_count": 73,
     "metadata": {},
     "output_type": "execute_result"
    }
   ],
   "source": [
    "np.var(svm_rbfknl_scores)"
   ]
  },
  {
   "cell_type": "markdown",
   "id": "6bd3beaf",
   "metadata": {},
   "source": [
    "### Polynomial Kernel"
   ]
  },
  {
   "cell_type": "code",
   "execution_count": 50,
   "id": "f20176ac",
   "metadata": {},
   "outputs": [
    {
     "data": {
      "text/plain": [
       "array([0.58767173, 0.58279103, 0.64407086, 0.66883586, 0.68438178])"
      ]
     },
     "execution_count": 50,
     "metadata": {},
     "output_type": "execute_result"
    }
   ],
   "source": [
    "svm_polyknl = svm.SVC(cache_size = 1000, kernel='poly')\n",
    "svm_polyknl_scores = cross_val_score(svm_polyknl, xtrain, ytrain, cv=5)\n",
    "svm_polyknl_scores"
   ]
  },
  {
   "cell_type": "code",
   "execution_count": 51,
   "id": "ae9a74e3",
   "metadata": {},
   "outputs": [
    {
     "data": {
      "text/plain": [
       "0.6335502530730297"
      ]
     },
     "execution_count": 51,
     "metadata": {},
     "output_type": "execute_result"
    }
   ],
   "source": [
    "np.mean(svm_polyknl_scores)"
   ]
  },
  {
   "cell_type": "code",
   "execution_count": 74,
   "id": "e177e286",
   "metadata": {},
   "outputs": [
    {
     "data": {
      "text/plain": [
       "0.0017241877796128915"
      ]
     },
     "execution_count": 74,
     "metadata": {},
     "output_type": "execute_result"
    }
   ],
   "source": [
    "np.var(svm_polyknl_scores)"
   ]
  },
  {
   "cell_type": "markdown",
   "id": "404b6b17",
   "metadata": {},
   "source": [
    "### Sigmoid Kernel"
   ]
  },
  {
   "cell_type": "code",
   "execution_count": 52,
   "id": "b1935b08",
   "metadata": {},
   "outputs": [
    {
     "data": {
      "text/plain": [
       "array([0.48933478, 0.48734635, 0.48101952, 0.4681851 , 0.4763196 ])"
      ]
     },
     "execution_count": 52,
     "metadata": {},
     "output_type": "execute_result"
    }
   ],
   "source": [
    "svm_sigknl = svm.SVC(cache_size = 1000, kernel='sigmoid')\n",
    "svm_sigknl_scores = cross_val_score(svm_sigknl, xtrain, ytrain, cv=5)\n",
    "svm_sigknl_scores"
   ]
  },
  {
   "cell_type": "code",
   "execution_count": 53,
   "id": "b30d036c",
   "metadata": {},
   "outputs": [
    {
     "data": {
      "text/plain": [
       "0.48044107013738246"
      ]
     },
     "execution_count": 53,
     "metadata": {},
     "output_type": "execute_result"
    }
   ],
   "source": [
    "np.mean(svm_sigknl_scores)"
   ]
  },
  {
   "cell_type": "code",
   "execution_count": 75,
   "id": "7549a48e",
   "metadata": {},
   "outputs": [
    {
     "data": {
      "text/plain": [
       "5.886215689011657e-05"
      ]
     },
     "execution_count": 75,
     "metadata": {},
     "output_type": "execute_result"
    }
   ],
   "source": [
    "np.var(svm_sigknl_scores)"
   ]
  },
  {
   "cell_type": "markdown",
   "id": "22f79c67",
   "metadata": {},
   "source": [
    "## Logistic regression"
   ]
  },
  {
   "cell_type": "code",
   "execution_count": 54,
   "id": "8af28f6a",
   "metadata": {},
   "outputs": [],
   "source": [
    "from sklearn.linear_model import LogisticRegression"
   ]
  },
  {
   "cell_type": "markdown",
   "id": "8426e14c",
   "metadata": {},
   "source": [
    "### Without regulariztion"
   ]
  },
  {
   "cell_type": "code",
   "execution_count": 55,
   "id": "f58291b4",
   "metadata": {},
   "outputs": [
    {
     "name": "stderr",
     "output_type": "stream",
     "text": [
      "/Library/Frameworks/Python.framework/Versions/3.9/lib/python3.9/site-packages/sklearn/linear_model/_sag.py:352: ConvergenceWarning: The max_iter was reached which means the coef_ did not converge\n",
      "  warnings.warn(\n",
      "/Library/Frameworks/Python.framework/Versions/3.9/lib/python3.9/site-packages/sklearn/linear_model/_sag.py:352: ConvergenceWarning: The max_iter was reached which means the coef_ did not converge\n",
      "  warnings.warn(\n",
      "/Library/Frameworks/Python.framework/Versions/3.9/lib/python3.9/site-packages/sklearn/linear_model/_sag.py:352: ConvergenceWarning: The max_iter was reached which means the coef_ did not converge\n",
      "  warnings.warn(\n",
      "/Library/Frameworks/Python.framework/Versions/3.9/lib/python3.9/site-packages/sklearn/linear_model/_sag.py:352: ConvergenceWarning: The max_iter was reached which means the coef_ did not converge\n",
      "  warnings.warn(\n",
      "/Library/Frameworks/Python.framework/Versions/3.9/lib/python3.9/site-packages/sklearn/linear_model/_sag.py:352: ConvergenceWarning: The max_iter was reached which means the coef_ did not converge\n",
      "  warnings.warn(\n"
     ]
    }
   ],
   "source": [
    "logReg_Bal_none = LogisticRegression(fit_intercept = True, class_weight= 'balanced', \n",
    "                                   penalty = 'none', solver = \"saga\", max_iter = 500)\n",
    "logReg_Bal_none_scores = cross_val_score(logReg_Bal_none, xtrain, ytrain, cv=5)"
   ]
  },
  {
   "cell_type": "code",
   "execution_count": 56,
   "id": "1762d9cc",
   "metadata": {},
   "outputs": [
    {
     "data": {
      "text/plain": [
       "0.5647143890093999"
      ]
     },
     "execution_count": 56,
     "metadata": {},
     "output_type": "execute_result"
    }
   ],
   "source": [
    "np.mean(logReg_Bal_none_scores)"
   ]
  },
  {
   "cell_type": "code",
   "execution_count": 70,
   "id": "8eab7dab",
   "metadata": {},
   "outputs": [
    {
     "data": {
      "text/plain": [
       "0.00016776119902399156"
      ]
     },
     "execution_count": 70,
     "metadata": {},
     "output_type": "execute_result"
    }
   ],
   "source": [
    "np.var(logReg_Bal_none_scores)"
   ]
  },
  {
   "cell_type": "markdown",
   "id": "6d2fd3bd",
   "metadata": {},
   "source": [
    "### With lasso"
   ]
  },
  {
   "cell_type": "code",
   "execution_count": 57,
   "id": "65d2dd10",
   "metadata": {},
   "outputs": [
    {
     "name": "stderr",
     "output_type": "stream",
     "text": [
      "/Library/Frameworks/Python.framework/Versions/3.9/lib/python3.9/site-packages/sklearn/linear_model/_sag.py:352: ConvergenceWarning: The max_iter was reached which means the coef_ did not converge\n",
      "  warnings.warn(\n",
      "/Library/Frameworks/Python.framework/Versions/3.9/lib/python3.9/site-packages/sklearn/linear_model/_sag.py:352: ConvergenceWarning: The max_iter was reached which means the coef_ did not converge\n",
      "  warnings.warn(\n",
      "/Library/Frameworks/Python.framework/Versions/3.9/lib/python3.9/site-packages/sklearn/linear_model/_sag.py:352: ConvergenceWarning: The max_iter was reached which means the coef_ did not converge\n",
      "  warnings.warn(\n",
      "/Library/Frameworks/Python.framework/Versions/3.9/lib/python3.9/site-packages/sklearn/linear_model/_sag.py:352: ConvergenceWarning: The max_iter was reached which means the coef_ did not converge\n",
      "  warnings.warn(\n",
      "/Library/Frameworks/Python.framework/Versions/3.9/lib/python3.9/site-packages/sklearn/linear_model/_sag.py:352: ConvergenceWarning: The max_iter was reached which means the coef_ did not converge\n",
      "  warnings.warn(\n"
     ]
    }
   ],
   "source": [
    "logReg_Bal_L1 = LogisticRegression(fit_intercept = True, class_weight= 'balanced', \n",
    "                                   penalty = 'l1', solver='saga', max_iter = 500)\n",
    "logReg_Bal_L1_scores = cross_val_score(logReg_Bal_L1, xtrain, ytrain, cv=5)"
   ]
  },
  {
   "cell_type": "code",
   "execution_count": 58,
   "id": "b9324715",
   "metadata": {},
   "outputs": [
    {
     "data": {
      "text/plain": [
       "0.5653289949385394"
      ]
     },
     "execution_count": 58,
     "metadata": {},
     "output_type": "execute_result"
    }
   ],
   "source": [
    "np.mean(logReg_Bal_L1_scores)"
   ]
  },
  {
   "cell_type": "code",
   "execution_count": 71,
   "id": "9a9851e4",
   "metadata": {},
   "outputs": [
    {
     "data": {
      "text/plain": [
       "0.0001479670767176467"
      ]
     },
     "execution_count": 71,
     "metadata": {},
     "output_type": "execute_result"
    }
   ],
   "source": [
    "np.var(logReg_Bal_L1_scores)"
   ]
  },
  {
   "cell_type": "markdown",
   "id": "e68614d9",
   "metadata": {},
   "source": [
    "### With ridge"
   ]
  },
  {
   "cell_type": "code",
   "execution_count": 59,
   "id": "d4487640",
   "metadata": {},
   "outputs": [
    {
     "name": "stderr",
     "output_type": "stream",
     "text": [
      "/Library/Frameworks/Python.framework/Versions/3.9/lib/python3.9/site-packages/sklearn/linear_model/_sag.py:352: ConvergenceWarning: The max_iter was reached which means the coef_ did not converge\n",
      "  warnings.warn(\n",
      "/Library/Frameworks/Python.framework/Versions/3.9/lib/python3.9/site-packages/sklearn/linear_model/_sag.py:352: ConvergenceWarning: The max_iter was reached which means the coef_ did not converge\n",
      "  warnings.warn(\n",
      "/Library/Frameworks/Python.framework/Versions/3.9/lib/python3.9/site-packages/sklearn/linear_model/_sag.py:352: ConvergenceWarning: The max_iter was reached which means the coef_ did not converge\n",
      "  warnings.warn(\n",
      "/Library/Frameworks/Python.framework/Versions/3.9/lib/python3.9/site-packages/sklearn/linear_model/_sag.py:352: ConvergenceWarning: The max_iter was reached which means the coef_ did not converge\n",
      "  warnings.warn(\n",
      "/Library/Frameworks/Python.framework/Versions/3.9/lib/python3.9/site-packages/sklearn/linear_model/_sag.py:352: ConvergenceWarning: The max_iter was reached which means the coef_ did not converge\n",
      "  warnings.warn(\n"
     ]
    }
   ],
   "source": [
    "logReg_Bal_L2 = LogisticRegression(fit_intercept = True, class_weight= 'balanced', \n",
    "                                   penalty = 'l2', solver='saga', max_iter = 500)\n",
    "logReg_Bal_L2_scores = cross_val_score(logReg_Bal_L2, xtrain, ytrain, cv=5)"
   ]
  },
  {
   "cell_type": "code",
   "execution_count": 60,
   "id": "50b6a61e",
   "metadata": {},
   "outputs": [
    {
     "data": {
      "text/plain": [
       "0.565003615328995"
      ]
     },
     "execution_count": 60,
     "metadata": {},
     "output_type": "execute_result"
    }
   ],
   "source": [
    "np.mean(logReg_Bal_L2_scores)"
   ]
  },
  {
   "cell_type": "code",
   "execution_count": 72,
   "id": "f2b9fa60",
   "metadata": {},
   "outputs": [
    {
     "data": {
      "text/plain": [
       "0.0001590378780868188"
      ]
     },
     "execution_count": 72,
     "metadata": {},
     "output_type": "execute_result"
    }
   ],
   "source": [
    "np.var(logReg_Bal_L2_scores)"
   ]
  },
  {
   "cell_type": "markdown",
   "id": "79c7a2f5",
   "metadata": {},
   "source": [
    "# Train predictor using SVM with RBF kernel"
   ]
  },
  {
   "cell_type": "code",
   "execution_count": 61,
   "id": "942030d8",
   "metadata": {},
   "outputs": [
    {
     "data": {
      "text/plain": [
       "SVC(cache_size=1000)"
      ]
     },
     "execution_count": 61,
     "metadata": {},
     "output_type": "execute_result"
    }
   ],
   "source": [
    "svm_rbfknl.fit(xtrain, ytrain)"
   ]
  },
  {
   "cell_type": "markdown",
   "id": "dca337f0",
   "metadata": {},
   "source": [
    "# test"
   ]
  },
  {
   "cell_type": "code",
   "execution_count": 62,
   "id": "ef58f4c2",
   "metadata": {},
   "outputs": [],
   "source": [
    "svm_rbfknl_Yhat = svm_rbfknl.predict(xtest)"
   ]
  },
  {
   "cell_type": "code",
   "execution_count": 63,
   "id": "876d8c82",
   "metadata": {},
   "outputs": [
    {
     "data": {
      "text/plain": [
       "0.5595154903331004"
      ]
     },
     "execution_count": 63,
     "metadata": {},
     "output_type": "execute_result"
    }
   ],
   "source": [
    "sum(svm_rbfknl_Yhat==ytest)/len(ytest)"
   ]
  },
  {
   "cell_type": "code",
   "execution_count": 64,
   "id": "550c4df0",
   "metadata": {},
   "outputs": [],
   "source": [
    "from sklearn.metrics import confusion_matrix"
   ]
  },
  {
   "cell_type": "code",
   "execution_count": 65,
   "id": "20d32159",
   "metadata": {},
   "outputs": [],
   "source": [
    "tn, fp, fn, tp = confusion_matrix(ytest, svm_rbfknl_Yhat).ravel()"
   ]
  },
  {
   "cell_type": "code",
   "execution_count": 66,
   "id": "8f7661f8",
   "metadata": {},
   "outputs": [
    {
     "data": {
      "text/plain": [
       "(3363, 2549, 1233, 1441)"
      ]
     },
     "execution_count": 66,
     "metadata": {},
     "output_type": "execute_result"
    }
   ],
   "source": [
    "(tn, fp, fn, tp)"
   ]
  },
  {
   "cell_type": "code",
   "execution_count": 67,
   "id": "2d1dcfc7",
   "metadata": {},
   "outputs": [],
   "source": [
    "fpr, tpr, threshold = metrics.roc_curve(ytest, svm_rbfknl_Yhat)\n",
    "roc_auc = metrics.auc(fpr, tpr)"
   ]
  },
  {
   "cell_type": "code",
   "execution_count": 68,
   "id": "8c9e1c9e",
   "metadata": {},
   "outputs": [
    {
     "data": {
      "image/png": "[encoded data removed]",
      "text/plain": [
       "<Figure size 864x432 with 1 Axes>"
      ]
     },
     "metadata": {
      "needs_background": "light"
     },
     "output_type": "display_data"
    }
   ],
   "source": [
    "plt.plot(fpr, tpr)\n",
    "plt.plot([0,1], [0,1], 'r--')\n",
    "plt.title ('ROC Curves for model of choice - predict multiple re-admission')\n",
    "plt.xlim([0,1])\n",
    "plt.ylim([0,1])\n",
    "plt.ylabel('True Negative Rate')\n",
    "plt.xlabel('False Positive Rate')\n",
    "plt.show()"
   ]
  },
  {
   "cell_type": "code",
   "execution_count": null,
   "id": "83cd0da4",
   "metadata": {},
   "outputs": [],
   "source": []
  }
 ],
 "metadata": {
  "kernelspec": {
   "display_name": "Python 3 (ipykernel)",
   "language": "python",
   "name": "python3"
  },
  "language_info": {
   "codemirror_mode": {
    "name": "ipython",
    "version": 3
   },
   "file_extension": ".py",
   "mimetype": "text/x-python",
   "name": "python",
   "nbconvert_exporter": "python",
   "pygments_lexer": "ipython3",
   "version": "3.9.2"
  }
 },
 "nbformat": 4,
 "nbformat_minor": 5
}
