{
 "cells": [
  {
   "cell_type": "code",
   "execution_count": 1,
   "id": "7d0f9d9b",
   "metadata": {},
   "outputs": [
    {
     "name": "stdout",
     "output_type": "stream",
     "text": [
      "/Users/akshitasingh/Downloads/273A_ML/1_MLProject\n"
     ]
    }
   ],
   "source": [
    "cd /Users/akshitasingh/Downloads/273A_ML/1_MLProject"
   ]
  },
  {
   "cell_type": "code",
   "execution_count": 2,
   "id": "0932c2e3",
   "metadata": {},
   "outputs": [],
   "source": [
    "%matplotlib inline\n",
    "import matplotlib.pyplot as plt\n",
    "import numpy as np\n",
    "import pandas as pd\n",
    "np.random.seed(0)\n",
    "\n",
    "from collections import defaultdict\n",
    "\n",
    "np.random.seed(100)"
   ]
  },
  {
   "cell_type": "code",
   "execution_count": 3,
   "id": "b23fbf90",
   "metadata": {},
   "outputs": [],
   "source": [
    "# sklearn imports\n",
    "from sklearn import preprocessing\n",
    "from sklearn.feature_selection import VarianceThreshold\n",
    "from sklearn.preprocessing import StandardScaler\n",
    "from sklearn.model_selection import train_test_split\n",
    "from sklearn.pipeline import Pipeline\n",
    "from sklearn.linear_model import Lasso\n",
    "from sklearn.decomposition import PCA\n",
    "from sklearn.preprocessing import OneHotEncoder\n",
    "\n",
    "from sklearn.linear_model import LogisticRegression\n",
    "from sklearn.ensemble import RandomForestClassifier\n",
    "from sklearn import svm\n",
    "from sklearn.tree import DecisionTreeClassifier\n",
    "from sklearn.ensemble import GradientBoostingClassifier\n",
    "\n",
    "from imblearn.over_sampling import SMOTE\n",
    "from imblearn.over_sampling import RandomOverSampler\n",
    "from imblearn.under_sampling import ClusterCentroids\n",
    "from imblearn.under_sampling import RandomUnderSampler\n",
    "\n",
    "from sklearn import metrics\n",
    "from sklearn.model_selection import cross_val_score\n",
    "from sklearn.metrics import accuracy_score\n",
    "from sklearn.metrics import balanced_accuracy_score\n",
    "from sklearn.model_selection import GridSearchCV\n",
    "from imblearn.pipeline import Pipeline\n",
    "from sklearn import datasets\n",
    "from sklearn import metrics\n",
    "from sklearn.metrics import roc_curve, auc\n",
    "\n",
    "# other stats/math imports\n",
    "import math\n",
    "from scipy.stats import chi2_contingency"
   ]
  },
  {
   "cell_type": "code",
   "execution_count": 4,
   "id": "1a5bae21",
   "metadata": {},
   "outputs": [],
   "source": [
    "diabetes = pd.read_csv(\"/Users/akshitasingh/Downloads/273A_ML/1_MLProject/dataset_diabetes/diabetic_data.csv\", delimiter=None) \n",
    "diabetes = pd.DataFrame(diabetes)"
   ]
  },
  {
   "cell_type": "code",
   "execution_count": 5,
   "id": "bae0510f",
   "metadata": {},
   "outputs": [
    {
     "data": {
      "text/plain": [
       "(101766, 50)"
      ]
     },
     "execution_count": 5,
     "metadata": {},
     "output_type": "execute_result"
    }
   ],
   "source": [
    "diabetes.shape"
   ]
  },
  {
   "cell_type": "code",
   "execution_count": 6,
   "id": "b69218b0",
   "metadata": {},
   "outputs": [
    {
     "data": {
      "text/plain": [
       "Index(['encounter_id', 'patient_nbr', 'race', 'gender', 'age', 'weight',\n",
       "       'admission_type_id', 'discharge_disposition_id', 'admission_source_id',\n",
       "       'time_in_hospital', 'payer_code', 'medical_specialty',\n",
       "       'num_lab_procedures', 'num_procedures', 'num_medications',\n",
       "       'number_outpatient', 'number_emergency', 'number_inpatient', 'diag_1',\n",
       "       'diag_2', 'diag_3', 'number_diagnoses', 'max_glu_serum', 'A1Cresult',\n",
       "       'metformin', 'repaglinide', 'nateglinide', 'chlorpropamide',\n",
       "       'glimepiride', 'acetohexamide', 'glipizide', 'glyburide', 'tolbutamide',\n",
       "       'pioglitazone', 'rosiglitazone', 'acarbose', 'miglitol', 'troglitazone',\n",
       "       'tolazamide', 'examide', 'citoglipton', 'insulin',\n",
       "       'glyburide-metformin', 'glipizide-metformin',\n",
       "       'glimepiride-pioglitazone', 'metformin-rosiglitazone',\n",
       "       'metformin-pioglitazone', 'change', 'diabetesMed', 'readmitted'],\n",
       "      dtype='object')"
      ]
     },
     "execution_count": 6,
     "metadata": {},
     "output_type": "execute_result"
    }
   ],
   "source": [
    "diabetes.columns"
   ]
  },
  {
   "cell_type": "markdown",
   "id": "d58e199d",
   "metadata": {},
   "source": [
    "# Data Preprocessing\n",
    "### Numerical Features \n",
    "In this dataset the feature names make numerical value features self-evident. Each column with numerical features starts with \"num_...\"\n",
    "### Categorical Features\n",
    "Essentially every feature that is numerical can be considered categorical but it is not as simple as that. \n",
    "1) 2 features are patient ID features: ['encounter_id', 'patient_nbr']. It does not make sense to include them (unless we are considering a personalized Machine Learning model) <br>\n",
    "2) It also does not make sense to include the target feature which is also categorical: ['readmitted'] <br>\n",
    "3) Certain features have numerical values that represent categories, such as: ['admission_type_id', 'discharge_disposition_id', 'admission_source_id']. This is something we will investigate further. \n"
   ]
  },
  {
   "cell_type": "code",
   "execution_count": 7,
   "id": "a67bcd67",
   "metadata": {},
   "outputs": [],
   "source": [
    "# list column names of features that consist of numeric values\n",
    "# (in this dataset the feature names make numerical value features self-evident)\n",
    "feat_num = ['num_lab_procedures', 'num_procedures', 'num_medications',\n",
    "       'number_outpatient', 'number_emergency', 'number_inpatient', 'number_diagnoses']\n",
    "\n",
    "# numerics = ['int16','int32','int64','float16','float32','float64']\n",
    "# feat_num = list(diabetes.select_dtypes(include=numerics).columns)\n",
    "\n",
    "# list column names of features that consist of categorical values\n",
    "feat_cat = ['race', 'gender', 'age', 'weight',\n",
    "       'admission_type_id', 'discharge_disposition_id', 'admission_source_id',\n",
    "       'time_in_hospital', 'payer_code', 'medical_specialty', 'diag_1',\n",
    "       'diag_2', 'diag_3', 'max_glu_serum', 'A1Cresult',\n",
    "       'metformin', 'repaglinide', 'nateglinide', 'chlorpropamide',\n",
    "       'glimepiride', 'acetohexamide', 'glipizide', 'glyburide', 'tolbutamide',\n",
    "       'pioglitazone', 'rosiglitazone', 'acarbose', 'miglitol', 'troglitazone',\n",
    "       'tolazamide', 'examide', 'citoglipton', 'insulin',\n",
    "       'glyburide-metformin', 'glipizide-metformin',\n",
    "       'glimepiride-pioglitazone', 'metformin-rosiglitazone',\n",
    "       'metformin-pioglitazone', 'change', 'diabetesMed']"
   ]
  },
  {
   "cell_type": "markdown",
   "id": "564c4470",
   "metadata": {},
   "source": [
    "#### Count distinct values for Categorical Features"
   ]
  },
  {
   "cell_type": "code",
   "execution_count": 8,
   "id": "7c0441d9",
   "metadata": {},
   "outputs": [
    {
     "data": {
      "text/plain": [
       "defaultdict(int,\n",
       "            {'race': 6,\n",
       "             'gender': 3,\n",
       "             'age': 10,\n",
       "             'weight': 10,\n",
       "             'admission_type_id': 8,\n",
       "             'discharge_disposition_id': 26,\n",
       "             'admission_source_id': 17,\n",
       "             'time_in_hospital': 14,\n",
       "             'payer_code': 18,\n",
       "             'medical_specialty': 73,\n",
       "             'diag_1': 717,\n",
       "             'diag_2': 749,\n",
       "             'diag_3': 790,\n",
       "             'max_glu_serum': 4,\n",
       "             'A1Cresult': 4,\n",
       "             'metformin': 4,\n",
       "             'repaglinide': 4,\n",
       "             'nateglinide': 4,\n",
       "             'chlorpropamide': 4,\n",
       "             'glimepiride': 4,\n",
       "             'acetohexamide': 2,\n",
       "             'glipizide': 4,\n",
       "             'glyburide': 4,\n",
       "             'tolbutamide': 2,\n",
       "             'pioglitazone': 4,\n",
       "             'rosiglitazone': 4,\n",
       "             'acarbose': 4,\n",
       "             'miglitol': 4,\n",
       "             'troglitazone': 2,\n",
       "             'tolazamide': 3,\n",
       "             'examide': 1,\n",
       "             'citoglipton': 1,\n",
       "             'insulin': 4,\n",
       "             'glyburide-metformin': 4,\n",
       "             'glipizide-metformin': 2,\n",
       "             'glimepiride-pioglitazone': 2,\n",
       "             'metformin-rosiglitazone': 2,\n",
       "             'metformin-pioglitazone': 2,\n",
       "             'change': 2,\n",
       "             'diabetesMed': 2})"
      ]
     },
     "execution_count": 8,
     "metadata": {},
     "output_type": "execute_result"
    }
   ],
   "source": [
    "cat_count = defaultdict(int)\n",
    "for f in feat_cat:\n",
    "    cat_count[f] = len(diabetes[f].value_counts())\n",
    "cat_count"
   ]
  },
  {
   "cell_type": "code",
   "execution_count": 9,
   "id": "8f14c7f2",
   "metadata": {},
   "outputs": [],
   "source": [
    "# The features \"examide\" and \"citoglipton\" have only one value through so they can be dropped from consideration\n",
    "diabetes = diabetes.drop(['examide', 'citoglipton'], axis = 1)\n",
    "feat_cat = [f for f in feat_cat if f not in ('examide', 'citoglipton')]"
   ]
  },
  {
   "cell_type": "code",
   "execution_count": 10,
   "id": "a0a3df48",
   "metadata": {},
   "outputs": [],
   "source": [
    "# List of all medication features after removing  \"examide\" and \"citoglipton\"\n",
    "medications = list(diabetes.columns)[24:45]"
   ]
  },
  {
   "cell_type": "markdown",
   "id": "55c2327f",
   "metadata": {},
   "source": [
    "## Categorical features - Investigating Categories\n",
    "We picked some features we thought would be relevant to look into further <br>"
   ]
  },
  {
   "cell_type": "markdown",
   "id": "139b1676",
   "metadata": {},
   "source": [
    "### Discharge Disposition ID: \n",
    "From the ID mapping that UCI ML Repository shared with us, some categories here relate to death or terminally ill facilities. Any patient that falls into these categories should possibly not be considered in our predictions because there is no way they can be readmitted. If we were to consider them, we would possibly be biasing our predictions towards \"NO\" readmission, which would be incorrect. Nonetheless, we might want to consider some patients who had multiple re-admissions and hence we will not completely eliminate all patients that fall in the death/hospice categories"
   ]
  },
  {
   "cell_type": "code",
   "execution_count": 11,
   "id": "38fb640d",
   "metadata": {},
   "outputs": [],
   "source": [
    "## drop rows where discharge_disposition_id indicates death or hospice\n",
    "# diabetes = diabetes.drop(diabetes[diabetes.discharge_disposition_id.isin([11,13,14,19,20,21])].index)\n",
    "## OR, Create a Boolean for patients that died/went to hospice vs that didn't\n",
    "diabetes['disposition_boolean'] = np.where((diabetes['discharge_disposition_id'].isin([11,13,14,19,20,21])),1,0)\n",
    "diabetes['discharge_disposition_id'].value_counts()\n",
    "feat_cat.append('disposition_boolean')"
   ]
  },
  {
   "cell_type": "markdown",
   "id": "463725dd",
   "metadata": {},
   "source": [
    "### Diagnosis Features - diag_1, diag_2, diag_3: \n",
    "- Each of the 3 features containts 700+ categories of type string <br> \n",
    "- Some of these categories are essentially numbers (floats) while others are hard strings <br>\n",
    "- We convert all the strings that can be converted into floats, and coerce the others into 'nan' <br>\n",
    "- Any unknowns (?) and non-float diagnisis (ex. V50) are then categorized as \"Other\" "
   ]
  },
  {
   "cell_type": "code",
   "execution_count": 12,
   "id": "03e30268",
   "metadata": {},
   "outputs": [],
   "source": [
    "def diag_cat(diag_feat):\n",
    "    diabetes[diag_feat] = pd.to_numeric(diabetes[diag_feat],errors= 'coerce')\n",
    "    diabetes[diag_feat] = diabetes[diag_feat].fillna(0)\n",
    "    \n",
    "    for ind in range(len(diabetes)):\n",
    "        if diabetes[diag_feat][ind] == 'nan':\n",
    "            diabetes[diag_feat][ind] = \"Other\"\n",
    "        elif round(diabetes[diag_feat][ind]) in [250,251]:\n",
    "            diabetes[diag_feat][ind] = \"Diabetes\"\n",
    "        elif diabetes[diag_feat][ind] in range(390,460) or diabetes[diag_feat][ind] == 785:\n",
    "            diabetes[diag_feat][ind] = \"Circulatory\"\n",
    "        elif diabetes[diag_feat][ind] in range(460,520) or diabetes[diag_feat][ind] == 786:\n",
    "            diabetes[diag_feat][ind] = \"Respiratory\"\n",
    "        elif diabetes[diag_feat][ind] in range(520,580) or diabetes[diag_feat][ind] == 787:\n",
    "            diabetes[diag_feat][ind] = \"Digestive\"\n",
    "        elif diabetes[diag_feat][ind] in range(800,1000):\n",
    "            diabetes[diag_feat][ind] = \"Injury\"\n",
    "        elif diabetes[diag_feat][ind] in range(710,740):\n",
    "            diabetes[diag_feat][ind] = \"Musculoskeletel\"\n",
    "        else:\n",
    "            diabetes[diag_feat][ind] = \"Other\""
   ]
  },
  {
   "cell_type": "code",
   "execution_count": 13,
   "id": "49480a4e",
   "metadata": {},
   "outputs": [
    {
     "name": "stderr",
     "output_type": "stream",
     "text": [
      "/var/folders/p5/rk9gv3jx047cv7vfdw4dh5yc0000gn/T/ipykernel_8354/2306081007.py:9: SettingWithCopyWarning: \n",
      "A value is trying to be set on a copy of a slice from a DataFrame\n",
      "\n",
      "See the caveats in the documentation: https://pandas.pydata.org/pandas-docs/stable/user_guide/indexing.html#returning-a-view-versus-a-copy\n",
      "  diabetes[diag_feat][ind] = \"Diabetes\"\n",
      "/Users/akshitasingh/opt/anaconda3/lib/python3.8/site-packages/pandas/core/indexing.py:1732: SettingWithCopyWarning: \n",
      "A value is trying to be set on a copy of a slice from a DataFrame\n",
      "\n",
      "See the caveats in the documentation: https://pandas.pydata.org/pandas-docs/stable/user_guide/indexing.html#returning-a-view-versus-a-copy\n",
      "  self._setitem_single_block(indexer, value, name)\n",
      "/var/folders/p5/rk9gv3jx047cv7vfdw4dh5yc0000gn/T/ipykernel_8354/2306081007.py:21: SettingWithCopyWarning: \n",
      "A value is trying to be set on a copy of a slice from a DataFrame\n",
      "\n",
      "See the caveats in the documentation: https://pandas.pydata.org/pandas-docs/stable/user_guide/indexing.html#returning-a-view-versus-a-copy\n",
      "  diabetes[diag_feat][ind] = \"Other\"\n"
     ]
    }
   ],
   "source": [
    "diag_feat = ['diag_1', 'diag_2', 'diag_3']\n",
    "\n",
    "for f in diag_feat:\n",
    "    diag_cat(f)"
   ]
  },
  {
   "cell_type": "code",
   "execution_count": 14,
   "id": "9c25658c",
   "metadata": {},
   "outputs": [
    {
     "data": {
      "text/plain": [
       "Circulatory        30437\n",
       "Other              26728\n",
       "Respiratory        14423\n",
       "Digestive           9475\n",
       "Diabetes            8772\n",
       "Injury              6974\n",
       "Musculoskeletel     4957\n",
       "Name: diag_1, dtype: int64"
      ]
     },
     "execution_count": 14,
     "metadata": {},
     "output_type": "execute_result"
    }
   ],
   "source": [
    "diabetes['diag_1'].value_counts()"
   ]
  },
  {
   "cell_type": "markdown",
   "id": "055745fa",
   "metadata": {},
   "source": [
    "### Gender, Age, Admissions Type, and Admissions Source\n",
    "Age is a categorical feature, which we can consider turning into a numerical value by finding the mean of each range. This converts the feature into a numeric (but we shall not consider this as part of PCA because we understand that Age is an important factor in understanding readmissions and hence should not be put under the dimensionality reduction bucket. <br>"
   ]
  },
  {
   "cell_type": "code",
   "execution_count": 15,
   "id": "76024932",
   "metadata": {},
   "outputs": [],
   "source": [
    "# Gender\n",
    "diabetes = diabetes[diabetes['gender'] != 'Unknown/Invalid']\n",
    "diabetes['gender'].value_counts()\n",
    "\n",
    "# Age\n",
    "age_dict = {'[0-10)' : 5,\n",
    "'[10-20)' : 15,\n",
    "'[20-30)' : 25, \n",
    "'[30-40)' : 35, \n",
    "'[40-50)' : 45, \n",
    "'[50-60)' : 55,\n",
    "'[60-70)' : 65, \n",
    "'[70-80)' : 75,\n",
    "'[80-90)' : 85,\n",
    "'[90-100)' : 95}\n",
    "\n",
    "diabetes['age'] = diabetes['age'].apply(lambda x : age_dict[x])\n",
    "\n",
    "# Admissions\n",
    "diabetes['admission_type_id'] = \\\n",
    "diabetes['admission_type_id'].apply(lambda x : 'Unavailable' if int(x) in [5, 6, 8]\n",
    "                                                            else 'Elective')\n",
    "\n",
    "\n",
    "\n",
    "diabetes['admission_source_id'] = \\\n",
    "diabetes['admission_source_id'].apply(lambda x : 'Referral' if int(x) in [5, 6, 8]\n",
    "                                            else ('Emergency Room' if int(x) in [7]\n",
    "                                            else 'Other'))\n"
   ]
  },
  {
   "cell_type": "markdown",
   "id": "872e27af",
   "metadata": {},
   "source": []
  },
  {
   "cell_type": "markdown",
   "id": "f79c1f91",
   "metadata": {},
   "source": [
    "## Investigating Multiple Readmissions\n",
    "Some patients show up more than once in our dataset. It is a very small subset of the larger dataset so we first start with considering only once patient visit - which, in our case, would be the very last occurance for that patient. "
   ]
  },
  {
   "cell_type": "code",
   "execution_count": 16,
   "id": "4b7422c8",
   "metadata": {},
   "outputs": [],
   "source": [
    "## Count the number of multiple readmissions for a single patient\n",
    "# data = diabetes[diabetes['readmitted'] != 'NO']\n",
    "# unique_patients = data[['patient_nbr']]\n",
    "# unique_patients = unique_patients['patient_nbr'].value_counts().to_frame()\n",
    "# unique_patients[\"index\"] = unique_patients.index\n",
    "# len(unique_patients[unique_patients[\"patient_nbr\"] > 1])"
   ]
  },
  {
   "cell_type": "code",
   "execution_count": 17,
   "id": "1517e0a6",
   "metadata": {},
   "outputs": [
    {
     "data": {
      "text/plain": [
       "(71515, 49)"
      ]
     },
     "execution_count": 17,
     "metadata": {},
     "output_type": "execute_result"
    }
   ],
   "source": [
    "diabetes = diabetes.drop_duplicates(subset= 'patient_nbr', keep='last')\n",
    "diabetes.shape"
   ]
  },
  {
   "cell_type": "markdown",
   "id": "5a0f39f2",
   "metadata": {},
   "source": [
    "## Investigating Missing Values (?) \n",
    "Features with missing values: <br>\n",
    "**Weight** - replaced it with the mode <br>\n",
    "Another way to impute the missing weights would have been to find the closest neighbors. For us, a \"neighbor\" would be another patient with similar comorbidities. These comorbidities could be respresented in multiple ways such as (1) diagonasis (dia_1, 2, and 3) 2) number of meds, <br>\n",
    "**Race** - replaced it with \"UNK\" <br>\n",
    "**Medical Speciality** - replaced it with \"UNK\" <br>\n",
    "**Payer Code** - replaced it with \"UNK\" <br>\n",
    "\n",
    "(**diag_1, diag_2, diag_3** also had missing values but those have already been handled above)"
   ]
  },
  {
   "cell_type": "code",
   "execution_count": 18,
   "id": "5d2343cc",
   "metadata": {},
   "outputs": [
    {
     "name": "stdout",
     "output_type": "stream",
     "text": [
      "race 1876\n",
      "weight 68668\n",
      "payer_code 30084\n",
      "medical_specialty 34523\n"
     ]
    }
   ],
   "source": [
    "for col in diabetes.columns:\n",
    "    if diabetes[col].dtype == object:\n",
    "        count = diabetes[col][diabetes[col] == '?'].count()\n",
    "        if count > 0:\n",
    "            print(col, count)"
   ]
  },
  {
   "cell_type": "code",
   "execution_count": 19,
   "id": "43e2f936",
   "metadata": {},
   "outputs": [],
   "source": [
    "## Weights: Because most weights are missing, we replace the ? with most common weight\n",
    "diabetes['weight'] = np.where((diabetes['weight'] == \"?\"),\"[75-100)\",diabetes['weight'])\n",
    "## Race: replace with UNK\n",
    "diabetes['race'] = np.where((diabetes['race'] == \"?\"),\"UNK\",diabetes['race'])\n",
    "## Medical Speciality: replace with UNK\n",
    "diabetes['medical_specialty'] = np.where((diabetes['medical_specialty'] == \"?\"),\"UNK\",diabetes['medical_specialty'])\n",
    "## payer_code: replace with UNK\n",
    "diabetes['payer_code'] = np.where((diabetes['race'] == \"?\"),\"UNK\",diabetes['payer_code'])"
   ]
  },
  {
   "cell_type": "code",
   "execution_count": 20,
   "id": "ebced3ab",
   "metadata": {},
   "outputs": [],
   "source": [
    "# drop payer_code because it doesn't seem to explain very much \n",
    "# drop medical speciality because it has too many missing values\n",
    "feat_cat = [f for f in feat_cat if f not in ('payer_code', 'medical speciality')]"
   ]
  },
  {
   "cell_type": "markdown",
   "id": "0f0817d1",
   "metadata": {},
   "source": [
    "### Data after Preprocessing"
   ]
  },
  {
   "cell_type": "code",
   "execution_count": 21,
   "id": "f0b25a87",
   "metadata": {},
   "outputs": [],
   "source": [
    "X = diabetes[feat_num + feat_cat]\n",
    "y = diabetes['readmitted']"
   ]
  },
  {
   "cell_type": "markdown",
   "id": "1e80e33e",
   "metadata": {},
   "source": [
    "# Train Test Split"
   ]
  },
  {
   "cell_type": "code",
   "execution_count": 22,
   "id": "9c65de8a",
   "metadata": {},
   "outputs": [],
   "source": [
    "Xtr, Xte, Ytr, Yte = train_test_split(X, y, test_size=0.3, random_state=1)"
   ]
  },
  {
   "cell_type": "markdown",
   "id": "c0993a94",
   "metadata": {},
   "source": [
    "# Feature Selection"
   ]
  },
  {
   "cell_type": "markdown",
   "id": "bc6f7850",
   "metadata": {},
   "source": [
    "## Feature Scaling - should we scale before train_test_split???\n",
    "As a first step, we will only normalize the numerical features. Later on, we will consider normalizing all features (for instance, if we use a multivariate feature selection model such as Lasso)"
   ]
  },
  {
   "cell_type": "code",
   "execution_count": 23,
   "id": "f20b6d4e",
   "metadata": {},
   "outputs": [],
   "source": [
    "# convert numerical features from strings to floats\n",
    "for f in feat_num:\n",
    "    diabetes[f] = pd.to_numeric(diabetes[f],errors= 'coerce')\n",
    "    \n",
    "scaler = StandardScaler()\n",
    "\n",
    "# scaling training data\n",
    "Xtr_num = Xtr[feat_num]\n",
    "scaler.fit(Xtr_num)\n",
    "Xtr_numSc = scaler.fit_transform(Xtr_num)\n",
    "\n",
    "# transforming test data based on the fit from training data\n",
    "Xte_num = Xte[feat_num]\n",
    "Xte_numSc = scaler.transform(Xte_num)"
   ]
  },
  {
   "cell_type": "code",
   "execution_count": 24,
   "id": "93c2f84a",
   "metadata": {},
   "outputs": [],
   "source": [
    "# construct the new training data with scaled features\n",
    "Xtr_cat = np.array(Xtr[feat_cat])\n",
    "Xtr = np.concatenate([Xtr_numSc, Xtr_cat], axis = 1)\n",
    "Xtr = pd.DataFrame(Xtr)\n",
    "Xtr.columns = [feat_num + feat_cat]\n",
    "\n",
    "# construct the new test data with the scaled features\n",
    "Xte_cat = np.array(Xte[feat_cat])\n",
    "Xte = np.concatenate([Xte_numSc, Xte_cat], axis = 1)\n",
    "Xte = pd.DataFrame(Xte)\n",
    "Xte.columns = [feat_num + feat_cat]"
   ]
  },
  {
   "cell_type": "markdown",
   "id": "777eac74",
   "metadata": {},
   "source": [
    "## Feature Selection - Numerical Features  (Principal Component Analysis)"
   ]
  },
  {
   "cell_type": "code",
   "execution_count": 25,
   "id": "e8e015a2",
   "metadata": {},
   "outputs": [
    {
     "data": {
      "image/png": "[encoded data removed]",
      "text/plain": [
       "<Figure size 864x432 with 1 Axes>"
      ]
     },
     "metadata": {
      "needs_background": "light"
     },
     "output_type": "display_data"
    }
   ],
   "source": [
    "pca = PCA().fit(Xtr_numSc)\n",
    "\n",
    "plt.rcParams[\"figure.figsize\"] = (12,6)\n",
    "\n",
    "fig, ax = plt.subplots()\n",
    "xi = np.arange(1, 8, step=1)\n",
    "Var = np.cumsum(pca.explained_variance_ratio_)\n",
    "\n",
    "plt.ylim(0.0,1.1)\n",
    "plt.plot(xi, Var, marker='o', linestyle='--', color='b')\n",
    "\n",
    "plt.xlabel('Number of Components')\n",
    "plt.xticks(np.arange(0, 11, step=1)) #change from 0-based array index to 1-based human-readable label\n",
    "plt.ylabel('Cumulative variance (%)')\n",
    "plt.title('The number of components needed to explain variance')\n",
    "\n",
    "plt.axhline(y=0.90, color='r', linestyle='-')\n",
    "plt.text(0.5, 0.85, '90% cut-off threshold', color = 'red', fontsize=16)\n",
    "\n",
    "ax.grid(axis='x')\n",
    "plt.show()"
   ]
  },
  {
   "cell_type": "code",
   "execution_count": 26,
   "id": "44fa0412",
   "metadata": {},
   "outputs": [],
   "source": [
    "# compoonents that explain 90% of the variances \n",
    "pca = PCA(n_components=5)\n",
    "\n",
    "# fit PCA on the training data\n",
    "XtrPCA_num = pca.fit_transform(Xtr_numSc)\n",
    "XtrPCA_num = pd.DataFrame(XtrPCA_num)\n",
    "XtrPCA_num.columns = ['PC1', 'PC2', 'PC3', 'PC4', 'PC5']\n",
    "# XtrPCA_num\n",
    "\n",
    "# transform test data based on the PCA fit from training\n",
    "XtePCA_num = pca.transform(Xte_numSc)\n",
    "XtePCA_num = pd.DataFrame(XtePCA_num)\n",
    "XtePCA_num.columns = ['PC1', 'PC2', 'PC3', 'PC4', 'PC5']\n",
    "# XtePCA_num"
   ]
  },
  {
   "cell_type": "code",
   "execution_count": null,
   "id": "150d947c",
   "metadata": {},
   "outputs": [],
   "source": []
  },
  {
   "cell_type": "markdown",
   "id": "b5b7c32f",
   "metadata": {},
   "source": [
    "## Feature Selection - Categorical Features "
   ]
  },
  {
   "cell_type": "markdown",
   "id": "474dac14",
   "metadata": {},
   "source": [
    "### Step 1: Investigate the value count for each medication\n",
    "If we realize that hardly anyone was prescribed that medication, it is perhaps a good idea to not consider it in our analysis <br>\n",
    "\n",
    "We run the risk of excluding patients that were specifically chosen for rare medications which hardly prescribed (and hence eliminated from our feature set). "
   ]
  },
  {
   "cell_type": "code",
   "execution_count": 27,
   "id": "6683c86a",
   "metadata": {},
   "outputs": [],
   "source": [
    "threshold = 70000\n",
    "\n",
    "med_count = defaultdict(list)\n",
    "\n",
    "for med in medications:\n",
    "    # count the number of Nos, Ups, Downs, and Steadys for each medication\n",
    "    med_count[med].append(list(diabetes[med].value_counts()))\n",
    "    \n",
    "    # if the number of Nos is > 100K, disregard the medication for now \n",
    "    if med_count[med][0][0] > threshold:\n",
    "        med_count.pop(med)\n",
    "med_count\n",
    "meds_new = list(med_count)\n",
    "# meds_new"
   ]
  },
  {
   "cell_type": "markdown",
   "id": "64f61066",
   "metadata": {},
   "source": [
    "### Step 2: Chi Square"
   ]
  },
  {
   "cell_type": "markdown",
   "id": "f8af04a4",
   "metadata": {},
   "source": [
    "Lets first try to find any relations between the medication features <br>"
   ]
  },
  {
   "cell_type": "markdown",
   "id": "f531a642",
   "metadata": {},
   "source": [
    "#### Approach 1: Cross Tabulation\n",
    "$D$ = Number of Medication features <br>\n",
    "Null Hypothesis ($H_O$): Features are independent - there is no relationship between features $x^i$ and $x^j$ where $i, j$ $\\in$ $(1,...,D)$ <br>\n",
    "Alternate Hypothesis ($H_1$): Features are independent - there is a relationship between features <br>\n",
    "Let's consider p-value for $H_O$ = .05 $\\Rightarrow$ if p-value for a relation is < .05, then we fail to reject $H_O$ <br>\n",
    "\n",
    "As we can see, none of our p-values are greater than the significance level, so we fail to reject the null hypothesis for any of them. Thus, we continue to consider all the medication features to be independent from each other. "
   ]
  },
  {
   "cell_type": "code",
   "execution_count": 28,
   "id": "18988770",
   "metadata": {},
   "outputs": [],
   "source": [
    "chi_p = [[0]*7 for _ in range(7)]\n",
    "for med1 in meds_new:\n",
    "    for med2 in meds_new:\n",
    "        chi_p[meds_new.index(med1)][meds_new.index(med2)] = chi2_contingency(pd.crosstab(diabetes[med1], diabetes[med2]))[1]\n",
    "chi_p = np.array(chi_p)   \n",
    "# chi_p       "
   ]
  },
  {
   "cell_type": "markdown",
   "id": "19f23f43",
   "metadata": {},
   "source": [
    "#### Approach 2: Ordinal / One Hot Encoding\n",
    "come back to it"
   ]
  },
  {
   "cell_type": "code",
   "execution_count": 29,
   "id": "d8b7e50b",
   "metadata": {},
   "outputs": [],
   "source": [
    "# # encode some catagorical features in the input data\n",
    "# def prepare_inputs(Xtr, Xte):\n",
    "#     ordEnc = OrdinalEncoder()\n",
    "#     ordEnc.fit(Xte)\n",
    "#     XtrEnc = ordEnc.transform(Xtr)\n",
    "#     XteEnc = ordEnc.transform(Xte)\n",
    "#     return XtrEnc, XteEnc\n",
    " \n",
    "# # encode the target feature (categorical)\n",
    "# def prepare_targets(Ytr, Yte):\n",
    "#     labEnc = LabelEncoder()\n",
    "#     labEnc.fit(Ytr)\n",
    "#     YtrEnc = labEnc.transform(Ytr)\n",
    "#     YteEnc = le.transform(Yte)\n",
    "#     return YtrEnc, YteEnc\n",
    " \n",
    "# # feature selection\n",
    "# ## concern - this can only work if we only have categorical features \n",
    "# def select_features(Xtr, Xte, Ytr):\n",
    "#     featSel = SelectKBest(score_func=chi2, k='all')\n",
    "#     featSel.fit(Xtr, Ytr)\n",
    "#     XtrSel = featSel.transform(Xtr)\n",
    "#     XteSel = featSel.transform(Xte)\n",
    "#     return XtrSel, XteSel, featSel"
   ]
  },
  {
   "cell_type": "markdown",
   "id": "21d7bc47",
   "metadata": {},
   "source": [
    "### Final set of categorical features"
   ]
  },
  {
   "cell_type": "code",
   "execution_count": 30,
   "id": "b4f113c2",
   "metadata": {},
   "outputs": [],
   "source": [
    "# disposition id replaced by the booleans\n",
    "feat_catN = ['gender', 'age', 'weight', 'admission_type_id', 'admission_source_id', 'disposition_boolean',\n",
    "           'time_in_hospital'] + diag_feat + meds_new + ['change', 'diabetesMed']"
   ]
  },
  {
   "cell_type": "code",
   "execution_count": 31,
   "id": "1a4cdc93",
   "metadata": {},
   "outputs": [],
   "source": [
    "Xtr_cat = Xtr[feat_catN]\n",
    "Xte_cat = Xte[feat_catN]"
   ]
  },
  {
   "cell_type": "markdown",
   "id": "48941fad",
   "metadata": {},
   "source": [
    "## Final Train and Test Data with Selected Catagorical Features and PCAs "
   ]
  },
  {
   "cell_type": "code",
   "execution_count": 32,
   "id": "3266444a",
   "metadata": {},
   "outputs": [],
   "source": [
    "features = list(XtrPCA_num.columns) + feat_catN\n",
    "\n",
    "# final training data \n",
    "Xtr = np.concatenate([np.array(XtrPCA_num), np.array(Xtr_cat)], axis = 1)\n",
    "Xtr = pd.DataFrame(Xtr)\n",
    "Xtr.columns = features\n",
    "# Xtr\n",
    "\n",
    "# final test data\n",
    "Xte = np.concatenate([np.array(XtePCA_num), np.array(Xte_cat)], axis = 1)\n",
    "Xte = pd.DataFrame(Xte)\n",
    "Xte.columns = features\n",
    "# Xte"
   ]
  },
  {
   "cell_type": "markdown",
   "id": "3a907f61",
   "metadata": {},
   "source": [
    "## One Hot Encode the Final Set of Categorical Features (If needed)"
   ]
  },
  {
   "cell_type": "code",
   "execution_count": 33,
   "id": "25326d9e",
   "metadata": {},
   "outputs": [],
   "source": [
    "# Features to One Hot Encode\n",
    "feat_OHE = ['gender', 'weight', 'admission_type_id', 'admission_source_id', 'disposition_boolean'] + \\\n",
    "            diag_feat + meds_new + ['change', 'diabetesMed']\n",
    "Xtr_OHE = Xtr[feat_OHE]\n",
    "\n",
    "\n",
    "# fit OHE on to the training data\n",
    "OHE = OneHotEncoder(categories='auto')\n",
    "Xtr_OHE = OHE.fit_transform(Xtr_OHE).toarray()\n",
    "Xtr_OHE = pd.DataFrame(Xtr_OHE)\n",
    "\n",
    "# transform OHE fit into test data\n",
    "Xte_OHE = Xte[feat_OHE]\n",
    "Xte_OHE = OHE.transform(Xte_OHE).toarray()\n",
    "Xte_OHE = pd.DataFrame(Xte_OHE)"
   ]
  },
  {
   "cell_type": "code",
   "execution_count": 34,
   "id": "fdd964d2",
   "metadata": {},
   "outputs": [],
   "source": [
    "# extract column names for OHE categories\n",
    "OHE_cols = []\n",
    "OHE_cols_ = OHE.categories_\n",
    "for col, vals in zip(Xtr_OHE.columns, OHE_cols_):\n",
    "    for val in vals:\n",
    "        name = str(col) + '_' + str(val)\n",
    "        OHE_cols.append(name)\n",
    "\n",
    "Xtr_OHE.columns = OHE_cols\n",
    "Xte_OHE.columns = OHE_cols"
   ]
  },
  {
   "cell_type": "code",
   "execution_count": 35,
   "id": "4ee3e6e6",
   "metadata": {},
   "outputs": [],
   "source": [
    "Xtr = pd.concat([XtrPCA_num, Xtr_OHE], axis = 1)\n",
    "Xte = pd.concat([XtePCA_num, Xte_OHE], axis = 1)"
   ]
  },
  {
   "cell_type": "code",
   "execution_count": 36,
   "id": "153149df",
   "metadata": {},
   "outputs": [
    {
     "data": {
      "text/plain": [
       "(50060, 76)"
      ]
     },
     "execution_count": 36,
     "metadata": {},
     "output_type": "execute_result"
    }
   ],
   "source": [
    "Xtr.shape"
   ]
  },
  {
   "cell_type": "code",
   "execution_count": 37,
   "id": "8aab30f9",
   "metadata": {},
   "outputs": [
    {
     "data": {
      "text/plain": [
       "(21455, 76)"
      ]
     },
     "execution_count": 37,
     "metadata": {},
     "output_type": "execute_result"
    }
   ],
   "source": [
    "Xte.shape"
   ]
  },
  {
   "cell_type": "markdown",
   "id": "34d88ced",
   "metadata": {},
   "source": [
    "# Train Models\n",
    "We try to predict 3 things: <br>\n",
    "1) Readmissions <br>\n",
    "2) Readmissions <30 and >30 days <br>\n",
    "3) Multiple Readmissions <br>"
   ]
  },
  {
   "cell_type": "markdown",
   "id": "1309c99e",
   "metadata": {},
   "source": [
    "# Problem 1: Predict Readmissions"
   ]
  },
  {
   "cell_type": "code",
   "execution_count": 38,
   "id": "4d757810",
   "metadata": {},
   "outputs": [],
   "source": [
    "# divide data into 2 classes: readmitted or not \n",
    "Ytr = (Ytr!=\"NO\").astype(int).reset_index(drop = True)\n",
    "Yte = (Yte!=\"NO\").astype(int).reset_index(drop = True)"
   ]
  },
  {
   "cell_type": "code",
   "execution_count": 39,
   "id": "52b753d5",
   "metadata": {},
   "outputs": [],
   "source": [
    "# oversampling\n",
    "smote = SMOTE(random_state= 100)\n",
    "XtrOs, YtrOs = smote.fit_resample(Xtr, Ytr)"
   ]
  },
  {
   "cell_type": "code",
   "execution_count": 40,
   "id": "7a58e1d3",
   "metadata": {},
   "outputs": [],
   "source": [
    "# # undersampling (approach 1)\n",
    "# DataTr = pd.concat([Xtr, Ytr], axis = 1)\n",
    "# tr0 = DataTr[Ytr==0][0:sum(Ytr==1)].sample(frac=1).reset_index(drop=True)\n",
    "# tr1 = DataTr[Ytr==1]\n",
    "# DataTr = pd.concat([tr0, tr1], axis = 0)\n",
    "# XtrUs = DataTr.iloc[:, :-1]\n",
    "# YtrUs = DataTr.iloc[:, -1]"
   ]
  },
  {
   "cell_type": "code",
   "execution_count": 41,
   "id": "568881b8",
   "metadata": {},
   "outputs": [],
   "source": [
    "rus = RandomUnderSampler(random_state=0)\n",
    "rus.fit(Xtr, Ytr)\n",
    "XtrUs, YtrUs = rus.fit_resample(Xtr, Ytr)"
   ]
  },
  {
   "cell_type": "markdown",
   "id": "111f24cb",
   "metadata": {},
   "source": [
    "## Model 1: Logistic Regression\n",
    "\n",
    "We run 6 different logistic regression models: <br>\n",
    "1) logReg_Bal_L1 <br>\n",
    ">   a) Balanced dataset <br>\n",
    "    b) L1 Regularization (Lasso) <br>\n",
    "\n",
    "2) logReg_Bal_L2 <br>\n",
    ">   a) Balanced dataset <br>\n",
    "    b) L2 Regularization (Ridge) <br>\n",
    "\n",
    "3) logReg_Smote_L1 <br>\n",
    ">   a) Balanced dataset <br>\n",
    "    b) L1 Regularization (Lass) <br>\n",
    "\n",
    "4) logReg_Smote_L2 <br>\n",
    ">   a) Balanced dataset <br>\n",
    "    b) L2 Regularization (Ridge) <br>"
   ]
  },
  {
   "cell_type": "code",
   "execution_count": 42,
   "id": "0ccf3734",
   "metadata": {},
   "outputs": [],
   "source": [
    "# running logistic regression on balanced dataset, while including L1 Regularization (Lasso)\n",
    "\n",
    "\n",
    "logReg_Bal_L1 = LogisticRegression(fit_intercept = True, class_weight= 'balanced', \n",
    "                                   penalty = 'l1', solver='liblinear')\n",
    "\n",
    "# running logistic regression on balanced dataset, while including L2 Regularization (Ridge)\n",
    "logReg_Bal_L2 = LogisticRegression(fit_intercept = True, class_weight= 'balanced', \n",
    "                                   penalty = 'l1', solver='liblinear')\n",
    "\n",
    "# running logistic regression using SMOTE with unbalanced dataset, while including L1 Regularization (Lasso)\n",
    "logReg_Smote_L1 = LogisticRegression(fit_intercept = True, \n",
    "                                   penalty = 'l1', solver='liblinear')\n",
    "\n",
    "\n",
    "# running logistic regression using SMOTE with unbalanced dataset, while including L2 Regularization (Ridge)\n",
    "logReg_Smote_L2 = LogisticRegression(fit_intercept = True, \n",
    "                                   penalty = 'l1', solver='liblinear')                                                                                                                     "
   ]
  },
  {
   "cell_type": "markdown",
   "id": "72a6e23f",
   "metadata": {},
   "source": [
    "### Cross Validation"
   ]
  },
  {
   "cell_type": "code",
   "execution_count": 43,
   "id": "81b772ea",
   "metadata": {},
   "outputs": [],
   "source": [
    "# Undersampled\n",
    "logReg_models = [logReg_Bal_L1, logReg_Bal_L2, logReg_Smote_L1, logReg_Smote_L2]\n",
    "\n",
    "def CV_Us(model, K = 5):\n",
    "    cv_list = defaultdict(list)\n",
    "    for m in model:\n",
    "        cv_list[m].append(cross_val_score(m, XtrUs, YtrUs, cv = K).mean())    \n",
    "    return cv_list\n",
    "\n",
    "cv_Us = CV_Us(logReg_models, 5)\n",
    "\n",
    "# we get the highest accuracy with the Smote, Unbalanced"
   ]
  },
  {
   "cell_type": "code",
   "execution_count": 44,
   "id": "9f765d41",
   "metadata": {},
   "outputs": [],
   "source": [
    "# Oversampled\n",
    "logReg_models = [logReg_Bal_L1, logReg_Bal_L2, logReg_Smote_L1, logReg_Smote_L2]\n",
    "\n",
    "def CV_Os(model, K = 5):\n",
    "    cv_list = defaultdict(list)\n",
    "    for m in model:\n",
    "        cv_list[m].append(cross_val_score(m, XtrOs, YtrOs, cv = K).mean())    \n",
    "    return cv_list\n",
    "\n",
    "cv_Os = CV_Os(logReg_models, 5)\n",
    "\n",
    "# we get the highest accuracy with the Smote and L1 regularization"
   ]
  },
  {
   "cell_type": "code",
   "execution_count": 45,
   "id": "d103ce2a",
   "metadata": {},
   "outputs": [],
   "source": [
    "# Training on Undersampled Data\n",
    "logReg_Smote_L1 = logReg_Smote_L1.fit(XtrUs, YtrUs)\n",
    "YteH_Us = logReg_Smote_L1.predict(Xte)\n",
    "fprUs, tprUs, threshold = metrics.roc_curve(Yte, YteH_Us)\n",
    "roc_auc_Us = metrics.auc(fprUs, tprUs)"
   ]
  },
  {
   "cell_type": "code",
   "execution_count": 46,
   "id": "248a0328",
   "metadata": {},
   "outputs": [],
   "source": [
    "# Training on Oversampled Data\n",
    "logReg_Smote_L1 = logReg_Smote_L1.fit(XtrOs, YtrOs)\n",
    "YteH_Os = logReg_Smote_L1.predict(Xte)\n",
    "fprOs, tprOs, threshold = metrics.roc_curve(Yte, YteH_Os)\n",
    "roc_auc_Os = metrics.auc(fprOs, tprOs)"
   ]
  },
  {
   "cell_type": "markdown",
   "id": "a83fcb7a",
   "metadata": {},
   "source": [
    "### ROCs"
   ]
  },
  {
   "cell_type": "code",
   "execution_count": 47,
   "id": "56d5d563",
   "metadata": {},
   "outputs": [
    {
     "data": {
      "image/png": "[encoded data removed]",
      "text/plain": [
       "<Figure size 864x432 with 1 Axes>"
      ]
     },
     "metadata": {
      "needs_background": "light"
     },
     "output_type": "display_data"
    }
   ],
   "source": [
    "plt.plot(fprUs, tprUs, 'b', label = 'UnderSampled AUC = %0.6f' % roc_auc_Us)\n",
    "plt.plot(fprOs, tprOs, 'r', label = 'OverSampled AUC = %0.6f' % roc_auc_Os)\n",
    "plt.plot([0, 1], [0, 1],'r--')\n",
    "\n",
    "plt.title('ROC Curves for Logistic Regression for Under and OverSampled Data')\n",
    "plt.legend(loc = 'lower right')\n",
    "plt.xlim([0, 1])\n",
    "plt.ylim([0, 1])\n",
    "plt.ylabel('True Positive Rate')\n",
    "plt.xlabel('False Positive Rate')\n",
    "plt.show()"
   ]
  },
  {
   "cell_type": "code",
   "execution_count": 48,
   "id": "66659e69",
   "metadata": {},
   "outputs": [
    {
     "data": {
      "text/plain": [
       "0.623217660814744"
      ]
     },
     "execution_count": 48,
     "metadata": {},
     "output_type": "execute_result"
    }
   ],
   "source": [
    "cross_val_score(logReg_Smote_L1, XtrUs, YtrUs, cv = 4).mean()"
   ]
  },
  {
   "cell_type": "code",
   "execution_count": 49,
   "id": "483e7bfa",
   "metadata": {},
   "outputs": [
    {
     "data": {
      "text/plain": [
       "2.135642389033501e-05"
      ]
     },
     "execution_count": 49,
     "metadata": {},
     "output_type": "execute_result"
    }
   ],
   "source": [
    "cross_val_score(logReg_Smote_L1, XtrUs, YtrUs, cv = 4).var()"
   ]
  },
  {
   "cell_type": "code",
   "execution_count": null,
   "id": "26af2f3f",
   "metadata": {},
   "outputs": [],
   "source": []
  },
  {
   "cell_type": "markdown",
   "id": "67bdc25d",
   "metadata": {},
   "source": [
    "# Export Data"
   ]
  },
  {
   "cell_type": "code",
   "execution_count": 50,
   "id": "ff8815fd",
   "metadata": {},
   "outputs": [],
   "source": [
    "rus = RandomUnderSampler(random_state= 100)\n",
    "rus.fit(Xtr, Ytr)\n",
    "Xtr, Ytr = rus.fit_resample(Xtr, Ytr)"
   ]
  },
  {
   "cell_type": "code",
   "execution_count": 51,
   "id": "2cffac23",
   "metadata": {},
   "outputs": [],
   "source": [
    "train_data = pd.concat([Xtr, Ytr], axis = 1)\n",
    "test_data = pd.concat([Xte, Yte], axis = 1)"
   ]
  },
  {
   "cell_type": "code",
   "execution_count": 52,
   "id": "bafc8cae",
   "metadata": {},
   "outputs": [
    {
     "data": {
      "text/plain": [
       "0    11991\n",
       "1    11991\n",
       "Name: readmitted, dtype: int64"
      ]
     },
     "execution_count": 52,
     "metadata": {},
     "output_type": "execute_result"
    }
   ],
   "source": [
    "train_data[\"readmitted\"].value_counts()"
   ]
  },
  {
   "cell_type": "code",
   "execution_count": 53,
   "id": "bec144ed",
   "metadata": {},
   "outputs": [
    {
     "data": {
      "text/plain": [
       "0    16302\n",
       "1     5153\n",
       "Name: readmitted, dtype: int64"
      ]
     },
     "execution_count": 53,
     "metadata": {},
     "output_type": "execute_result"
    }
   ],
   "source": [
    "test_data[\"readmitted\"].value_counts()"
   ]
  },
  {
   "cell_type": "code",
   "execution_count": 54,
   "id": "31240206",
   "metadata": {},
   "outputs": [],
   "source": [
    "train_data.to_csv(\"train_data.csv\")\n",
    "test_data.to_csv(\"test_data.csv\")"
   ]
  }
 ],
 "metadata": {
  "kernelspec": {
   "display_name": "Python 3 (ipykernel)",
   "language": "python",
   "name": "python3"
  },
  "language_info": {
   "codemirror_mode": {
    "name": "ipython",
    "version": 3
   },
   "file_extension": ".py",
   "mimetype": "text/x-python",
   "name": "python",
   "nbconvert_exporter": "python",
   "pygments_lexer": "ipython3",
   "version": "3.8.8"
  }
 },
 "nbformat": 4,
 "nbformat_minor": 5
}
